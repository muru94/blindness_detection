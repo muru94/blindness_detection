{
  "nbformat": 4,
  "nbformat_minor": 0,
  "metadata": {
    "colab": {
      "name": "VGG_Densenet.ipynb",
      "provenance": [],
      "collapsed_sections": [],
      "machine_shape": "hm"
    },
    "kernelspec": {
      "name": "python3",
      "display_name": "Python 3"
    },
    "language_info": {
      "name": "python"
    },
    "accelerator": "GPU"
  },
  "cells": [
    {
      "cell_type": "code",
      "metadata": {
        "id": "KDGAwBV9mBcu"
      },
      "source": [
        "#Importing packages\n",
        "import tensorflow as tf\n",
        "import os\n",
        "import numpy as np\n",
        "import pandas as pd\n",
        "from tensorflow import keras\n",
        "from tensorflow.keras.layers import Dense,Input,Conv2D,MaxPool2D,Activation,Dropout,Flatten\n",
        "from tensorflow.keras.models import Model\n",
        "import random as rn\n",
        "from tensorflow.keras.callbacks import EarlyStopping\n",
        "from tensorflow.keras.applications import VGG16\n",
        "import datetime\n",
        "import glob\n",
        "import warnings\n",
        "from tensorflow.keras import models, layers\n",
        "from sklearn.metrics import cohen_kappa_score\n",
        "import math\n",
        "from keras.regularizers import l1 ,l2\n",
        "import keras\n",
        "from tensorflow.keras.layers import BatchNormalization, Activation, Flatten\n",
        "from tensorflow.keras.optimizers import Adam, SGD\n",
        "from sklearn.metrics import confusion_matrix, classification_report\n",
        "import seaborn as sns\n",
        "from matplotlib import pyplot as plt\n",
        "\n",
        "import argparse\n",
        "from google.colab import files\n",
        "import os\n",
        "import warnings\n",
        "\n",
        "from keras.callbacks import Callback\n",
        "from keras import backend as K\n",
        "warnings.filterwarnings('ignore')"
      ],
      "execution_count": 1,
      "outputs": []
    },
    {
      "cell_type": "code",
      "metadata": {
        "colab": {
          "base_uri": "https://localhost:8080/"
        },
        "id": "DwTpYO0roHrJ",
        "outputId": "e866ff76-7a80-456e-8dc8-285495f5a007"
      },
      "source": [
        "from google.colab import drive\n",
        "drive.mount('/content/drive')"
      ],
      "execution_count": 2,
      "outputs": [
        {
          "output_type": "stream",
          "text": [
            "Mounted at /content/drive\n"
          ],
          "name": "stdout"
        }
      ]
    },
    {
      "cell_type": "code",
      "metadata": {
        "id": "5Y24VNR8oi5s"
      },
      "source": [
        "# Custom method -  to fetch the actual path & name of all the images\n",
        "def abs_path(imgs):\n",
        "    img_path = list()\n",
        "    img_fullname = list()\n",
        "    img_name = list()\n",
        "    for i in imgs:\n",
        "        img_path.append(i)\n",
        "        temp = i.split(\"/\")[-1]\n",
        "        img_fullname.append(temp)\n",
        "        temp = temp.split(\".\")[0]\n",
        "        img_name.append(str(temp))\n",
        "    return img_path, img_fullname, img_name"
      ],
      "execution_count": null,
      "outputs": []
    },
    {
      "cell_type": "code",
      "metadata": {
        "id": "XFfWZh1IpAow"
      },
      "source": [
        "images = glob.glob('/content/drive/MyDrive/Colab_Notebooks/Case_study2/preprocessed/*')\n",
        "img_path, img_fullname, img_name = abs_path(images)"
      ],
      "execution_count": null,
      "outputs": []
    },
    {
      "cell_type": "code",
      "metadata": {
        "id": "ZNWFqmTasRt0"
      },
      "source": [
        "pre_df = pd.DataFrame()\n",
        "pre_df['path'] = img_path\n",
        "pre_df['fullname'] = img_fullname\n",
        "pre_df['id_code'] = img_name"
      ],
      "execution_count": null,
      "outputs": []
    },
    {
      "cell_type": "code",
      "metadata": {
        "id": "S-MIgb30s4d_"
      },
      "source": [
        "# Reading DR grades files of 2019, Messidor & IDRiD\n",
        "train2019 = pd.read_csv('/content/drive/MyDrive/Colab_Notebooks/Case_study2/train.csv')\n",
        "train2019 = train2019[['id_code', 'diagnosis']]\n",
        "messidor = pd.read_csv('/content/drive/MyDrive/Colab_Notebooks/Case_study2/messidor_data.csv')\n",
        "messidor = messidor[['id_code', 'diagnosis']]\n",
        "idridtrain = pd.read_csv('/content/drive/MyDrive/Colab_Notebooks/Case_study2/IDRID_Training_Labels.csv')\n",
        "idridtrain = idridtrain[['id_code', 'diagnosis']]\n",
        "idridtest = pd.read_csv('/content/drive/MyDrive/Colab_Notebooks/Case_study2/IDRID_Testing_Labels.csv')\n",
        "idridtest = idridtest[['id_code', 'diagnosis']]"
      ],
      "execution_count": null,
      "outputs": []
    },
    {
      "cell_type": "code",
      "metadata": {
        "id": "gvN6c0aMtYG3"
      },
      "source": [
        "# Fetching DR grades of the respective images of 2019, IDRiD & Messidor data\n",
        "labels = list()\n",
        "id_code = list()\n",
        "for i, j in train2019.iterrows():\n",
        "    id_code.append(j['id_code'])\n",
        "    labels.append(j['diagnosis'])\n",
        "\n",
        "for i, j in messidor.iterrows():\n",
        "    id_code.append(j['id_code'].split(\".\")[0])\n",
        "    labels.append(j['diagnosis'])\n",
        "\n",
        "for i, j in idridtrain.iterrows():\n",
        "    id_code.append(j['id_code'])\n",
        "    labels.append(j['diagnosis'])\n",
        "\n",
        "for i, j in idridtest.iterrows():\n",
        "    id_code.append(j['id_code'])\n",
        "    labels.append(j['diagnosis'])"
      ],
      "execution_count": null,
      "outputs": []
    },
    {
      "cell_type": "code",
      "metadata": {
        "id": "ZhVz6xM7tbcn"
      },
      "source": [
        "train_labels = pd.DataFrame() # Storing the image file name & DR grades into the dataframe\n",
        "train_labels['id_code'] = id_code\n",
        "train_labels['diagnosis'] = labels"
      ],
      "execution_count": null,
      "outputs": []
    },
    {
      "cell_type": "code",
      "metadata": {
        "id": "8_y-86b9tfSj"
      },
      "source": [
        "# Merging the image path & DR grades \n",
        "pre_df = pd.merge(pre_df, train_labels, on='id_code', how='left')"
      ],
      "execution_count": null,
      "outputs": []
    },
    {
      "cell_type": "code",
      "metadata": {
        "id": "pqW_rs_yjuYj"
      },
      "source": [
        "pre_df = pre_df[pre_df['diagnosis'].notna()] # removing row if the DR grade is NaN"
      ],
      "execution_count": null,
      "outputs": []
    },
    {
      "cell_type": "code",
      "metadata": {
        "colab": {
          "base_uri": "https://localhost:8080/"
        },
        "id": "rvr7QlHhjxEr",
        "outputId": "05136178-4dc2-4f2a-a8f1-d00b751de101"
      },
      "source": [
        "print(pre_df[pre_df['diagnosis'].isnull()]) # Verify if there is any NaN present in the DR grades field"
      ],
      "execution_count": null,
      "outputs": [
        {
          "output_type": "stream",
          "text": [
            "Empty DataFrame\n",
            "Columns: [path, fullname, id_code, diagnosis]\n",
            "Index: []\n"
          ],
          "name": "stdout"
        }
      ]
    },
    {
      "cell_type": "code",
      "metadata": {
        "id": "05NdyJGFtxdA"
      },
      "source": [
        "dia_code = list()   # Converting the data type of DR grades field from Float to Int\n",
        "for i, j in pre_df.iterrows():\n",
        "    dia_code.append(int(j['diagnosis']))"
      ],
      "execution_count": null,
      "outputs": []
    },
    {
      "cell_type": "code",
      "metadata": {
        "id": "NZWl0TaEuM-I"
      },
      "source": [
        "del pre_df['diagnosis'] # removing the existing DR grades field with data type as Float"
      ],
      "execution_count": null,
      "outputs": []
    },
    {
      "cell_type": "code",
      "metadata": {
        "id": "li3ONq0quwqo"
      },
      "source": [
        "pre_df['diagnosis'] = dia_code # adding DR grades with data type as Int"
      ],
      "execution_count": null,
      "outputs": []
    },
    {
      "cell_type": "code",
      "metadata": {
        "id": "frA6yfQQvUt9"
      },
      "source": [
        "pre_df.to_csv('/content/drive/MyDrive/Colab_Notebooks/Case_study2/preprocessed_images.csv')"
      ],
      "execution_count": null,
      "outputs": []
    },
    {
      "cell_type": "code",
      "metadata": {
        "id": "0029mTc73QAp"
      },
      "source": [
        "pre_df=pd.read_csv('/content/drive/MyDrive/Colab_Notebooks/Case_study2/preprocessed_images.csv',dtype=str)"
      ],
      "execution_count": 3,
      "outputs": []
    },
    {
      "cell_type": "markdown",
      "metadata": {
        "id": "AiNDL9LpB6lj"
      },
      "source": [
        "**Train and test data split up** "
      ]
    },
    {
      "cell_type": "code",
      "metadata": {
        "id": "Bgfb0s3bvivZ"
      },
      "source": [
        "# train test split\n",
        "from sklearn.model_selection import train_test_split\n",
        "y = pre_df['diagnosis'].values\n",
        "X_train, X_test, y_train, y_test = train_test_split(pre_df, y, test_size=0.20, stratify=y)"
      ],
      "execution_count": 4,
      "outputs": []
    },
    {
      "cell_type": "code",
      "metadata": {
        "colab": {
          "base_uri": "https://localhost:8080/"
        },
        "id": "MfWjSmAgxflr",
        "outputId": "3d8f49a3-6c85-45f5-b0f9-af1ca0e6cc1d"
      },
      "source": [
        "print(X_train.shape)\n",
        "print(X_test.shape)\n",
        "print(y_train.shape)\n",
        "print(y_test.shape)"
      ],
      "execution_count": 5,
      "outputs": [
        {
          "output_type": "stream",
          "text": [
            "(4188, 4)\n",
            "(1047, 4)\n",
            "(4188,)\n",
            "(1047,)\n"
          ],
          "name": "stdout"
        }
      ]
    },
    {
      "cell_type": "markdown",
      "metadata": {
        "id": "pxVaSQARCYp7"
      },
      "source": [
        "**1. VGG Model**\n",
        "\n",
        "* Use VGG-16 pretrained network without Fully Connected layers and initilize all the weights with Imagenet trained weights.\n",
        "* After VGG-16 network without FC layers, use conv layers only as Fully connected layer. Reference - https://cs231n.github.io/convolutional-networks/#convert\n",
        "* Final architecture will be VGG-16 without FC layers(without top), 2 Conv layers identical to FC layers, 1 output layer for 5 class classification. INPUT --> VGG-16 without Top layers(FC) --> 2 Conv Layers identical to FC --> Output Layer\n",
        "* Train only last 2 Conv layers identical to FC layers, 1 output layer."
      ]
    },
    {
      "cell_type": "markdown",
      "metadata": {
        "id": "bUxeWbyFGoMK"
      },
      "source": [
        "**1.1 Image Augumentation**"
      ]
    },
    {
      "cell_type": "code",
      "metadata": {
        "colab": {
          "base_uri": "https://localhost:8080/"
        },
        "id": "gnrLY__55tdF",
        "outputId": "a711c267-3d58-415a-9372-c23afcd04df9"
      },
      "source": [
        "# reference URL - https://vijayabhaskar96.medium.com/tutorial-on-keras-flow-from-dataframe-1fd4493d237c\n",
        "from keras_preprocessing.image import ImageDataGenerator\n",
        "\n",
        "datagen=ImageDataGenerator(rescale=1./255., validation_split=0.20, rotation_range=15, fill_mode='nearest', width_shift_range=0.1, height_shift_range=0.1, \n",
        "                horizontal_flip=True, vertical_flip=True)\n",
        "\n",
        "train_generator=datagen.flow_from_dataframe(dataframe=X_train, directory=None, x_col=\"path\", y_col=\"diagnosis\", subset=\"training\", \n",
        "                batch_size=8, seed=10, shuffle=True, class_mode=\"categorical\", drop_duplicates = False, target_size=(320,320))\n",
        "\n",
        "valid_generator=datagen.flow_from_dataframe(dataframe=X_train, directory=None, x_col=\"path\", y_col=\"diagnosis\", subset=\"validation\", \n",
        "                        batch_size=8, seed=10, shuffle=True, class_mode=\"categorical\", drop_duplicates = False, target_size=(320,320))\n",
        "\n",
        "test_datagen=ImageDataGenerator(rescale=1./255.)\n",
        "\n",
        "test_generator=test_datagen.flow_from_dataframe(dataframe=X_test, directory=None, x_col=\"path\", \n",
        "                y_col=None, batch_size=8, seed=10, shuffle=False, class_mode=None, target_size=(320,320))"
      ],
      "execution_count": null,
      "outputs": [
        {
          "output_type": "stream",
          "text": [
            "Found 3351 validated image filenames belonging to 5 classes.\n",
            "Found 837 validated image filenames belonging to 5 classes.\n",
            "Found 1047 validated image filenames.\n"
          ],
          "name": "stdout"
        }
      ]
    },
    {
      "cell_type": "markdown",
      "metadata": {
        "id": "uLOMLb7uG8yD"
      },
      "source": [
        "**1.3 Building VGG16 Model**"
      ]
    },
    {
      "cell_type": "code",
      "metadata": {
        "colab": {
          "base_uri": "https://localhost:8080/"
        },
        "id": "KgDHPbVv8DwD",
        "outputId": "803ca05b-bb18-4b86-835a-9e0e44226c20"
      },
      "source": [
        "os.environ['PYTHONHASHSEED'] = '0'\n",
        "\n",
        "##https://keras.io/getting-started/faq/#how-can-i-obtain-reproducible-results-using-keras-during-development\n",
        "## Have to clear the session. If you are not clearing, Graph will create again and again and graph size will increses. \n",
        "## Varibles will also set to some value from before session\n",
        "tf.keras.backend.clear_session()\n",
        "\n",
        "## Set the random seed values to regenerate the model.\n",
        "np.random.seed(0)\n",
        "rn.seed(0)\n",
        "\n",
        "vgg_base = VGG16(include_top=False, weights='imagenet', input_shape=(320,320,3))\n",
        "\n",
        "# Freeze base model\n",
        "vgg_base.trainable = False\n",
        "\n",
        "#Input layer\n",
        "input_layer = Input(shape=(320,320,3))\n",
        "\n",
        "vgg_layer= vgg_base(input_layer)\n",
        "\n",
        "#Conv Layer\n",
        "Conv1 = Conv2D(128, 10, strides=1 , padding = 'valid', activation='relu')(vgg_layer)\n",
        "\n",
        "\n",
        "#MaxPool Layer\n",
        "Conv2 = Conv2D(64, 1, strides=1 , padding = 'valid', activation='relu')(Conv1)\n",
        "\n",
        "flatten = Flatten(data_format='channels_last')(Conv2)\n",
        "#output layer\n",
        "outputs = Dense(5,activation='softmax')(flatten)\n",
        "\n",
        "\n",
        "#Creating a model\n",
        "vgg_model = Model(inputs=input_layer,outputs=outputs)\n",
        "\n",
        "\n",
        "#creating object to ReduceLROnPlateau class to decay lr by 10% If validation accuracy is less than previous epoch accuracy(cond1)\n",
        "reducelrate = tf.keras.callbacks.ReduceLROnPlateau(monitor='accuracy', factor=0.96, verbose=1, patience=2, cooldown=2)\n",
        "\n",
        "#creating object to ModelCheckpoint class to Save model at every epoch if validation accuracy is improved from previous epoch\n",
        "filepath='/content/w/weights-{epoch:02d}-{accuracy:.4f}.hdf5'\n",
        "checkpoint = tf.keras.callbacks.ModelCheckpoint(filepath=filepath, save_best_only=True, monitor='val_accuracy',  verbose=1)\n",
        "\n",
        "callbacks_list = [reducelrate, checkpoint] #Merging all the callbacks in a list\n",
        "\n",
        "optimizer = tf.keras.optimizers.Adam(learning_rate=0.0001)\n",
        "\n",
        "vgg_model.compile(optimizer=optimizer, loss='categorical_crossentropy',metrics=['accuracy']) #Compiling model with cross-entropy as loss\n",
        "print(vgg_model.summary())\n"
      ],
      "execution_count": null,
      "outputs": [
        {
          "output_type": "stream",
          "text": [
            "Model: \"model\"\n",
            "_________________________________________________________________\n",
            "Layer (type)                 Output Shape              Param #   \n",
            "=================================================================\n",
            "input_2 (InputLayer)         [(None, 320, 320, 3)]     0         \n",
            "_________________________________________________________________\n",
            "vgg16 (Functional)           (None, 10, 10, 512)       14714688  \n",
            "_________________________________________________________________\n",
            "conv2d (Conv2D)              (None, 1, 1, 128)         6553728   \n",
            "_________________________________________________________________\n",
            "conv2d_1 (Conv2D)            (None, 1, 1, 64)          8256      \n",
            "_________________________________________________________________\n",
            "flatten (Flatten)            (None, 64)                0         \n",
            "_________________________________________________________________\n",
            "dense (Dense)                (None, 5)                 325       \n",
            "=================================================================\n",
            "Total params: 21,276,997\n",
            "Trainable params: 6,562,309\n",
            "Non-trainable params: 14,714,688\n",
            "_________________________________________________________________\n",
            "None\n"
          ],
          "name": "stdout"
        }
      ]
    },
    {
      "cell_type": "markdown",
      "metadata": {
        "id": "R2ygSNeWHUHl"
      },
      "source": [
        "**1.4 Training the VGG16 model**"
      ]
    },
    {
      "cell_type": "code",
      "metadata": {
        "colab": {
          "base_uri": "https://localhost:8080/"
        },
        "id": "dFJJZCzwA4Tf",
        "outputId": "c71c7b60-ce69-4830-a387-2b35311b2019"
      },
      "source": [
        "STEP_SIZE_TRAIN=train_generator.n//train_generator.batch_size\n",
        "STEP_SIZE_VALID=valid_generator.n//valid_generator.batch_size\n",
        "STEP_SIZE_TEST=test_generator.n//test_generator.batch_size\n",
        "vgg_model.fit_generator(generator=train_generator, steps_per_epoch=STEP_SIZE_TRAIN, validation_data=valid_generator,\n",
        "                    validation_steps=STEP_SIZE_VALID, epochs=40, callbacks=callbacks_list)"
      ],
      "execution_count": null,
      "outputs": [
        {
          "output_type": "stream",
          "text": [
            "Epoch 1/40\n",
            "392/392 [==============================] - 2702s 7s/step - loss: 1.0720 - accuracy: 0.6042 - val_loss: 0.9942 - val_accuracy: 0.6059\n",
            "\n",
            "Epoch 00001: val_accuracy improved from -inf to 0.60587, saving model to /content/w/weights-01-0.6042.hdf5\n",
            "Epoch 2/40\n",
            "392/392 [==============================] - 86s 219ms/step - loss: 0.9205 - accuracy: 0.6467 - val_loss: 0.9388 - val_accuracy: 0.6531\n",
            "\n",
            "Epoch 00002: val_accuracy improved from 0.60587 to 0.65306, saving model to /content/w/weights-02-0.6467.hdf5\n",
            "Epoch 3/40\n",
            "392/392 [==============================] - 86s 219ms/step - loss: 0.8916 - accuracy: 0.6451 - val_loss: 0.8613 - val_accuracy: 0.6518\n",
            "\n",
            "Epoch 00003: val_accuracy did not improve from 0.65306\n",
            "Epoch 4/40\n",
            "392/392 [==============================] - 86s 219ms/step - loss: 0.8498 - accuracy: 0.6687 - val_loss: 0.9760 - val_accuracy: 0.6237\n",
            "\n",
            "Epoch 00004: val_accuracy did not improve from 0.65306\n",
            "Epoch 5/40\n",
            "392/392 [==============================] - 86s 219ms/step - loss: 0.8206 - accuracy: 0.6716 - val_loss: 0.8844 - val_accuracy: 0.6454\n",
            "\n",
            "Epoch 00005: val_accuracy did not improve from 0.65306\n",
            "Epoch 6/40\n",
            "392/392 [==============================] - 86s 220ms/step - loss: 0.8073 - accuracy: 0.6776 - val_loss: 0.9435 - val_accuracy: 0.6173\n",
            "\n",
            "Epoch 00006: val_accuracy did not improve from 0.65306\n",
            "Epoch 7/40\n",
            "392/392 [==============================] - 86s 219ms/step - loss: 0.8009 - accuracy: 0.6802 - val_loss: 0.8059 - val_accuracy: 0.6696\n",
            "\n",
            "Epoch 00007: val_accuracy improved from 0.65306 to 0.66964, saving model to /content/w/weights-07-0.6802.hdf5\n",
            "Epoch 8/40\n",
            "392/392 [==============================] - 86s 219ms/step - loss: 0.7566 - accuracy: 0.6984 - val_loss: 0.8280 - val_accuracy: 0.6696\n",
            "\n",
            "Epoch 00008: val_accuracy did not improve from 0.66964\n",
            "Epoch 9/40\n",
            "392/392 [==============================] - 86s 220ms/step - loss: 0.7629 - accuracy: 0.7076 - val_loss: 0.7827 - val_accuracy: 0.7015\n",
            "\n",
            "Epoch 00009: val_accuracy improved from 0.66964 to 0.70153, saving model to /content/w/weights-09-0.7076.hdf5\n",
            "Epoch 10/40\n",
            "392/392 [==============================] - 86s 219ms/step - loss: 0.7603 - accuracy: 0.6977 - val_loss: 0.8008 - val_accuracy: 0.6913\n",
            "\n",
            "Epoch 00010: val_accuracy did not improve from 0.70153\n",
            "Epoch 11/40\n",
            "392/392 [==============================] - 86s 220ms/step - loss: 0.7378 - accuracy: 0.6961 - val_loss: 0.7916 - val_accuracy: 0.6773\n",
            "\n",
            "Epoch 00011: ReduceLROnPlateau reducing learning rate to 9.599999757483601e-05.\n",
            "\n",
            "Epoch 00011: val_accuracy did not improve from 0.70153\n",
            "Epoch 12/40\n",
            "392/392 [==============================] - 86s 219ms/step - loss: 0.7308 - accuracy: 0.7166 - val_loss: 0.7879 - val_accuracy: 0.6849\n",
            "\n",
            "Epoch 00012: val_accuracy did not improve from 0.70153\n",
            "Epoch 13/40\n",
            "392/392 [==============================] - 86s 221ms/step - loss: 0.7196 - accuracy: 0.7156 - val_loss: 0.7884 - val_accuracy: 0.6875\n",
            "\n",
            "Epoch 00013: val_accuracy did not improve from 0.70153\n",
            "Epoch 14/40\n",
            "392/392 [==============================] - 86s 219ms/step - loss: 0.7078 - accuracy: 0.7175 - val_loss: 0.7922 - val_accuracy: 0.6811\n",
            "\n",
            "Epoch 00014: val_accuracy did not improve from 0.70153\n",
            "Epoch 15/40\n",
            "392/392 [==============================] - 87s 221ms/step - loss: 0.6886 - accuracy: 0.7226 - val_loss: 0.7799 - val_accuracy: 0.6633\n",
            "\n",
            "Epoch 00015: val_accuracy did not improve from 0.70153\n",
            "Epoch 16/40\n",
            "392/392 [==============================] - 86s 220ms/step - loss: 0.6794 - accuracy: 0.7322 - val_loss: 0.7980 - val_accuracy: 0.6837\n",
            "\n",
            "Epoch 00016: val_accuracy did not improve from 0.70153\n",
            "Epoch 17/40\n",
            "392/392 [==============================] - 86s 220ms/step - loss: 0.6769 - accuracy: 0.7380 - val_loss: 0.7884 - val_accuracy: 0.6888\n",
            "\n",
            "Epoch 00017: val_accuracy did not improve from 0.70153\n",
            "Epoch 18/40\n",
            "392/392 [==============================] - 86s 219ms/step - loss: 0.6767 - accuracy: 0.7360 - val_loss: 0.8215 - val_accuracy: 0.6582\n",
            "\n",
            "Epoch 00018: val_accuracy did not improve from 0.70153\n",
            "Epoch 19/40\n",
            "392/392 [==============================] - 86s 220ms/step - loss: 0.6523 - accuracy: 0.7424 - val_loss: 0.7772 - val_accuracy: 0.6786\n",
            "\n",
            "Epoch 00019: val_accuracy did not improve from 0.70153\n",
            "Epoch 20/40\n",
            "392/392 [==============================] - 86s 219ms/step - loss: 0.6498 - accuracy: 0.7434 - val_loss: 0.8192 - val_accuracy: 0.6875\n",
            "\n",
            "Epoch 00020: val_accuracy did not improve from 0.70153\n",
            "Epoch 21/40\n",
            "392/392 [==============================] - 86s 221ms/step - loss: 0.6505 - accuracy: 0.7418 - val_loss: 0.7344 - val_accuracy: 0.7028\n",
            "\n",
            "Epoch 00021: val_accuracy improved from 0.70153 to 0.70281, saving model to /content/w/weights-21-0.7418.hdf5\n",
            "Epoch 22/40\n",
            "392/392 [==============================] - 87s 222ms/step - loss: 0.6334 - accuracy: 0.7482 - val_loss: 0.7478 - val_accuracy: 0.7245\n",
            "\n",
            "Epoch 00022: val_accuracy improved from 0.70281 to 0.72449, saving model to /content/w/weights-22-0.7482.hdf5\n",
            "Epoch 23/40\n",
            "392/392 [==============================] - 88s 223ms/step - loss: 0.6259 - accuracy: 0.7510 - val_loss: 0.7182 - val_accuracy: 0.7219\n",
            "\n",
            "Epoch 00023: val_accuracy did not improve from 0.72449\n",
            "Epoch 24/40\n",
            "392/392 [==============================] - 88s 224ms/step - loss: 0.6240 - accuracy: 0.7536 - val_loss: 0.7686 - val_accuracy: 0.7092\n",
            "\n",
            "Epoch 00024: val_accuracy did not improve from 0.72449\n",
            "Epoch 25/40\n",
            "392/392 [==============================] - 88s 224ms/step - loss: 0.6160 - accuracy: 0.7520 - val_loss: 0.7283 - val_accuracy: 0.7219\n",
            "\n",
            "Epoch 00025: val_accuracy did not improve from 0.72449\n",
            "Epoch 26/40\n",
            "392/392 [==============================] - 87s 223ms/step - loss: 0.6005 - accuracy: 0.7622 - val_loss: 0.8157 - val_accuracy: 0.6939\n",
            "\n",
            "Epoch 00026: val_accuracy did not improve from 0.72449\n",
            "Epoch 27/40\n",
            "392/392 [==============================] - 88s 224ms/step - loss: 0.6069 - accuracy: 0.7555 - val_loss: 0.7587 - val_accuracy: 0.6926\n",
            "\n",
            "Epoch 00027: val_accuracy did not improve from 0.72449\n",
            "Epoch 28/40\n",
            "392/392 [==============================] - 87s 223ms/step - loss: 0.5921 - accuracy: 0.7715 - val_loss: 0.7795 - val_accuracy: 0.6901\n",
            "\n",
            "Epoch 00028: val_accuracy did not improve from 0.72449\n",
            "Epoch 29/40\n",
            "392/392 [==============================] - 87s 223ms/step - loss: 0.5863 - accuracy: 0.7670 - val_loss: 0.7954 - val_accuracy: 0.6913\n",
            "\n",
            "Epoch 00029: val_accuracy did not improve from 0.72449\n",
            "Epoch 30/40\n",
            "392/392 [==============================] - 88s 223ms/step - loss: 0.5871 - accuracy: 0.7644 - val_loss: 0.7613 - val_accuracy: 0.6939\n",
            "\n",
            "Epoch 00030: ReduceLROnPlateau reducing learning rate to 9.215999627485871e-05.\n",
            "\n",
            "Epoch 00030: val_accuracy did not improve from 0.72449\n",
            "Epoch 31/40\n",
            "392/392 [==============================] - 87s 222ms/step - loss: 0.5639 - accuracy: 0.7769 - val_loss: 0.7710 - val_accuracy: 0.6952\n",
            "\n",
            "Epoch 00031: val_accuracy did not improve from 0.72449\n",
            "Epoch 32/40\n",
            "392/392 [==============================] - 87s 223ms/step - loss: 0.5566 - accuracy: 0.7810 - val_loss: 0.7781 - val_accuracy: 0.6811\n",
            "\n",
            "Epoch 00032: val_accuracy did not improve from 0.72449\n",
            "Epoch 33/40\n",
            "392/392 [==============================] - 87s 223ms/step - loss: 0.5541 - accuracy: 0.7791 - val_loss: 0.7529 - val_accuracy: 0.7079\n",
            "\n",
            "Epoch 00033: val_accuracy did not improve from 0.72449\n",
            "Epoch 34/40\n",
            "392/392 [==============================] - 87s 223ms/step - loss: 0.5632 - accuracy: 0.7801 - val_loss: 0.7796 - val_accuracy: 0.6811\n",
            "\n",
            "Epoch 00034: ReduceLROnPlateau reducing learning rate to 8.847359335049987e-05.\n",
            "\n",
            "Epoch 00034: val_accuracy did not improve from 0.72449\n",
            "Epoch 35/40\n",
            "392/392 [==============================] - 88s 223ms/step - loss: 0.5564 - accuracy: 0.7731 - val_loss: 0.7655 - val_accuracy: 0.7066\n",
            "\n",
            "Epoch 00035: val_accuracy did not improve from 0.72449\n",
            "Epoch 36/40\n",
            "392/392 [==============================] - 87s 222ms/step - loss: 0.5382 - accuracy: 0.7861 - val_loss: 0.7531 - val_accuracy: 0.7041\n",
            "\n",
            "Epoch 00036: val_accuracy did not improve from 0.72449\n",
            "Epoch 37/40\n",
            "392/392 [==============================] - 87s 222ms/step - loss: 0.5299 - accuracy: 0.7823 - val_loss: 0.8193 - val_accuracy: 0.6990\n",
            "\n",
            "Epoch 00037: val_accuracy did not improve from 0.72449\n",
            "Epoch 38/40\n",
            "392/392 [==============================] - 87s 223ms/step - loss: 0.5266 - accuracy: 0.7986 - val_loss: 0.7895 - val_accuracy: 0.6888\n",
            "\n",
            "Epoch 00038: val_accuracy did not improve from 0.72449\n",
            "Epoch 39/40\n",
            "392/392 [==============================] - 87s 222ms/step - loss: 0.5320 - accuracy: 0.7887 - val_loss: 0.7605 - val_accuracy: 0.6990\n",
            "\n",
            "Epoch 00039: val_accuracy did not improve from 0.72449\n",
            "Epoch 40/40\n",
            "392/392 [==============================] - 87s 223ms/step - loss: 0.5123 - accuracy: 0.8027 - val_loss: 0.7820 - val_accuracy: 0.7054\n",
            "\n",
            "Epoch 00040: val_accuracy did not improve from 0.72449\n"
          ],
          "name": "stdout"
        },
        {
          "output_type": "execute_result",
          "data": {
            "text/plain": [
              "<keras.callbacks.History at 0x7fa9f8108c10>"
            ]
          },
          "metadata": {},
          "execution_count": 96
        }
      ]
    },
    {
      "cell_type": "markdown",
      "metadata": {
        "id": "K34uPV1VHdDn"
      },
      "source": [
        "**1.5 Prediction on Test images**"
      ]
    },
    {
      "cell_type": "code",
      "metadata": {
        "id": "Jy9QjmpibDsK"
      },
      "source": [
        "# Generate predictions\n",
        "vgg_model.load_weights('/content/w/weights-22-0.7482.hdf5') \n",
        "\n",
        "y_pred = vgg_model.predict(test_generator)\n",
        "y_pred_class = np.argmax(y_pred, axis=1)"
      ],
      "execution_count": null,
      "outputs": []
    },
    {
      "cell_type": "markdown",
      "metadata": {
        "id": "ef0rBh7BHlr_"
      },
      "source": [
        "**1.6 Calculating Quadratic cohen kappa score**"
      ]
    },
    {
      "cell_type": "code",
      "metadata": {
        "colab": {
          "base_uri": "https://localhost:8080/"
        },
        "id": "G4pti9PRDYpp",
        "outputId": "71c5e156-6fd4-4981-e6ab-4e9ac0d189c1"
      },
      "source": [
        "cohen = cohen_kappa_score(y_pred_class, y_test.astype('int'), weights='quadratic')\n",
        "print(\"Quadratic Cohen kappa score of VGG model on test data is - %.3f\" %cohen)"
      ],
      "execution_count": null,
      "outputs": [
        {
          "output_type": "stream",
          "text": [
            "Quadratic Cohen kappa score of VGG model on test data is - 0.793\n"
          ],
          "name": "stdout"
        }
      ]
    },
    {
      "cell_type": "markdown",
      "metadata": {
        "id": "3SJ0noWVICW-"
      },
      "source": [
        "**1.7 Calculating Accuracy & Macro F1 score on test data**"
      ]
    },
    {
      "cell_type": "code",
      "metadata": {
        "colab": {
          "base_uri": "https://localhost:8080/",
          "height": 516
        },
        "id": "N29ZBuA9cvOA",
        "outputId": "ddbf7e5b-84f6-413b-960b-c4fc39645e60"
      },
      "source": [
        "print ('Classification Report : \\n', classification_report(y_test.astype('int'), y_pred_class))\n",
        "sns.heatmap(confusion_matrix(y_test.astype('int'), y_pred_class), annot=True, fmt=\"d\");\n",
        "plt.title(\"Confusion matrix\")\n",
        "plt.ylabel('Actual class')\n",
        "plt.xlabel('Predicted class')\n",
        "plt.show()"
      ],
      "execution_count": null,
      "outputs": [
        {
          "output_type": "stream",
          "text": [
            "Classification Report : \n",
            "               precision    recall  f1-score   support\n",
            "\n",
            "           0       0.85      0.93      0.89       610\n",
            "           1       0.50      0.21      0.30       151\n",
            "           2       0.61      0.75      0.67       364\n",
            "           3       0.45      0.43      0.44        89\n",
            "           4       0.59      0.25      0.35        95\n",
            "\n",
            "    accuracy                           0.72      1309\n",
            "   macro avg       0.60      0.52      0.53      1309\n",
            "weighted avg       0.70      0.72      0.69      1309\n",
            "\n"
          ],
          "name": "stdout"
        },
        {
          "output_type": "display_data",
          "data": {
            "image/png": "[encoded data removed]",
            "text/plain": [
              "<Figure size 432x288 with 2 Axes>"
            ]
          },
          "metadata": {
            "needs_background": "light"
          }
        }
      ]
    },
    {
      "cell_type": "markdown",
      "metadata": {
        "id": "nb5NfWwQIhFl"
      },
      "source": [
        "**2. DenseNet Model**\n",
        "\n",
        "* It connects each layer to every other layer in a feed-forward fashion\n",
        "* Each CNN layers with L layers have L connections - one between each layer and its subsequent layers\n",
        "* For each layer, the feature maps of all preceding layers are used as inputs into all subsequent layers."
      ]
    },
    {
      "cell_type": "markdown",
      "metadata": {
        "id": "qxOIIgJdqbjZ"
      },
      "source": [
        "**2.1 Setting up hyper-parameters**"
      ]
    },
    {
      "cell_type": "code",
      "metadata": {
        "id": "yhFB4F8EfK2D"
      },
      "source": [
        "# Hyperparameters\n",
        "batch_size = 8\n",
        "num_classes = 5\n",
        "l = 14\n",
        "num_filter = 32\n",
        "compression = 0.5\n",
        "dropout_rate = 0"
      ],
      "execution_count": 203,
      "outputs": []
    },
    {
      "cell_type": "code",
      "metadata": {
        "id": "XhQfcorlmMAQ"
      },
      "source": [
        "img_height = 32\n",
        "img_width = 32\n",
        "channel = 3"
      ],
      "execution_count": 204,
      "outputs": []
    },
    {
      "cell_type": "markdown",
      "metadata": {
        "id": "UNHhVoSSqh6X"
      },
      "source": [
        "**2.2 Defining Dense, Transition & Output block of the DenseNet model** "
      ]
    },
    {
      "cell_type": "code",
      "metadata": {
        "id": "g9OrRE4Il8fs"
      },
      "source": [
        "tf.keras.backend.clear_session()\n",
        "# Dense Block\n",
        "def denseblock(input, num_filter, dropout_rate):\n",
        "    global compression\n",
        "    temp = input\n",
        "    for _ in range(l): \n",
        "        BatchNorm = layers.BatchNormalization()(temp)\n",
        "        relu = layers.Activation('relu')(BatchNorm)\n",
        "        Conv2D_3_3 = layers.Conv2D(int(num_filter*compression), (3,3), use_bias=False ,padding='same')(relu)\n",
        "        if dropout_rate>0:\n",
        "            Conv2D_3_3 = layers.Dropout(dropout_rate)(Conv2D_3_3)\n",
        "        concat = layers.Concatenate(axis=-1)([temp,Conv2D_3_3])\n",
        "        \n",
        "        temp = concat\n",
        "        \n",
        "    return temp\n",
        "\n",
        "## transition Blosck\n",
        "def transition(input, num_filter, dropout_rate):\n",
        "    global compression\n",
        "    BatchNorm = layers.BatchNormalization()(input)\n",
        "    relu = layers.Activation('relu')(BatchNorm)\n",
        "    Conv2D_BottleNeck = layers.Conv2D(int(num_filter*compression), (1,1), use_bias=False ,padding='same')(relu)\n",
        "    if dropout_rate>0:\n",
        "         Conv2D_BottleNeck = layers.Dropout(dropout_rate)(Conv2D_BottleNeck)\n",
        "    avg = layers.AveragePooling2D(pool_size=(2,2))(Conv2D_BottleNeck)\n",
        "    return avg\n",
        "\n",
        "#output layer\n",
        "def output_layer(input):\n",
        "    global compression\n",
        "    BatchNorm = layers.BatchNormalization()(input)\n",
        "    relu = layers.Activation('relu')(BatchNorm)\n",
        "    AvgPooling = layers.AveragePooling2D(pool_size=(2,2))(relu)\n",
        "    flat = layers.Flatten()(AvgPooling)\n",
        "    output = layers.Dense(num_classes, activation='softmax')(flat)\n",
        "    return output"
      ],
      "execution_count": 208,
      "outputs": []
    },
    {
      "cell_type": "markdown",
      "metadata": {
        "id": "QhnMoGMIqyDo"
      },
      "source": [
        "**2.3 Architecure of the DenseNet model**"
      ]
    },
    {
      "cell_type": "code",
      "metadata": {
        "id": "rZIWtaGOmCaS"
      },
      "source": [
        "num_filter = 32\n",
        "dropout_rate = 0\n",
        "l = 14\n",
        "\n",
        "tf.keras.backend.clear_session()\n",
        "input = layers.Input(shape=(img_height, img_width, channel,))\n",
        "First_Conv2D = layers.Conv2D(24, (2,2), use_bias=False ,padding='same', kernel_initializer='he_uniform', bias_initializer='zeros',kernel_regularizer=l2(0.0001))(input)\n",
        "\n",
        "First_Block = denseblock(First_Conv2D, num_filter, dropout_rate)\n",
        "First_Transition = transition(First_Block, num_filter, dropout_rate)\n",
        "\n",
        "Second_Block = denseblock(First_Transition, num_filter, dropout_rate)\n",
        "Second_Transition = transition(Second_Block, num_filter, dropout_rate)\n",
        "\n",
        "Third_Block = denseblock(Second_Transition, num_filter, dropout_rate)\n",
        "Third_Transition = transition(Third_Block, num_filter, dropout_rate)\n",
        "\n",
        "Last_Block = denseblock(Third_Transition, num_filter, dropout_rate)\n",
        "output = output_layer(Last_Block)"
      ],
      "execution_count": 209,
      "outputs": []
    },
    {
      "cell_type": "code",
      "metadata": {
        "colab": {
          "base_uri": "https://localhost:8080/"
        },
        "id": "fNjso0fhmEcQ",
        "outputId": "13f6098a-38ec-4eac-8134-3dd3f08abac3"
      },
      "source": [
        "model = Model(inputs=[input], outputs=[output])\n",
        "model.summary()"
      ],
      "execution_count": 210,
      "outputs": [
        {
          "output_type": "stream",
          "text": [
            "Model: \"model\"\n",
            "__________________________________________________________________________________________________\n",
            "Layer (type)                    Output Shape         Param #     Connected to                     \n",
            "==================================================================================================\n",
            "input_1 (InputLayer)            [(None, 32, 32, 3)]  0                                            \n",
            "__________________________________________________________________________________________________\n",
            "conv2d (Conv2D)                 (None, 32, 32, 24)   288         input_1[0][0]                    \n",
            "__________________________________________________________________________________________________\n",
            "batch_normalization (BatchNorma (None, 32, 32, 24)   96          conv2d[0][0]                     \n",
            "__________________________________________________________________________________________________\n",
            "activation (Activation)         (None, 32, 32, 24)   0           batch_normalization[0][0]        \n",
            "__________________________________________________________________________________________________\n",
            "conv2d_1 (Conv2D)               (None, 32, 32, 16)   3456        activation[0][0]                 \n",
            "__________________________________________________________________________________________________\n",
            "concatenate (Concatenate)       (None, 32, 32, 40)   0           conv2d[0][0]                     \n",
            "                                                                 conv2d_1[0][0]                   \n",
            "__________________________________________________________________________________________________\n",
            "batch_normalization_1 (BatchNor (None, 32, 32, 40)   160         concatenate[0][0]                \n",
            "__________________________________________________________________________________________________\n",
            "activation_1 (Activation)       (None, 32, 32, 40)   0           batch_normalization_1[0][0]      \n",
            "__________________________________________________________________________________________________\n",
            "conv2d_2 (Conv2D)               (None, 32, 32, 16)   5760        activation_1[0][0]               \n",
            "__________________________________________________________________________________________________\n",
            "concatenate_1 (Concatenate)     (None, 32, 32, 56)   0           concatenate[0][0]                \n",
            "                                                                 conv2d_2[0][0]                   \n",
            "__________________________________________________________________________________________________\n",
            "batch_normalization_2 (BatchNor (None, 32, 32, 56)   224         concatenate_1[0][0]              \n",
            "__________________________________________________________________________________________________\n",
            "activation_2 (Activation)       (None, 32, 32, 56)   0           batch_normalization_2[0][0]      \n",
            "__________________________________________________________________________________________________\n",
            "conv2d_3 (Conv2D)               (None, 32, 32, 16)   8064        activation_2[0][0]               \n",
            "__________________________________________________________________________________________________\n",
            "concatenate_2 (Concatenate)     (None, 32, 32, 72)   0           concatenate_1[0][0]              \n",
            "                                                                 conv2d_3[0][0]                   \n",
            "__________________________________________________________________________________________________\n",
            "batch_normalization_3 (BatchNor (None, 32, 32, 72)   288         concatenate_2[0][0]              \n",
            "__________________________________________________________________________________________________\n",
            "activation_3 (Activation)       (None, 32, 32, 72)   0           batch_normalization_3[0][0]      \n",
            "__________________________________________________________________________________________________\n",
            "conv2d_4 (Conv2D)               (None, 32, 32, 16)   10368       activation_3[0][0]               \n",
            "__________________________________________________________________________________________________\n",
            "concatenate_3 (Concatenate)     (None, 32, 32, 88)   0           concatenate_2[0][0]              \n",
            "                                                                 conv2d_4[0][0]                   \n",
            "__________________________________________________________________________________________________\n",
            "batch_normalization_4 (BatchNor (None, 32, 32, 88)   352         concatenate_3[0][0]              \n",
            "__________________________________________________________________________________________________\n",
            "activation_4 (Activation)       (None, 32, 32, 88)   0           batch_normalization_4[0][0]      \n",
            "__________________________________________________________________________________________________\n",
            "conv2d_5 (Conv2D)               (None, 32, 32, 16)   12672       activation_4[0][0]               \n",
            "__________________________________________________________________________________________________\n",
            "concatenate_4 (Concatenate)     (None, 32, 32, 104)  0           concatenate_3[0][0]              \n",
            "                                                                 conv2d_5[0][0]                   \n",
            "__________________________________________________________________________________________________\n",
            "batch_normalization_5 (BatchNor (None, 32, 32, 104)  416         concatenate_4[0][0]              \n",
            "__________________________________________________________________________________________________\n",
            "activation_5 (Activation)       (None, 32, 32, 104)  0           batch_normalization_5[0][0]      \n",
            "__________________________________________________________________________________________________\n",
            "conv2d_6 (Conv2D)               (None, 32, 32, 16)   14976       activation_5[0][0]               \n",
            "__________________________________________________________________________________________________\n",
            "concatenate_5 (Concatenate)     (None, 32, 32, 120)  0           concatenate_4[0][0]              \n",
            "                                                                 conv2d_6[0][0]                   \n",
            "__________________________________________________________________________________________________\n",
            "batch_normalization_6 (BatchNor (None, 32, 32, 120)  480         concatenate_5[0][0]              \n",
            "__________________________________________________________________________________________________\n",
            "activation_6 (Activation)       (None, 32, 32, 120)  0           batch_normalization_6[0][0]      \n",
            "__________________________________________________________________________________________________\n",
            "conv2d_7 (Conv2D)               (None, 32, 32, 16)   17280       activation_6[0][0]               \n",
            "__________________________________________________________________________________________________\n",
            "concatenate_6 (Concatenate)     (None, 32, 32, 136)  0           concatenate_5[0][0]              \n",
            "                                                                 conv2d_7[0][0]                   \n",
            "__________________________________________________________________________________________________\n",
            "batch_normalization_7 (BatchNor (None, 32, 32, 136)  544         concatenate_6[0][0]              \n",
            "__________________________________________________________________________________________________\n",
            "activation_7 (Activation)       (None, 32, 32, 136)  0           batch_normalization_7[0][0]      \n",
            "__________________________________________________________________________________________________\n",
            "conv2d_8 (Conv2D)               (None, 32, 32, 16)   19584       activation_7[0][0]               \n",
            "__________________________________________________________________________________________________\n",
            "concatenate_7 (Concatenate)     (None, 32, 32, 152)  0           concatenate_6[0][0]              \n",
            "                                                                 conv2d_8[0][0]                   \n",
            "__________________________________________________________________________________________________\n",
            "batch_normalization_8 (BatchNor (None, 32, 32, 152)  608         concatenate_7[0][0]              \n",
            "__________________________________________________________________________________________________\n",
            "activation_8 (Activation)       (None, 32, 32, 152)  0           batch_normalization_8[0][0]      \n",
            "__________________________________________________________________________________________________\n",
            "conv2d_9 (Conv2D)               (None, 32, 32, 16)   21888       activation_8[0][0]               \n",
            "__________________________________________________________________________________________________\n",
            "concatenate_8 (Concatenate)     (None, 32, 32, 168)  0           concatenate_7[0][0]              \n",
            "                                                                 conv2d_9[0][0]                   \n",
            "__________________________________________________________________________________________________\n",
            "batch_normalization_9 (BatchNor (None, 32, 32, 168)  672         concatenate_8[0][0]              \n",
            "__________________________________________________________________________________________________\n",
            "activation_9 (Activation)       (None, 32, 32, 168)  0           batch_normalization_9[0][0]      \n",
            "__________________________________________________________________________________________________\n",
            "conv2d_10 (Conv2D)              (None, 32, 32, 16)   24192       activation_9[0][0]               \n",
            "__________________________________________________________________________________________________\n",
            "concatenate_9 (Concatenate)     (None, 32, 32, 184)  0           concatenate_8[0][0]              \n",
            "                                                                 conv2d_10[0][0]                  \n",
            "__________________________________________________________________________________________________\n",
            "batch_normalization_10 (BatchNo (None, 32, 32, 184)  736         concatenate_9[0][0]              \n",
            "__________________________________________________________________________________________________\n",
            "activation_10 (Activation)      (None, 32, 32, 184)  0           batch_normalization_10[0][0]     \n",
            "__________________________________________________________________________________________________\n",
            "conv2d_11 (Conv2D)              (None, 32, 32, 16)   26496       activation_10[0][0]              \n",
            "__________________________________________________________________________________________________\n",
            "concatenate_10 (Concatenate)    (None, 32, 32, 200)  0           concatenate_9[0][0]              \n",
            "                                                                 conv2d_11[0][0]                  \n",
            "__________________________________________________________________________________________________\n",
            "batch_normalization_11 (BatchNo (None, 32, 32, 200)  800         concatenate_10[0][0]             \n",
            "__________________________________________________________________________________________________\n",
            "activation_11 (Activation)      (None, 32, 32, 200)  0           batch_normalization_11[0][0]     \n",
            "__________________________________________________________________________________________________\n",
            "conv2d_12 (Conv2D)              (None, 32, 32, 16)   28800       activation_11[0][0]              \n",
            "__________________________________________________________________________________________________\n",
            "concatenate_11 (Concatenate)    (None, 32, 32, 216)  0           concatenate_10[0][0]             \n",
            "                                                                 conv2d_12[0][0]                  \n",
            "__________________________________________________________________________________________________\n",
            "batch_normalization_12 (BatchNo (None, 32, 32, 216)  864         concatenate_11[0][0]             \n",
            "__________________________________________________________________________________________________\n",
            "activation_12 (Activation)      (None, 32, 32, 216)  0           batch_normalization_12[0][0]     \n",
            "__________________________________________________________________________________________________\n",
            "conv2d_13 (Conv2D)              (None, 32, 32, 16)   31104       activation_12[0][0]              \n",
            "__________________________________________________________________________________________________\n",
            "concatenate_12 (Concatenate)    (None, 32, 32, 232)  0           concatenate_11[0][0]             \n",
            "                                                                 conv2d_13[0][0]                  \n",
            "__________________________________________________________________________________________________\n",
            "batch_normalization_13 (BatchNo (None, 32, 32, 232)  928         concatenate_12[0][0]             \n",
            "__________________________________________________________________________________________________\n",
            "activation_13 (Activation)      (None, 32, 32, 232)  0           batch_normalization_13[0][0]     \n",
            "__________________________________________________________________________________________________\n",
            "conv2d_14 (Conv2D)              (None, 32, 32, 16)   33408       activation_13[0][0]              \n",
            "__________________________________________________________________________________________________\n",
            "concatenate_13 (Concatenate)    (None, 32, 32, 248)  0           concatenate_12[0][0]             \n",
            "                                                                 conv2d_14[0][0]                  \n",
            "__________________________________________________________________________________________________\n",
            "batch_normalization_14 (BatchNo (None, 32, 32, 248)  992         concatenate_13[0][0]             \n",
            "__________________________________________________________________________________________________\n",
            "activation_14 (Activation)      (None, 32, 32, 248)  0           batch_normalization_14[0][0]     \n",
            "__________________________________________________________________________________________________\n",
            "conv2d_15 (Conv2D)              (None, 32, 32, 16)   3968        activation_14[0][0]              \n",
            "__________________________________________________________________________________________________\n",
            "average_pooling2d (AveragePooli (None, 16, 16, 16)   0           conv2d_15[0][0]                  \n",
            "__________________________________________________________________________________________________\n",
            "batch_normalization_15 (BatchNo (None, 16, 16, 16)   64          average_pooling2d[0][0]          \n",
            "__________________________________________________________________________________________________\n",
            "activation_15 (Activation)      (None, 16, 16, 16)   0           batch_normalization_15[0][0]     \n",
            "__________________________________________________________________________________________________\n",
            "conv2d_16 (Conv2D)              (None, 16, 16, 16)   2304        activation_15[0][0]              \n",
            "__________________________________________________________________________________________________\n",
            "concatenate_14 (Concatenate)    (None, 16, 16, 32)   0           average_pooling2d[0][0]          \n",
            "                                                                 conv2d_16[0][0]                  \n",
            "__________________________________________________________________________________________________\n",
            "batch_normalization_16 (BatchNo (None, 16, 16, 32)   128         concatenate_14[0][0]             \n",
            "__________________________________________________________________________________________________\n",
            "activation_16 (Activation)      (None, 16, 16, 32)   0           batch_normalization_16[0][0]     \n",
            "__________________________________________________________________________________________________\n",
            "conv2d_17 (Conv2D)              (None, 16, 16, 16)   4608        activation_16[0][0]              \n",
            "__________________________________________________________________________________________________\n",
            "concatenate_15 (Concatenate)    (None, 16, 16, 48)   0           concatenate_14[0][0]             \n",
            "                                                                 conv2d_17[0][0]                  \n",
            "__________________________________________________________________________________________________\n",
            "batch_normalization_17 (BatchNo (None, 16, 16, 48)   192         concatenate_15[0][0]             \n",
            "__________________________________________________________________________________________________\n",
            "activation_17 (Activation)      (None, 16, 16, 48)   0           batch_normalization_17[0][0]     \n",
            "__________________________________________________________________________________________________\n",
            "conv2d_18 (Conv2D)              (None, 16, 16, 16)   6912        activation_17[0][0]              \n",
            "__________________________________________________________________________________________________\n",
            "concatenate_16 (Concatenate)    (None, 16, 16, 64)   0           concatenate_15[0][0]             \n",
            "                                                                 conv2d_18[0][0]                  \n",
            "__________________________________________________________________________________________________\n",
            "batch_normalization_18 (BatchNo (None, 16, 16, 64)   256         concatenate_16[0][0]             \n",
            "__________________________________________________________________________________________________\n",
            "activation_18 (Activation)      (None, 16, 16, 64)   0           batch_normalization_18[0][0]     \n",
            "__________________________________________________________________________________________________\n",
            "conv2d_19 (Conv2D)              (None, 16, 16, 16)   9216        activation_18[0][0]              \n",
            "__________________________________________________________________________________________________\n",
            "concatenate_17 (Concatenate)    (None, 16, 16, 80)   0           concatenate_16[0][0]             \n",
            "                                                                 conv2d_19[0][0]                  \n",
            "__________________________________________________________________________________________________\n",
            "batch_normalization_19 (BatchNo (None, 16, 16, 80)   320         concatenate_17[0][0]             \n",
            "__________________________________________________________________________________________________\n",
            "activation_19 (Activation)      (None, 16, 16, 80)   0           batch_normalization_19[0][0]     \n",
            "__________________________________________________________________________________________________\n",
            "conv2d_20 (Conv2D)              (None, 16, 16, 16)   11520       activation_19[0][0]              \n",
            "__________________________________________________________________________________________________\n",
            "concatenate_18 (Concatenate)    (None, 16, 16, 96)   0           concatenate_17[0][0]             \n",
            "                                                                 conv2d_20[0][0]                  \n",
            "__________________________________________________________________________________________________\n",
            "batch_normalization_20 (BatchNo (None, 16, 16, 96)   384         concatenate_18[0][0]             \n",
            "__________________________________________________________________________________________________\n",
            "activation_20 (Activation)      (None, 16, 16, 96)   0           batch_normalization_20[0][0]     \n",
            "__________________________________________________________________________________________________\n",
            "conv2d_21 (Conv2D)              (None, 16, 16, 16)   13824       activation_20[0][0]              \n",
            "__________________________________________________________________________________________________\n",
            "concatenate_19 (Concatenate)    (None, 16, 16, 112)  0           concatenate_18[0][0]             \n",
            "                                                                 conv2d_21[0][0]                  \n",
            "__________________________________________________________________________________________________\n",
            "batch_normalization_21 (BatchNo (None, 16, 16, 112)  448         concatenate_19[0][0]             \n",
            "__________________________________________________________________________________________________\n",
            "activation_21 (Activation)      (None, 16, 16, 112)  0           batch_normalization_21[0][0]     \n",
            "__________________________________________________________________________________________________\n",
            "conv2d_22 (Conv2D)              (None, 16, 16, 16)   16128       activation_21[0][0]              \n",
            "__________________________________________________________________________________________________\n",
            "concatenate_20 (Concatenate)    (None, 16, 16, 128)  0           concatenate_19[0][0]             \n",
            "                                                                 conv2d_22[0][0]                  \n",
            "__________________________________________________________________________________________________\n",
            "batch_normalization_22 (BatchNo (None, 16, 16, 128)  512         concatenate_20[0][0]             \n",
            "__________________________________________________________________________________________________\n",
            "activation_22 (Activation)      (None, 16, 16, 128)  0           batch_normalization_22[0][0]     \n",
            "__________________________________________________________________________________________________\n",
            "conv2d_23 (Conv2D)              (None, 16, 16, 16)   18432       activation_22[0][0]              \n",
            "__________________________________________________________________________________________________\n",
            "concatenate_21 (Concatenate)    (None, 16, 16, 144)  0           concatenate_20[0][0]             \n",
            "                                                                 conv2d_23[0][0]                  \n",
            "__________________________________________________________________________________________________\n",
            "batch_normalization_23 (BatchNo (None, 16, 16, 144)  576         concatenate_21[0][0]             \n",
            "__________________________________________________________________________________________________\n",
            "activation_23 (Activation)      (None, 16, 16, 144)  0           batch_normalization_23[0][0]     \n",
            "__________________________________________________________________________________________________\n",
            "conv2d_24 (Conv2D)              (None, 16, 16, 16)   20736       activation_23[0][0]              \n",
            "__________________________________________________________________________________________________\n",
            "concatenate_22 (Concatenate)    (None, 16, 16, 160)  0           concatenate_21[0][0]             \n",
            "                                                                 conv2d_24[0][0]                  \n",
            "__________________________________________________________________________________________________\n",
            "batch_normalization_24 (BatchNo (None, 16, 16, 160)  640         concatenate_22[0][0]             \n",
            "__________________________________________________________________________________________________\n",
            "activation_24 (Activation)      (None, 16, 16, 160)  0           batch_normalization_24[0][0]     \n",
            "__________________________________________________________________________________________________\n",
            "conv2d_25 (Conv2D)              (None, 16, 16, 16)   23040       activation_24[0][0]              \n",
            "__________________________________________________________________________________________________\n",
            "concatenate_23 (Concatenate)    (None, 16, 16, 176)  0           concatenate_22[0][0]             \n",
            "                                                                 conv2d_25[0][0]                  \n",
            "__________________________________________________________________________________________________\n",
            "batch_normalization_25 (BatchNo (None, 16, 16, 176)  704         concatenate_23[0][0]             \n",
            "__________________________________________________________________________________________________\n",
            "activation_25 (Activation)      (None, 16, 16, 176)  0           batch_normalization_25[0][0]     \n",
            "__________________________________________________________________________________________________\n",
            "conv2d_26 (Conv2D)              (None, 16, 16, 16)   25344       activation_25[0][0]              \n",
            "__________________________________________________________________________________________________\n",
            "concatenate_24 (Concatenate)    (None, 16, 16, 192)  0           concatenate_23[0][0]             \n",
            "                                                                 conv2d_26[0][0]                  \n",
            "__________________________________________________________________________________________________\n",
            "batch_normalization_26 (BatchNo (None, 16, 16, 192)  768         concatenate_24[0][0]             \n",
            "__________________________________________________________________________________________________\n",
            "activation_26 (Activation)      (None, 16, 16, 192)  0           batch_normalization_26[0][0]     \n",
            "__________________________________________________________________________________________________\n",
            "conv2d_27 (Conv2D)              (None, 16, 16, 16)   27648       activation_26[0][0]              \n",
            "__________________________________________________________________________________________________\n",
            "concatenate_25 (Concatenate)    (None, 16, 16, 208)  0           concatenate_24[0][0]             \n",
            "                                                                 conv2d_27[0][0]                  \n",
            "__________________________________________________________________________________________________\n",
            "batch_normalization_27 (BatchNo (None, 16, 16, 208)  832         concatenate_25[0][0]             \n",
            "__________________________________________________________________________________________________\n",
            "activation_27 (Activation)      (None, 16, 16, 208)  0           batch_normalization_27[0][0]     \n",
            "__________________________________________________________________________________________________\n",
            "conv2d_28 (Conv2D)              (None, 16, 16, 16)   29952       activation_27[0][0]              \n",
            "__________________________________________________________________________________________________\n",
            "concatenate_26 (Concatenate)    (None, 16, 16, 224)  0           concatenate_25[0][0]             \n",
            "                                                                 conv2d_28[0][0]                  \n",
            "__________________________________________________________________________________________________\n",
            "batch_normalization_28 (BatchNo (None, 16, 16, 224)  896         concatenate_26[0][0]             \n",
            "__________________________________________________________________________________________________\n",
            "activation_28 (Activation)      (None, 16, 16, 224)  0           batch_normalization_28[0][0]     \n",
            "__________________________________________________________________________________________________\n",
            "conv2d_29 (Conv2D)              (None, 16, 16, 16)   32256       activation_28[0][0]              \n",
            "__________________________________________________________________________________________________\n",
            "concatenate_27 (Concatenate)    (None, 16, 16, 240)  0           concatenate_26[0][0]             \n",
            "                                                                 conv2d_29[0][0]                  \n",
            "__________________________________________________________________________________________________\n",
            "batch_normalization_29 (BatchNo (None, 16, 16, 240)  960         concatenate_27[0][0]             \n",
            "__________________________________________________________________________________________________\n",
            "activation_29 (Activation)      (None, 16, 16, 240)  0           batch_normalization_29[0][0]     \n",
            "__________________________________________________________________________________________________\n",
            "conv2d_30 (Conv2D)              (None, 16, 16, 16)   3840        activation_29[0][0]              \n",
            "__________________________________________________________________________________________________\n",
            "average_pooling2d_1 (AveragePoo (None, 8, 8, 16)     0           conv2d_30[0][0]                  \n",
            "__________________________________________________________________________________________________\n",
            "batch_normalization_30 (BatchNo (None, 8, 8, 16)     64          average_pooling2d_1[0][0]        \n",
            "__________________________________________________________________________________________________\n",
            "activation_30 (Activation)      (None, 8, 8, 16)     0           batch_normalization_30[0][0]     \n",
            "__________________________________________________________________________________________________\n",
            "conv2d_31 (Conv2D)              (None, 8, 8, 16)     2304        activation_30[0][0]              \n",
            "__________________________________________________________________________________________________\n",
            "concatenate_28 (Concatenate)    (None, 8, 8, 32)     0           average_pooling2d_1[0][0]        \n",
            "                                                                 conv2d_31[0][0]                  \n",
            "__________________________________________________________________________________________________\n",
            "batch_normalization_31 (BatchNo (None, 8, 8, 32)     128         concatenate_28[0][0]             \n",
            "__________________________________________________________________________________________________\n",
            "activation_31 (Activation)      (None, 8, 8, 32)     0           batch_normalization_31[0][0]     \n",
            "__________________________________________________________________________________________________\n",
            "conv2d_32 (Conv2D)              (None, 8, 8, 16)     4608        activation_31[0][0]              \n",
            "__________________________________________________________________________________________________\n",
            "concatenate_29 (Concatenate)    (None, 8, 8, 48)     0           concatenate_28[0][0]             \n",
            "                                                                 conv2d_32[0][0]                  \n",
            "__________________________________________________________________________________________________\n",
            "batch_normalization_32 (BatchNo (None, 8, 8, 48)     192         concatenate_29[0][0]             \n",
            "__________________________________________________________________________________________________\n",
            "activation_32 (Activation)      (None, 8, 8, 48)     0           batch_normalization_32[0][0]     \n",
            "__________________________________________________________________________________________________\n",
            "conv2d_33 (Conv2D)              (None, 8, 8, 16)     6912        activation_32[0][0]              \n",
            "__________________________________________________________________________________________________\n",
            "concatenate_30 (Concatenate)    (None, 8, 8, 64)     0           concatenate_29[0][0]             \n",
            "                                                                 conv2d_33[0][0]                  \n",
            "__________________________________________________________________________________________________\n",
            "batch_normalization_33 (BatchNo (None, 8, 8, 64)     256         concatenate_30[0][0]             \n",
            "__________________________________________________________________________________________________\n",
            "activation_33 (Activation)      (None, 8, 8, 64)     0           batch_normalization_33[0][0]     \n",
            "__________________________________________________________________________________________________\n",
            "conv2d_34 (Conv2D)              (None, 8, 8, 16)     9216        activation_33[0][0]              \n",
            "__________________________________________________________________________________________________\n",
            "concatenate_31 (Concatenate)    (None, 8, 8, 80)     0           concatenate_30[0][0]             \n",
            "                                                                 conv2d_34[0][0]                  \n",
            "__________________________________________________________________________________________________\n",
            "batch_normalization_34 (BatchNo (None, 8, 8, 80)     320         concatenate_31[0][0]             \n",
            "__________________________________________________________________________________________________\n",
            "activation_34 (Activation)      (None, 8, 8, 80)     0           batch_normalization_34[0][0]     \n",
            "__________________________________________________________________________________________________\n",
            "conv2d_35 (Conv2D)              (None, 8, 8, 16)     11520       activation_34[0][0]              \n",
            "__________________________________________________________________________________________________\n",
            "concatenate_32 (Concatenate)    (None, 8, 8, 96)     0           concatenate_31[0][0]             \n",
            "                                                                 conv2d_35[0][0]                  \n",
            "__________________________________________________________________________________________________\n",
            "batch_normalization_35 (BatchNo (None, 8, 8, 96)     384         concatenate_32[0][0]             \n",
            "__________________________________________________________________________________________________\n",
            "activation_35 (Activation)      (None, 8, 8, 96)     0           batch_normalization_35[0][0]     \n",
            "__________________________________________________________________________________________________\n",
            "conv2d_36 (Conv2D)              (None, 8, 8, 16)     13824       activation_35[0][0]              \n",
            "__________________________________________________________________________________________________\n",
            "concatenate_33 (Concatenate)    (None, 8, 8, 112)    0           concatenate_32[0][0]             \n",
            "                                                                 conv2d_36[0][0]                  \n",
            "__________________________________________________________________________________________________\n",
            "batch_normalization_36 (BatchNo (None, 8, 8, 112)    448         concatenate_33[0][0]             \n",
            "__________________________________________________________________________________________________\n",
            "activation_36 (Activation)      (None, 8, 8, 112)    0           batch_normalization_36[0][0]     \n",
            "__________________________________________________________________________________________________\n",
            "conv2d_37 (Conv2D)              (None, 8, 8, 16)     16128       activation_36[0][0]              \n",
            "__________________________________________________________________________________________________\n",
            "concatenate_34 (Concatenate)    (None, 8, 8, 128)    0           concatenate_33[0][0]             \n",
            "                                                                 conv2d_37[0][0]                  \n",
            "__________________________________________________________________________________________________\n",
            "batch_normalization_37 (BatchNo (None, 8, 8, 128)    512         concatenate_34[0][0]             \n",
            "__________________________________________________________________________________________________\n",
            "activation_37 (Activation)      (None, 8, 8, 128)    0           batch_normalization_37[0][0]     \n",
            "__________________________________________________________________________________________________\n",
            "conv2d_38 (Conv2D)              (None, 8, 8, 16)     18432       activation_37[0][0]              \n",
            "__________________________________________________________________________________________________\n",
            "concatenate_35 (Concatenate)    (None, 8, 8, 144)    0           concatenate_34[0][0]             \n",
            "                                                                 conv2d_38[0][0]                  \n",
            "__________________________________________________________________________________________________\n",
            "batch_normalization_38 (BatchNo (None, 8, 8, 144)    576         concatenate_35[0][0]             \n",
            "__________________________________________________________________________________________________\n",
            "activation_38 (Activation)      (None, 8, 8, 144)    0           batch_normalization_38[0][0]     \n",
            "__________________________________________________________________________________________________\n",
            "conv2d_39 (Conv2D)              (None, 8, 8, 16)     20736       activation_38[0][0]              \n",
            "__________________________________________________________________________________________________\n",
            "concatenate_36 (Concatenate)    (None, 8, 8, 160)    0           concatenate_35[0][0]             \n",
            "                                                                 conv2d_39[0][0]                  \n",
            "__________________________________________________________________________________________________\n",
            "batch_normalization_39 (BatchNo (None, 8, 8, 160)    640         concatenate_36[0][0]             \n",
            "__________________________________________________________________________________________________\n",
            "activation_39 (Activation)      (None, 8, 8, 160)    0           batch_normalization_39[0][0]     \n",
            "__________________________________________________________________________________________________\n",
            "conv2d_40 (Conv2D)              (None, 8, 8, 16)     23040       activation_39[0][0]              \n",
            "__________________________________________________________________________________________________\n",
            "concatenate_37 (Concatenate)    (None, 8, 8, 176)    0           concatenate_36[0][0]             \n",
            "                                                                 conv2d_40[0][0]                  \n",
            "__________________________________________________________________________________________________\n",
            "batch_normalization_40 (BatchNo (None, 8, 8, 176)    704         concatenate_37[0][0]             \n",
            "__________________________________________________________________________________________________\n",
            "activation_40 (Activation)      (None, 8, 8, 176)    0           batch_normalization_40[0][0]     \n",
            "__________________________________________________________________________________________________\n",
            "conv2d_41 (Conv2D)              (None, 8, 8, 16)     25344       activation_40[0][0]              \n",
            "__________________________________________________________________________________________________\n",
            "concatenate_38 (Concatenate)    (None, 8, 8, 192)    0           concatenate_37[0][0]             \n",
            "                                                                 conv2d_41[0][0]                  \n",
            "__________________________________________________________________________________________________\n",
            "batch_normalization_41 (BatchNo (None, 8, 8, 192)    768         concatenate_38[0][0]             \n",
            "__________________________________________________________________________________________________\n",
            "activation_41 (Activation)      (None, 8, 8, 192)    0           batch_normalization_41[0][0]     \n",
            "__________________________________________________________________________________________________\n",
            "conv2d_42 (Conv2D)              (None, 8, 8, 16)     27648       activation_41[0][0]              \n",
            "__________________________________________________________________________________________________\n",
            "concatenate_39 (Concatenate)    (None, 8, 8, 208)    0           concatenate_38[0][0]             \n",
            "                                                                 conv2d_42[0][0]                  \n",
            "__________________________________________________________________________________________________\n",
            "batch_normalization_42 (BatchNo (None, 8, 8, 208)    832         concatenate_39[0][0]             \n",
            "__________________________________________________________________________________________________\n",
            "activation_42 (Activation)      (None, 8, 8, 208)    0           batch_normalization_42[0][0]     \n",
            "__________________________________________________________________________________________________\n",
            "conv2d_43 (Conv2D)              (None, 8, 8, 16)     29952       activation_42[0][0]              \n",
            "__________________________________________________________________________________________________\n",
            "concatenate_40 (Concatenate)    (None, 8, 8, 224)    0           concatenate_39[0][0]             \n",
            "                                                                 conv2d_43[0][0]                  \n",
            "__________________________________________________________________________________________________\n",
            "batch_normalization_43 (BatchNo (None, 8, 8, 224)    896         concatenate_40[0][0]             \n",
            "__________________________________________________________________________________________________\n",
            "activation_43 (Activation)      (None, 8, 8, 224)    0           batch_normalization_43[0][0]     \n",
            "__________________________________________________________________________________________________\n",
            "conv2d_44 (Conv2D)              (None, 8, 8, 16)     32256       activation_43[0][0]              \n",
            "__________________________________________________________________________________________________\n",
            "concatenate_41 (Concatenate)    (None, 8, 8, 240)    0           concatenate_40[0][0]             \n",
            "                                                                 conv2d_44[0][0]                  \n",
            "__________________________________________________________________________________________________\n",
            "batch_normalization_44 (BatchNo (None, 8, 8, 240)    960         concatenate_41[0][0]             \n",
            "__________________________________________________________________________________________________\n",
            "activation_44 (Activation)      (None, 8, 8, 240)    0           batch_normalization_44[0][0]     \n",
            "__________________________________________________________________________________________________\n",
            "conv2d_45 (Conv2D)              (None, 8, 8, 16)     3840        activation_44[0][0]              \n",
            "__________________________________________________________________________________________________\n",
            "average_pooling2d_2 (AveragePoo (None, 4, 4, 16)     0           conv2d_45[0][0]                  \n",
            "__________________________________________________________________________________________________\n",
            "batch_normalization_45 (BatchNo (None, 4, 4, 16)     64          average_pooling2d_2[0][0]        \n",
            "__________________________________________________________________________________________________\n",
            "activation_45 (Activation)      (None, 4, 4, 16)     0           batch_normalization_45[0][0]     \n",
            "__________________________________________________________________________________________________\n",
            "conv2d_46 (Conv2D)              (None, 4, 4, 16)     2304        activation_45[0][0]              \n",
            "__________________________________________________________________________________________________\n",
            "concatenate_42 (Concatenate)    (None, 4, 4, 32)     0           average_pooling2d_2[0][0]        \n",
            "                                                                 conv2d_46[0][0]                  \n",
            "__________________________________________________________________________________________________\n",
            "batch_normalization_46 (BatchNo (None, 4, 4, 32)     128         concatenate_42[0][0]             \n",
            "__________________________________________________________________________________________________\n",
            "activation_46 (Activation)      (None, 4, 4, 32)     0           batch_normalization_46[0][0]     \n",
            "__________________________________________________________________________________________________\n",
            "conv2d_47 (Conv2D)              (None, 4, 4, 16)     4608        activation_46[0][0]              \n",
            "__________________________________________________________________________________________________\n",
            "concatenate_43 (Concatenate)    (None, 4, 4, 48)     0           concatenate_42[0][0]             \n",
            "                                                                 conv2d_47[0][0]                  \n",
            "__________________________________________________________________________________________________\n",
            "batch_normalization_47 (BatchNo (None, 4, 4, 48)     192         concatenate_43[0][0]             \n",
            "__________________________________________________________________________________________________\n",
            "activation_47 (Activation)      (None, 4, 4, 48)     0           batch_normalization_47[0][0]     \n",
            "__________________________________________________________________________________________________\n",
            "conv2d_48 (Conv2D)              (None, 4, 4, 16)     6912        activation_47[0][0]              \n",
            "__________________________________________________________________________________________________\n",
            "concatenate_44 (Concatenate)    (None, 4, 4, 64)     0           concatenate_43[0][0]             \n",
            "                                                                 conv2d_48[0][0]                  \n",
            "__________________________________________________________________________________________________\n",
            "batch_normalization_48 (BatchNo (None, 4, 4, 64)     256         concatenate_44[0][0]             \n",
            "__________________________________________________________________________________________________\n",
            "activation_48 (Activation)      (None, 4, 4, 64)     0           batch_normalization_48[0][0]     \n",
            "__________________________________________________________________________________________________\n",
            "conv2d_49 (Conv2D)              (None, 4, 4, 16)     9216        activation_48[0][0]              \n",
            "__________________________________________________________________________________________________\n",
            "concatenate_45 (Concatenate)    (None, 4, 4, 80)     0           concatenate_44[0][0]             \n",
            "                                                                 conv2d_49[0][0]                  \n",
            "__________________________________________________________________________________________________\n",
            "batch_normalization_49 (BatchNo (None, 4, 4, 80)     320         concatenate_45[0][0]             \n",
            "__________________________________________________________________________________________________\n",
            "activation_49 (Activation)      (None, 4, 4, 80)     0           batch_normalization_49[0][0]     \n",
            "__________________________________________________________________________________________________\n",
            "conv2d_50 (Conv2D)              (None, 4, 4, 16)     11520       activation_49[0][0]              \n",
            "__________________________________________________________________________________________________\n",
            "concatenate_46 (Concatenate)    (None, 4, 4, 96)     0           concatenate_45[0][0]             \n",
            "                                                                 conv2d_50[0][0]                  \n",
            "__________________________________________________________________________________________________\n",
            "batch_normalization_50 (BatchNo (None, 4, 4, 96)     384         concatenate_46[0][0]             \n",
            "__________________________________________________________________________________________________\n",
            "activation_50 (Activation)      (None, 4, 4, 96)     0           batch_normalization_50[0][0]     \n",
            "__________________________________________________________________________________________________\n",
            "conv2d_51 (Conv2D)              (None, 4, 4, 16)     13824       activation_50[0][0]              \n",
            "__________________________________________________________________________________________________\n",
            "concatenate_47 (Concatenate)    (None, 4, 4, 112)    0           concatenate_46[0][0]             \n",
            "                                                                 conv2d_51[0][0]                  \n",
            "__________________________________________________________________________________________________\n",
            "batch_normalization_51 (BatchNo (None, 4, 4, 112)    448         concatenate_47[0][0]             \n",
            "__________________________________________________________________________________________________\n",
            "activation_51 (Activation)      (None, 4, 4, 112)    0           batch_normalization_51[0][0]     \n",
            "__________________________________________________________________________________________________\n",
            "conv2d_52 (Conv2D)              (None, 4, 4, 16)     16128       activation_51[0][0]              \n",
            "__________________________________________________________________________________________________\n",
            "concatenate_48 (Concatenate)    (None, 4, 4, 128)    0           concatenate_47[0][0]             \n",
            "                                                                 conv2d_52[0][0]                  \n",
            "__________________________________________________________________________________________________\n",
            "batch_normalization_52 (BatchNo (None, 4, 4, 128)    512         concatenate_48[0][0]             \n",
            "__________________________________________________________________________________________________\n",
            "activation_52 (Activation)      (None, 4, 4, 128)    0           batch_normalization_52[0][0]     \n",
            "__________________________________________________________________________________________________\n",
            "conv2d_53 (Conv2D)              (None, 4, 4, 16)     18432       activation_52[0][0]              \n",
            "__________________________________________________________________________________________________\n",
            "concatenate_49 (Concatenate)    (None, 4, 4, 144)    0           concatenate_48[0][0]             \n",
            "                                                                 conv2d_53[0][0]                  \n",
            "__________________________________________________________________________________________________\n",
            "batch_normalization_53 (BatchNo (None, 4, 4, 144)    576         concatenate_49[0][0]             \n",
            "__________________________________________________________________________________________________\n",
            "activation_53 (Activation)      (None, 4, 4, 144)    0           batch_normalization_53[0][0]     \n",
            "__________________________________________________________________________________________________\n",
            "conv2d_54 (Conv2D)              (None, 4, 4, 16)     20736       activation_53[0][0]              \n",
            "__________________________________________________________________________________________________\n",
            "concatenate_50 (Concatenate)    (None, 4, 4, 160)    0           concatenate_49[0][0]             \n",
            "                                                                 conv2d_54[0][0]                  \n",
            "__________________________________________________________________________________________________\n",
            "batch_normalization_54 (BatchNo (None, 4, 4, 160)    640         concatenate_50[0][0]             \n",
            "__________________________________________________________________________________________________\n",
            "activation_54 (Activation)      (None, 4, 4, 160)    0           batch_normalization_54[0][0]     \n",
            "__________________________________________________________________________________________________\n",
            "conv2d_55 (Conv2D)              (None, 4, 4, 16)     23040       activation_54[0][0]              \n",
            "__________________________________________________________________________________________________\n",
            "concatenate_51 (Concatenate)    (None, 4, 4, 176)    0           concatenate_50[0][0]             \n",
            "                                                                 conv2d_55[0][0]                  \n",
            "__________________________________________________________________________________________________\n",
            "batch_normalization_55 (BatchNo (None, 4, 4, 176)    704         concatenate_51[0][0]             \n",
            "__________________________________________________________________________________________________\n",
            "activation_55 (Activation)      (None, 4, 4, 176)    0           batch_normalization_55[0][0]     \n",
            "__________________________________________________________________________________________________\n",
            "conv2d_56 (Conv2D)              (None, 4, 4, 16)     25344       activation_55[0][0]              \n",
            "__________________________________________________________________________________________________\n",
            "concatenate_52 (Concatenate)    (None, 4, 4, 192)    0           concatenate_51[0][0]             \n",
            "                                                                 conv2d_56[0][0]                  \n",
            "__________________________________________________________________________________________________\n",
            "batch_normalization_56 (BatchNo (None, 4, 4, 192)    768         concatenate_52[0][0]             \n",
            "__________________________________________________________________________________________________\n",
            "activation_56 (Activation)      (None, 4, 4, 192)    0           batch_normalization_56[0][0]     \n",
            "__________________________________________________________________________________________________\n",
            "conv2d_57 (Conv2D)              (None, 4, 4, 16)     27648       activation_56[0][0]              \n",
            "__________________________________________________________________________________________________\n",
            "concatenate_53 (Concatenate)    (None, 4, 4, 208)    0           concatenate_52[0][0]             \n",
            "                                                                 conv2d_57[0][0]                  \n",
            "__________________________________________________________________________________________________\n",
            "batch_normalization_57 (BatchNo (None, 4, 4, 208)    832         concatenate_53[0][0]             \n",
            "__________________________________________________________________________________________________\n",
            "activation_57 (Activation)      (None, 4, 4, 208)    0           batch_normalization_57[0][0]     \n",
            "__________________________________________________________________________________________________\n",
            "conv2d_58 (Conv2D)              (None, 4, 4, 16)     29952       activation_57[0][0]              \n",
            "__________________________________________________________________________________________________\n",
            "concatenate_54 (Concatenate)    (None, 4, 4, 224)    0           concatenate_53[0][0]             \n",
            "                                                                 conv2d_58[0][0]                  \n",
            "__________________________________________________________________________________________________\n",
            "batch_normalization_58 (BatchNo (None, 4, 4, 224)    896         concatenate_54[0][0]             \n",
            "__________________________________________________________________________________________________\n",
            "activation_58 (Activation)      (None, 4, 4, 224)    0           batch_normalization_58[0][0]     \n",
            "__________________________________________________________________________________________________\n",
            "conv2d_59 (Conv2D)              (None, 4, 4, 16)     32256       activation_58[0][0]              \n",
            "__________________________________________________________________________________________________\n",
            "concatenate_55 (Concatenate)    (None, 4, 4, 240)    0           concatenate_54[0][0]             \n",
            "                                                                 conv2d_59[0][0]                  \n",
            "__________________________________________________________________________________________________\n",
            "batch_normalization_59 (BatchNo (None, 4, 4, 240)    960         concatenate_55[0][0]             \n",
            "__________________________________________________________________________________________________\n",
            "activation_59 (Activation)      (None, 4, 4, 240)    0           batch_normalization_59[0][0]     \n",
            "__________________________________________________________________________________________________\n",
            "average_pooling2d_3 (AveragePoo (None, 2, 2, 240)    0           activation_59[0][0]              \n",
            "__________________________________________________________________________________________________\n",
            "flatten (Flatten)               (None, 960)          0           average_pooling2d_3[0][0]        \n",
            "__________________________________________________________________________________________________\n",
            "dense (Dense)                   (None, 5)            4805        flatten[0][0]                    \n",
            "==================================================================================================\n",
            "Total params: 1,031,749\n",
            "Trainable params: 1,016,149\n",
            "Non-trainable params: 15,600\n",
            "__________________________________________________________________________________________________\n"
          ],
          "name": "stdout"
        }
      ]
    },
    {
      "cell_type": "markdown",
      "metadata": {
        "id": "vxNCiyfQq6Wn"
      },
      "source": [
        "**2.4 Defining the optimizers and compiling the model**"
      ]
    },
    {
      "cell_type": "code",
      "metadata": {
        "id": "NIr4LpExmdlf"
      },
      "source": [
        "# determine Loss function and Optimizer\n",
        "tf.keras.backend.clear_session()\n",
        "#optimizer = SGD(learning_rate=0.1, momentum=0.9, decay= 1e-6, nesterov=True)\n",
        "optimizer = tf.keras.optimizers.Adam(learning_rate=0.0001)\n",
        "model.compile(loss='categorical_crossentropy',\n",
        "              optimizer=optimizer,\n",
        "              metrics=['accuracy'])"
      ],
      "execution_count": 211,
      "outputs": []
    },
    {
      "cell_type": "markdown",
      "metadata": {
        "id": "T1UcZK7XrArV"
      },
      "source": [
        "**2.5 Image augumentation**"
      ]
    },
    {
      "cell_type": "code",
      "metadata": {
        "colab": {
          "base_uri": "https://localhost:8080/"
        },
        "id": "h_jRutR1mkai",
        "outputId": "8a1ad633-4afa-45fc-8f38-8fbb9a0ebd2f"
      },
      "source": [
        "# reference URL - https://vijayabhaskar96.medium.com/tutorial-on-keras-flow-from-dataframe-1fd4493d237c\n",
        "from keras_preprocessing.image import ImageDataGenerator\n",
        "\n",
        "datagen=ImageDataGenerator(rescale=1./255., validation_split=0.20, horizontal_flip=True)\n",
        "\n",
        "train_generator=datagen.flow_from_dataframe(dataframe=X_train, directory=None, x_col=\"path\", y_col=\"diagnosis\", subset=\"training\", \n",
        "                batch_size=8, shuffle=True, class_mode=\"categorical\", drop_duplicates = False, target_size=(32,32))\n",
        "\n",
        "valid_generator=datagen.flow_from_dataframe(dataframe=X_train, directory=None, x_col=\"path\", y_col=\"diagnosis\", subset=\"validation\", \n",
        "                        batch_size=8, shuffle=True, class_mode=\"categorical\", drop_duplicates = False, target_size=(32,32))\n",
        "\n",
        "test_datagen=ImageDataGenerator(rescale=1./255.)\n",
        "\n",
        "test_generator=test_datagen.flow_from_dataframe(dataframe=X_test, directory=None, x_col=\"path\", \n",
        "                y_col=None, batch_size=8, shuffle=False, class_mode=None, target_size=(32,32))"
      ],
      "execution_count": 198,
      "outputs": [
        {
          "output_type": "stream",
          "text": [
            "Found 3351 validated image filenames belonging to 5 classes.\n",
            "Found 837 validated image filenames belonging to 5 classes.\n",
            "Found 1047 validated image filenames.\n"
          ],
          "name": "stdout"
        }
      ]
    },
    {
      "cell_type": "code",
      "metadata": {
        "id": "PzCMNE2gnIvd"
      },
      "source": [
        "tf.keras.backend.clear_session()\n",
        "#creating object to 1Cycle_Learningrate_Scheduler class to reduce lr gradually\n",
        "#lr_manager = OneCycleLR(3351, 16, max_lr=0.01, end_percentage=0.2, scale_percentage=0.1, maximum_momentum=0.90, verbose=True)\n",
        "\n",
        "#creating object to ReduceLROnPlateau class to decay lr by 10% If validation accuracy is less than previous epoch accuracy(cond1)\n",
        "#reducelrate = tf.keras.callbacks.ReduceLROnPlateau(monitor='val_loss', mode='min', factor=0.90, verbose=1, patience=4, cooldown=1, min_lr=0.000001)\n",
        "\n",
        "#creating object to ModelCheckpoint class to Save model at every epoch if validation accuracy is improved from previous epoch\n",
        "filepath='/content/d/weights-{epoch:02d}-{accuracy:.4f}.hdf5'\n",
        "checkpoint = tf.keras.callbacks.ModelCheckpoint(filepath=filepath, save_best_only=True, monitor='val_accuracy',  verbose=1)\n",
        "\n",
        "callbacks_list = [checkpoint] #Merging all the callbacks in a list"
      ],
      "execution_count": 212,
      "outputs": []
    },
    {
      "cell_type": "markdown",
      "metadata": {
        "id": "7Dzm3FvBrGBh"
      },
      "source": [
        "**2.6 Training the DenseNet model on Train data**"
      ]
    },
    {
      "cell_type": "code",
      "metadata": {
        "colab": {
          "base_uri": "https://localhost:8080/"
        },
        "id": "FQ6qWrXPol7Y",
        "outputId": "492a9a41-c257-4f94-cae3-0026fb874262"
      },
      "source": [
        "STEP_SIZE_TRAIN=train_generator.n//train_generator.batch_size\n",
        "STEP_SIZE_VALID=valid_generator.n//valid_generator.batch_size\n",
        "STEP_SIZE_TEST=test_generator.n//test_generator.batch_size\n",
        "model.fit_generator(generator=train_generator, steps_per_epoch=STEP_SIZE_TRAIN, validation_data=valid_generator,\n",
        "                    validation_steps=STEP_SIZE_VALID, epochs=100, callbacks=callbacks_list)"
      ],
      "execution_count": 213,
      "outputs": [
        {
          "output_type": "stream",
          "text": [
            "Epoch 1/100\n",
            "418/418 [==============================] - 22s 41ms/step - loss: 1.3021 - accuracy: 0.4954 - val_loss: 1.1810 - val_accuracy: 0.5481\n",
            "\n",
            "Epoch 00001: val_accuracy improved from -inf to 0.54808, saving model to /content/d/weights-01-0.4954.hdf5\n",
            "Epoch 2/100\n",
            "418/418 [==============================] - 16s 39ms/step - loss: 1.1511 - accuracy: 0.5624 - val_loss: 1.1348 - val_accuracy: 0.5889\n",
            "\n",
            "Epoch 00002: val_accuracy improved from 0.54808 to 0.58894, saving model to /content/d/weights-02-0.5624.hdf5\n",
            "Epoch 3/100\n",
            "418/418 [==============================] - 16s 39ms/step - loss: 1.0849 - accuracy: 0.5890 - val_loss: 1.1487 - val_accuracy: 0.5541\n",
            "\n",
            "Epoch 00003: val_accuracy did not improve from 0.58894\n",
            "Epoch 4/100\n",
            "418/418 [==============================] - 16s 39ms/step - loss: 1.0401 - accuracy: 0.5965 - val_loss: 1.0160 - val_accuracy: 0.6334\n",
            "\n",
            "Epoch 00004: val_accuracy improved from 0.58894 to 0.63341, saving model to /content/d/weights-04-0.5965.hdf5\n",
            "Epoch 5/100\n",
            "418/418 [==============================] - 17s 41ms/step - loss: 0.9874 - accuracy: 0.6165 - val_loss: 1.2443 - val_accuracy: 0.5685\n",
            "\n",
            "Epoch 00005: val_accuracy did not improve from 0.63341\n",
            "Epoch 6/100\n",
            "418/418 [==============================] - 17s 40ms/step - loss: 0.9427 - accuracy: 0.6306 - val_loss: 0.9912 - val_accuracy: 0.6286\n",
            "\n",
            "Epoch 00006: val_accuracy did not improve from 0.63341\n",
            "Epoch 7/100\n",
            "418/418 [==============================] - 17s 40ms/step - loss: 0.9149 - accuracy: 0.6410 - val_loss: 0.9430 - val_accuracy: 0.6274\n",
            "\n",
            "Epoch 00007: val_accuracy did not improve from 0.63341\n",
            "Epoch 8/100\n",
            "418/418 [==============================] - 17s 40ms/step - loss: 0.8597 - accuracy: 0.6724 - val_loss: 0.9858 - val_accuracy: 0.6322\n",
            "\n",
            "Epoch 00008: val_accuracy did not improve from 0.63341\n",
            "Epoch 9/100\n",
            "418/418 [==============================] - 17s 40ms/step - loss: 0.8389 - accuracy: 0.6730 - val_loss: 1.4210 - val_accuracy: 0.4724\n",
            "\n",
            "Epoch 00009: val_accuracy did not improve from 0.63341\n",
            "Epoch 10/100\n",
            "418/418 [==============================] - 17s 40ms/step - loss: 0.7842 - accuracy: 0.7021 - val_loss: 1.0152 - val_accuracy: 0.6226\n",
            "\n",
            "Epoch 00010: val_accuracy did not improve from 0.63341\n",
            "Epoch 11/100\n",
            "418/418 [==============================] - 17s 40ms/step - loss: 0.7330 - accuracy: 0.7179 - val_loss: 1.0830 - val_accuracy: 0.6334\n",
            "\n",
            "Epoch 00011: val_accuracy did not improve from 0.63341\n",
            "Epoch 12/100\n",
            "418/418 [==============================] - 17s 40ms/step - loss: 0.7165 - accuracy: 0.7317 - val_loss: 1.5860 - val_accuracy: 0.4026\n",
            "\n",
            "Epoch 00012: val_accuracy did not improve from 0.63341\n",
            "Epoch 13/100\n",
            "418/418 [==============================] - 17s 40ms/step - loss: 0.6580 - accuracy: 0.7538 - val_loss: 1.2385 - val_accuracy: 0.5252\n",
            "\n",
            "Epoch 00013: val_accuracy did not improve from 0.63341\n",
            "Epoch 14/100\n",
            "418/418 [==============================] - 17s 40ms/step - loss: 0.6306 - accuracy: 0.7631 - val_loss: 1.0280 - val_accuracy: 0.6202\n",
            "\n",
            "Epoch 00014: val_accuracy did not improve from 0.63341\n",
            "Epoch 15/100\n",
            "418/418 [==============================] - 17s 39ms/step - loss: 0.5759 - accuracy: 0.7918 - val_loss: 1.0820 - val_accuracy: 0.6418\n",
            "\n",
            "Epoch 00015: val_accuracy improved from 0.63341 to 0.64183, saving model to /content/d/weights-15-0.7918.hdf5\n",
            "Epoch 16/100\n",
            "418/418 [==============================] - 17s 40ms/step - loss: 0.5302 - accuracy: 0.8026 - val_loss: 1.1448 - val_accuracy: 0.6502\n",
            "\n",
            "Epoch 00016: val_accuracy improved from 0.64183 to 0.65024, saving model to /content/d/weights-16-0.8026.hdf5\n",
            "Epoch 17/100\n",
            "418/418 [==============================] - 17s 40ms/step - loss: 0.4461 - accuracy: 0.8382 - val_loss: 1.4304 - val_accuracy: 0.5517\n",
            "\n",
            "Epoch 00017: val_accuracy did not improve from 0.65024\n",
            "Epoch 18/100\n",
            "418/418 [==============================] - 17s 40ms/step - loss: 0.4375 - accuracy: 0.8480 - val_loss: 1.1085 - val_accuracy: 0.6454\n",
            "\n",
            "Epoch 00018: val_accuracy did not improve from 0.65024\n",
            "Epoch 19/100\n",
            "418/418 [==============================] - 17s 40ms/step - loss: 0.3858 - accuracy: 0.8642 - val_loss: 1.4731 - val_accuracy: 0.6094\n",
            "\n",
            "Epoch 00019: val_accuracy did not improve from 0.65024\n",
            "Epoch 20/100\n",
            "418/418 [==============================] - 17s 40ms/step - loss: 0.3376 - accuracy: 0.8809 - val_loss: 1.5631 - val_accuracy: 0.5577\n",
            "\n",
            "Epoch 00020: val_accuracy did not improve from 0.65024\n",
            "Epoch 21/100\n",
            "418/418 [==============================] - 17s 40ms/step - loss: 0.3391 - accuracy: 0.8863 - val_loss: 1.4205 - val_accuracy: 0.5805\n",
            "\n",
            "Epoch 00021: val_accuracy did not improve from 0.65024\n",
            "Epoch 22/100\n",
            "418/418 [==============================] - 17s 40ms/step - loss: 0.3032 - accuracy: 0.9061 - val_loss: 1.7729 - val_accuracy: 0.5216\n",
            "\n",
            "Epoch 00022: val_accuracy did not improve from 0.65024\n",
            "Epoch 23/100\n",
            "418/418 [==============================] - 17s 40ms/step - loss: 0.2771 - accuracy: 0.9091 - val_loss: 1.5198 - val_accuracy: 0.6058\n",
            "\n",
            "Epoch 00023: val_accuracy did not improve from 0.65024\n",
            "Epoch 24/100\n",
            "418/418 [==============================] - 16s 39ms/step - loss: 0.2682 - accuracy: 0.9091 - val_loss: 1.6331 - val_accuracy: 0.6082\n",
            "\n",
            "Epoch 00024: val_accuracy did not improve from 0.65024\n",
            "Epoch 25/100\n",
            "418/418 [==============================] - 16s 39ms/step - loss: 0.2655 - accuracy: 0.9138 - val_loss: 1.8004 - val_accuracy: 0.5216\n",
            "\n",
            "Epoch 00025: val_accuracy did not improve from 0.65024\n",
            "Epoch 26/100\n",
            "418/418 [==============================] - 16s 39ms/step - loss: 0.2385 - accuracy: 0.9192 - val_loss: 1.4378 - val_accuracy: 0.5925\n",
            "\n",
            "Epoch 00026: val_accuracy did not improve from 0.65024\n",
            "Epoch 27/100\n",
            "418/418 [==============================] - 16s 39ms/step - loss: 0.2313 - accuracy: 0.9261 - val_loss: 1.5579 - val_accuracy: 0.5817\n",
            "\n",
            "Epoch 00027: val_accuracy did not improve from 0.65024\n",
            "Epoch 28/100\n",
            "418/418 [==============================] - 16s 39ms/step - loss: 0.2141 - accuracy: 0.9354 - val_loss: 1.5188 - val_accuracy: 0.5901\n",
            "\n",
            "Epoch 00028: val_accuracy did not improve from 0.65024\n",
            "Epoch 29/100\n",
            "418/418 [==============================] - 16s 39ms/step - loss: 0.2059 - accuracy: 0.9381 - val_loss: 1.6160 - val_accuracy: 0.5962\n",
            "\n",
            "Epoch 00029: val_accuracy did not improve from 0.65024\n",
            "Epoch 30/100\n",
            "418/418 [==============================] - 16s 39ms/step - loss: 0.2269 - accuracy: 0.9261 - val_loss: 1.4004 - val_accuracy: 0.6262\n",
            "\n",
            "Epoch 00030: val_accuracy did not improve from 0.65024\n",
            "Epoch 31/100\n",
            "418/418 [==============================] - 16s 39ms/step - loss: 0.1907 - accuracy: 0.9399 - val_loss: 1.7560 - val_accuracy: 0.5805\n",
            "\n",
            "Epoch 00031: val_accuracy did not improve from 0.65024\n",
            "Epoch 32/100\n",
            "418/418 [==============================] - 16s 39ms/step - loss: 0.1852 - accuracy: 0.9471 - val_loss: 1.6455 - val_accuracy: 0.6226\n",
            "\n",
            "Epoch 00032: val_accuracy did not improve from 0.65024\n",
            "Epoch 33/100\n",
            "418/418 [==============================] - 16s 39ms/step - loss: 0.1716 - accuracy: 0.9471 - val_loss: 1.7967 - val_accuracy: 0.5637\n",
            "\n",
            "Epoch 00033: val_accuracy did not improve from 0.65024\n",
            "Epoch 34/100\n",
            "418/418 [==============================] - 17s 41ms/step - loss: 0.1851 - accuracy: 0.9411 - val_loss: 2.0239 - val_accuracy: 0.4868\n",
            "\n",
            "Epoch 00034: val_accuracy did not improve from 0.65024\n",
            "Epoch 35/100\n",
            "418/418 [==============================] - 17s 40ms/step - loss: 0.1853 - accuracy: 0.9444 - val_loss: 1.8082 - val_accuracy: 0.6058\n",
            "\n",
            "Epoch 00035: val_accuracy did not improve from 0.65024\n",
            "Epoch 36/100\n",
            "418/418 [==============================] - 17s 40ms/step - loss: 0.1899 - accuracy: 0.9459 - val_loss: 1.5982 - val_accuracy: 0.6202\n",
            "\n",
            "Epoch 00036: val_accuracy did not improve from 0.65024\n",
            "Epoch 37/100\n",
            "418/418 [==============================] - 17s 40ms/step - loss: 0.1743 - accuracy: 0.9462 - val_loss: 1.6910 - val_accuracy: 0.5853\n",
            "\n",
            "Epoch 00037: val_accuracy did not improve from 0.65024\n",
            "Epoch 38/100\n",
            "418/418 [==============================] - 17s 40ms/step - loss: 0.1544 - accuracy: 0.9545 - val_loss: 1.7650 - val_accuracy: 0.5697\n",
            "\n",
            "Epoch 00038: val_accuracy did not improve from 0.65024\n",
            "Epoch 39/100\n",
            "418/418 [==============================] - 17s 39ms/step - loss: 0.1502 - accuracy: 0.9512 - val_loss: 2.0052 - val_accuracy: 0.5180\n",
            "\n",
            "Epoch 00039: val_accuracy did not improve from 0.65024\n",
            "Epoch 40/100\n",
            "418/418 [==============================] - 17s 40ms/step - loss: 0.1562 - accuracy: 0.9512 - val_loss: 1.7707 - val_accuracy: 0.5745\n",
            "\n",
            "Epoch 00040: val_accuracy did not improve from 0.65024\n",
            "Epoch 41/100\n",
            "418/418 [==============================] - 17s 40ms/step - loss: 0.1454 - accuracy: 0.9521 - val_loss: 1.8565 - val_accuracy: 0.6118\n",
            "\n",
            "Epoch 00041: val_accuracy did not improve from 0.65024\n",
            "Epoch 42/100\n",
            "418/418 [==============================] - 17s 40ms/step - loss: 0.1543 - accuracy: 0.9524 - val_loss: 1.6859 - val_accuracy: 0.5974\n",
            "\n",
            "Epoch 00042: val_accuracy did not improve from 0.65024\n",
            "Epoch 43/100\n",
            "418/418 [==============================] - 17s 40ms/step - loss: 0.1776 - accuracy: 0.9453 - val_loss: 1.7285 - val_accuracy: 0.6394\n",
            "\n",
            "Epoch 00043: val_accuracy did not improve from 0.65024\n",
            "Epoch 44/100\n",
            "418/418 [==============================] - 17s 40ms/step - loss: 0.1566 - accuracy: 0.9548 - val_loss: 1.7086 - val_accuracy: 0.6070\n",
            "\n",
            "Epoch 00044: val_accuracy did not improve from 0.65024\n",
            "Epoch 45/100\n",
            "418/418 [==============================] - 17s 40ms/step - loss: 0.1441 - accuracy: 0.9575 - val_loss: 1.9009 - val_accuracy: 0.5288\n",
            "\n",
            "Epoch 00045: val_accuracy did not improve from 0.65024\n",
            "Epoch 46/100\n",
            "418/418 [==============================] - 17s 40ms/step - loss: 0.1358 - accuracy: 0.9587 - val_loss: 1.7211 - val_accuracy: 0.6082\n",
            "\n",
            "Epoch 00046: val_accuracy did not improve from 0.65024\n",
            "Epoch 47/100\n",
            "418/418 [==============================] - 17s 39ms/step - loss: 0.1279 - accuracy: 0.9617 - val_loss: 1.8314 - val_accuracy: 0.6094\n",
            "\n",
            "Epoch 00047: val_accuracy did not improve from 0.65024\n",
            "Epoch 48/100\n",
            "418/418 [==============================] - 17s 40ms/step - loss: 0.1160 - accuracy: 0.9659 - val_loss: 1.8188 - val_accuracy: 0.5421\n",
            "\n",
            "Epoch 00048: val_accuracy did not improve from 0.65024\n",
            "Epoch 49/100\n",
            "418/418 [==============================] - 16s 39ms/step - loss: 0.1145 - accuracy: 0.9614 - val_loss: 2.0032 - val_accuracy: 0.5829\n",
            "\n",
            "Epoch 00049: val_accuracy did not improve from 0.65024\n",
            "Epoch 50/100\n",
            "418/418 [==============================] - 16s 39ms/step - loss: 0.1726 - accuracy: 0.9414 - val_loss: 1.8391 - val_accuracy: 0.5962\n",
            "\n",
            "Epoch 00050: val_accuracy did not improve from 0.65024\n",
            "Epoch 51/100\n",
            "418/418 [==============================] - 16s 39ms/step - loss: 0.1457 - accuracy: 0.9518 - val_loss: 1.7813 - val_accuracy: 0.5913\n",
            "\n",
            "Epoch 00051: val_accuracy did not improve from 0.65024\n",
            "Epoch 52/100\n",
            "418/418 [==============================] - 16s 39ms/step - loss: 0.1126 - accuracy: 0.9656 - val_loss: 1.8444 - val_accuracy: 0.6070\n",
            "\n",
            "Epoch 00052: val_accuracy did not improve from 0.65024\n",
            "Epoch 53/100\n",
            "418/418 [==============================] - 16s 39ms/step - loss: 0.1194 - accuracy: 0.9656 - val_loss: 1.9931 - val_accuracy: 0.6046\n",
            "\n",
            "Epoch 00053: val_accuracy did not improve from 0.65024\n",
            "Epoch 54/100\n",
            "418/418 [==============================] - 16s 39ms/step - loss: 0.1295 - accuracy: 0.9590 - val_loss: 1.6981 - val_accuracy: 0.6334\n",
            "\n",
            "Epoch 00054: val_accuracy did not improve from 0.65024\n",
            "Epoch 55/100\n",
            "418/418 [==============================] - 16s 39ms/step - loss: 0.1131 - accuracy: 0.9629 - val_loss: 1.9565 - val_accuracy: 0.5637\n",
            "\n",
            "Epoch 00055: val_accuracy did not improve from 0.65024\n",
            "Epoch 56/100\n",
            "418/418 [==============================] - 16s 39ms/step - loss: 0.1252 - accuracy: 0.9596 - val_loss: 1.9802 - val_accuracy: 0.5469\n",
            "\n",
            "Epoch 00056: val_accuracy did not improve from 0.65024\n",
            "Epoch 57/100\n",
            "418/418 [==============================] - 16s 39ms/step - loss: 0.1135 - accuracy: 0.9632 - val_loss: 2.2516 - val_accuracy: 0.6154\n",
            "\n",
            "Epoch 00057: val_accuracy did not improve from 0.65024\n",
            "Epoch 58/100\n",
            "418/418 [==============================] - 16s 39ms/step - loss: 0.1142 - accuracy: 0.9638 - val_loss: 2.2655 - val_accuracy: 0.6274\n",
            "\n",
            "Epoch 00058: val_accuracy did not improve from 0.65024\n",
            "Epoch 59/100\n",
            "418/418 [==============================] - 16s 39ms/step - loss: 0.1483 - accuracy: 0.9527 - val_loss: 1.8157 - val_accuracy: 0.5841\n",
            "\n",
            "Epoch 00059: val_accuracy did not improve from 0.65024\n",
            "Epoch 60/100\n",
            "418/418 [==============================] - 16s 39ms/step - loss: 0.1071 - accuracy: 0.9641 - val_loss: 2.0835 - val_accuracy: 0.5913\n",
            "\n",
            "Epoch 00060: val_accuracy did not improve from 0.65024\n",
            "Epoch 61/100\n",
            "418/418 [==============================] - 16s 39ms/step - loss: 0.1073 - accuracy: 0.9626 - val_loss: 1.9891 - val_accuracy: 0.5877\n",
            "\n",
            "Epoch 00061: val_accuracy did not improve from 0.65024\n",
            "Epoch 62/100\n",
            "418/418 [==============================] - 16s 39ms/step - loss: 0.1157 - accuracy: 0.9596 - val_loss: 1.9520 - val_accuracy: 0.5793\n",
            "\n",
            "Epoch 00062: val_accuracy did not improve from 0.65024\n",
            "Epoch 63/100\n",
            "418/418 [==============================] - 16s 39ms/step - loss: 0.1081 - accuracy: 0.9632 - val_loss: 2.2464 - val_accuracy: 0.5204\n",
            "\n",
            "Epoch 00063: val_accuracy did not improve from 0.65024\n",
            "Epoch 64/100\n",
            "418/418 [==============================] - 16s 39ms/step - loss: 0.0935 - accuracy: 0.9704 - val_loss: 2.1017 - val_accuracy: 0.5601\n",
            "\n",
            "Epoch 00064: val_accuracy did not improve from 0.65024\n",
            "Epoch 65/100\n",
            "418/418 [==============================] - 16s 39ms/step - loss: 0.1084 - accuracy: 0.9617 - val_loss: 1.8959 - val_accuracy: 0.6142\n",
            "\n",
            "Epoch 00065: val_accuracy did not improve from 0.65024\n",
            "Epoch 66/100\n",
            "418/418 [==============================] - 16s 39ms/step - loss: 0.1178 - accuracy: 0.9563 - val_loss: 1.9802 - val_accuracy: 0.5805\n",
            "\n",
            "Epoch 00066: val_accuracy did not improve from 0.65024\n",
            "Epoch 67/100\n",
            "418/418 [==============================] - 16s 39ms/step - loss: 0.1243 - accuracy: 0.9533 - val_loss: 1.7982 - val_accuracy: 0.6310\n",
            "\n",
            "Epoch 00067: val_accuracy did not improve from 0.65024\n",
            "Epoch 68/100\n",
            "418/418 [==============================] - 16s 39ms/step - loss: 0.0963 - accuracy: 0.9662 - val_loss: 1.9573 - val_accuracy: 0.5853\n",
            "\n",
            "Epoch 00068: val_accuracy did not improve from 0.65024\n",
            "Epoch 69/100\n",
            "418/418 [==============================] - 16s 39ms/step - loss: 0.0985 - accuracy: 0.9638 - val_loss: 2.0155 - val_accuracy: 0.6262\n",
            "\n",
            "Epoch 00069: val_accuracy did not improve from 0.65024\n",
            "Epoch 70/100\n",
            "418/418 [==============================] - 17s 39ms/step - loss: 0.0998 - accuracy: 0.9665 - val_loss: 1.8693 - val_accuracy: 0.6034\n",
            "\n",
            "Epoch 00070: val_accuracy did not improve from 0.65024\n",
            "Epoch 71/100\n",
            "418/418 [==============================] - 16s 39ms/step - loss: 0.0881 - accuracy: 0.9686 - val_loss: 2.2014 - val_accuracy: 0.5589\n",
            "\n",
            "Epoch 00071: val_accuracy did not improve from 0.65024\n",
            "Epoch 72/100\n",
            "418/418 [==============================] - 16s 39ms/step - loss: 0.0909 - accuracy: 0.9668 - val_loss: 2.3206 - val_accuracy: 0.5745\n",
            "\n",
            "Epoch 00072: val_accuracy did not improve from 0.65024\n",
            "Epoch 73/100\n",
            "418/418 [==============================] - 17s 39ms/step - loss: 0.0993 - accuracy: 0.9656 - val_loss: 2.0670 - val_accuracy: 0.5817\n",
            "\n",
            "Epoch 00073: val_accuracy did not improve from 0.65024\n",
            "Epoch 74/100\n",
            "418/418 [==============================] - 16s 39ms/step - loss: 0.1088 - accuracy: 0.9617 - val_loss: 2.0283 - val_accuracy: 0.5962\n",
            "\n",
            "Epoch 00074: val_accuracy did not improve from 0.65024\n",
            "Epoch 75/100\n",
            "418/418 [==============================] - 16s 39ms/step - loss: 0.1035 - accuracy: 0.9650 - val_loss: 2.0291 - val_accuracy: 0.6058\n",
            "\n",
            "Epoch 00075: val_accuracy did not improve from 0.65024\n",
            "Epoch 76/100\n",
            "418/418 [==============================] - 16s 39ms/step - loss: 0.1160 - accuracy: 0.9584 - val_loss: 2.0358 - val_accuracy: 0.6010\n",
            "\n",
            "Epoch 00076: val_accuracy did not improve from 0.65024\n",
            "Epoch 77/100\n",
            "418/418 [==============================] - 16s 39ms/step - loss: 0.0973 - accuracy: 0.9647 - val_loss: 1.9172 - val_accuracy: 0.5950\n",
            "\n",
            "Epoch 00077: val_accuracy did not improve from 0.65024\n",
            "Epoch 78/100\n",
            "418/418 [==============================] - 16s 39ms/step - loss: 0.0848 - accuracy: 0.9689 - val_loss: 2.3322 - val_accuracy: 0.5829\n",
            "\n",
            "Epoch 00078: val_accuracy did not improve from 0.65024\n",
            "Epoch 79/100\n",
            "418/418 [==============================] - 16s 39ms/step - loss: 0.0840 - accuracy: 0.9674 - val_loss: 2.1007 - val_accuracy: 0.6250\n",
            "\n",
            "Epoch 00079: val_accuracy did not improve from 0.65024\n",
            "Epoch 80/100\n",
            "418/418 [==============================] - 16s 39ms/step - loss: 0.1047 - accuracy: 0.9623 - val_loss: 2.1993 - val_accuracy: 0.6142\n",
            "\n",
            "Epoch 00080: val_accuracy did not improve from 0.65024\n",
            "Epoch 81/100\n",
            "418/418 [==============================] - 16s 39ms/step - loss: 0.0939 - accuracy: 0.9641 - val_loss: 2.0808 - val_accuracy: 0.5841\n",
            "\n",
            "Epoch 00081: val_accuracy did not improve from 0.65024\n",
            "Epoch 82/100\n",
            "418/418 [==============================] - 17s 39ms/step - loss: 0.1091 - accuracy: 0.9581 - val_loss: 2.0910 - val_accuracy: 0.5974\n",
            "\n",
            "Epoch 00082: val_accuracy did not improve from 0.65024\n",
            "Epoch 83/100\n",
            "418/418 [==============================] - 16s 39ms/step - loss: 0.0977 - accuracy: 0.9629 - val_loss: 2.2622 - val_accuracy: 0.5901\n",
            "\n",
            "Epoch 00083: val_accuracy did not improve from 0.65024\n",
            "Epoch 84/100\n",
            "418/418 [==============================] - 16s 39ms/step - loss: 0.0837 - accuracy: 0.9683 - val_loss: 2.0155 - val_accuracy: 0.6094\n",
            "\n",
            "Epoch 00084: val_accuracy did not improve from 0.65024\n",
            "Epoch 85/100\n",
            "418/418 [==============================] - 16s 39ms/step - loss: 0.0724 - accuracy: 0.9722 - val_loss: 2.4702 - val_accuracy: 0.5950\n",
            "\n",
            "Epoch 00085: val_accuracy did not improve from 0.65024\n",
            "Epoch 86/100\n",
            "418/418 [==============================] - 16s 39ms/step - loss: 0.0883 - accuracy: 0.9653 - val_loss: 2.2603 - val_accuracy: 0.5553\n",
            "\n",
            "Epoch 00086: val_accuracy did not improve from 0.65024\n",
            "Epoch 87/100\n",
            "418/418 [==============================] - 16s 39ms/step - loss: 0.0973 - accuracy: 0.9638 - val_loss: 2.2276 - val_accuracy: 0.5781\n",
            "\n",
            "Epoch 00087: val_accuracy did not improve from 0.65024\n",
            "Epoch 88/100\n",
            "418/418 [==============================] - 17s 39ms/step - loss: 0.0891 - accuracy: 0.9701 - val_loss: 2.0849 - val_accuracy: 0.6034\n",
            "\n",
            "Epoch 00088: val_accuracy did not improve from 0.65024\n",
            "Epoch 89/100\n",
            "418/418 [==============================] - 16s 39ms/step - loss: 0.0967 - accuracy: 0.9644 - val_loss: 2.2066 - val_accuracy: 0.5974\n",
            "\n",
            "Epoch 00089: val_accuracy did not improve from 0.65024\n",
            "Epoch 90/100\n",
            "418/418 [==============================] - 16s 39ms/step - loss: 0.0911 - accuracy: 0.9662 - val_loss: 2.2752 - val_accuracy: 0.5877\n",
            "\n",
            "Epoch 00090: val_accuracy did not improve from 0.65024\n",
            "Epoch 91/100\n",
            "418/418 [==============================] - 16s 39ms/step - loss: 0.0632 - accuracy: 0.9743 - val_loss: 2.1355 - val_accuracy: 0.5781\n",
            "\n",
            "Epoch 00091: val_accuracy did not improve from 0.65024\n",
            "Epoch 92/100\n",
            "418/418 [==============================] - 16s 39ms/step - loss: 0.0920 - accuracy: 0.9632 - val_loss: 2.3015 - val_accuracy: 0.6082\n",
            "\n",
            "Epoch 00092: val_accuracy did not improve from 0.65024\n",
            "Epoch 93/100\n",
            "418/418 [==============================] - 16s 39ms/step - loss: 0.0883 - accuracy: 0.9647 - val_loss: 2.2506 - val_accuracy: 0.6118\n",
            "\n",
            "Epoch 00093: val_accuracy did not improve from 0.65024\n",
            "Epoch 94/100\n",
            "418/418 [==============================] - 17s 39ms/step - loss: 0.0637 - accuracy: 0.9737 - val_loss: 2.0850 - val_accuracy: 0.6250\n",
            "\n",
            "Epoch 00094: val_accuracy did not improve from 0.65024\n",
            "Epoch 95/100\n",
            "418/418 [==============================] - 16s 39ms/step - loss: 0.1020 - accuracy: 0.9608 - val_loss: 2.2044 - val_accuracy: 0.5974\n",
            "\n",
            "Epoch 00095: val_accuracy did not improve from 0.65024\n",
            "Epoch 96/100\n",
            "418/418 [==============================] - 16s 39ms/step - loss: 0.0847 - accuracy: 0.9662 - val_loss: 2.3356 - val_accuracy: 0.5685\n",
            "\n",
            "Epoch 00096: val_accuracy did not improve from 0.65024\n",
            "Epoch 97/100\n",
            "418/418 [==============================] - 16s 39ms/step - loss: 0.0923 - accuracy: 0.9647 - val_loss: 2.3371 - val_accuracy: 0.5565\n",
            "\n",
            "Epoch 00097: val_accuracy did not improve from 0.65024\n",
            "Epoch 98/100\n",
            "418/418 [==============================] - 16s 39ms/step - loss: 0.0751 - accuracy: 0.9671 - val_loss: 2.4097 - val_accuracy: 0.5938\n",
            "\n",
            "Epoch 00098: val_accuracy did not improve from 0.65024\n",
            "Epoch 99/100\n",
            "418/418 [==============================] - 16s 39ms/step - loss: 0.0729 - accuracy: 0.9674 - val_loss: 2.4301 - val_accuracy: 0.5673\n",
            "\n",
            "Epoch 00099: val_accuracy did not improve from 0.65024\n",
            "Epoch 100/100\n",
            "418/418 [==============================] - 16s 39ms/step - loss: 0.0931 - accuracy: 0.9608 - val_loss: 2.1417 - val_accuracy: 0.6106\n",
            "\n",
            "Epoch 00100: val_accuracy did not improve from 0.65024\n"
          ],
          "name": "stdout"
        },
        {
          "output_type": "execute_result",
          "data": {
            "text/plain": [
              "<keras.callbacks.History at 0x7fe3c842ef50>"
            ]
          },
          "metadata": {},
          "execution_count": 213
        }
      ]
    },
    {
      "cell_type": "markdown",
      "metadata": {
        "id": "G_irqcWdrZSd"
      },
      "source": [
        "**2.7 Predicting Y labels for the test images**"
      ]
    },
    {
      "cell_type": "code",
      "metadata": {
        "id": "pIXsV7W3pE1y"
      },
      "source": [
        "# Generate predictions\n",
        "#model.load_weights('/content/d/weights-137-0.6710.hdf5') \n",
        "y_pred = model.predict(test_generator)\n",
        "y_pred_class = np.argmax(y_pred, axis=1)"
      ],
      "execution_count": 215,
      "outputs": []
    },
    {
      "cell_type": "markdown",
      "metadata": {
        "id": "bfYCaLO6rjn2"
      },
      "source": [
        "**2.8 Calculation of the quadratic cohen kappa score on test data using DenseNet model**"
      ]
    },
    {
      "cell_type": "code",
      "metadata": {
        "colab": {
          "base_uri": "https://localhost:8080/"
        },
        "id": "Arr2i3EEJH-O",
        "outputId": "fb948f8c-9858-4f8a-91ae-ab33e05248be"
      },
      "source": [
        "cohen = cohen_kappa_score(y_pred_class, y_test.astype(int), weights='quadratic')\n",
        "print(\"Quadratic Cohen kappa score of VGG model on test data is - %.3f\" %cohen)"
      ],
      "execution_count": 216,
      "outputs": [
        {
          "output_type": "stream",
          "text": [
            "Quadratic Cohen kappa score of VGG model on test data is - 0.487\n"
          ],
          "name": "stdout"
        }
      ]
    },
    {
      "cell_type": "markdown",
      "metadata": {
        "id": "0pTKtQTMruZf"
      },
      "source": [
        "**2.9 Calculation of the Macro F1 score on test data using DenseNet model**"
      ]
    },
    {
      "cell_type": "code",
      "metadata": {
        "id": "zmRe-yJ9JlU2",
        "colab": {
          "base_uri": "https://localhost:8080/",
          "height": 516
        },
        "outputId": "dc332c83-315e-4a6b-d2e2-c1eab60946a6"
      },
      "source": [
        "print ('Classification Report : \\n', classification_report(y_test.astype('int'), y_pred_class))\n",
        "sns.heatmap(confusion_matrix(y_test.astype('int'), y_pred_class), annot=True, fmt=\"d\");\n",
        "plt.title(\"Confusion matrix\")\n",
        "plt.ylabel('Actual class')\n",
        "plt.xlabel('Predicted class')\n",
        "plt.show()"
      ],
      "execution_count": 217,
      "outputs": [
        {
          "output_type": "stream",
          "text": [
            "Classification Report : \n",
            "               precision    recall  f1-score   support\n",
            "\n",
            "           0       0.79      0.69      0.74       488\n",
            "           1       0.24      0.28      0.26       120\n",
            "           2       0.46      0.58      0.51       292\n",
            "           3       0.19      0.21      0.20        71\n",
            "           4       0.25      0.11      0.15        76\n",
            "\n",
            "    accuracy                           0.54      1047\n",
            "   macro avg       0.39      0.37      0.37      1047\n",
            "weighted avg       0.55      0.54      0.54      1047\n",
            "\n"
          ],
          "name": "stdout"
        },
        {
          "output_type": "display_data",
          "data": {
            "image/png": "[encoded data removed]",
            "text/plain": [
              "<Figure size 432x288 with 2 Axes>"
            ]
          },
          "metadata": {
            "needs_background": "light"
          }
        }
      ]
    },
    {
      "cell_type": "code",
      "metadata": {
        "colab": {
          "base_uri": "https://localhost:8080/"
        },
        "id": "YDO9sSAQ1bV-",
        "outputId": "63912a6c-888c-40ae-b74d-d8c77a8c651f"
      },
      "source": [
        "print('''-----------------------------------------------------------------------------------------------------------------------\n",
        "| Layers                                        | Test Accuracy            | Test Kappa score  |  Test Macro-F1 score\n",
        "-----------------------------------------------------------------------------------------------------------------------''')\n",
        "print(\"| VGG16 without Top & CNN as FC                 | 0.72                     | 0.79              | 0.53\")\n",
        "print('''-----------------------------------------------------------------------------------------------------------------------''')\n",
        "print(\"| DenseNet                                      | 0.53                     | 0.49              | 0.37\")\n",
        "print('''-----------------------------------------------------------------------------------------------------------------------''')"
      ],
      "execution_count": 225,
      "outputs": [
        {
          "output_type": "stream",
          "text": [
            "-----------------------------------------------------------------------------------------------------------------------\n",
            "| Layers                                        | Test Accuracy            | Test Kappa score  |  Test Macro-F1 score\n",
            "-----------------------------------------------------------------------------------------------------------------------\n",
            "| VGG16 without Top & CNN as FC                 | 0.72                     | 0.79              | 0.53\n",
            "-----------------------------------------------------------------------------------------------------------------------\n",
            "| DenseNet                                      | 0.53                     | 0.49              | 0.37\n",
            "-----------------------------------------------------------------------------------------------------------------------\n"
          ],
          "name": "stdout"
        }
      ]
    },
    {
      "cell_type": "markdown",
      "metadata": {
        "id": "v1zbc4Dks6bz"
      },
      "source": [
        "**Observation:**\n",
        "\n",
        "* VGG16-CNN model is getting overfit from the 30th epoch, and there is no improvement in accuracy and loss. We achieved 72 % accuracy on test data.\n",
        "\n",
        "* DenseNet model is getting overfit after few epochs itself. At end of the 100th epoch it reaches a very good accuracy ~ 95 % on training data, but there is no improvement in test accuracy, and it didn't improve from ~65 %\n",
        "\n",
        "* I have tried with different growth rate with different depths, and many augumentation techniques, and different learning rates with One cycle LR, but none of them produced good results. All of them overfit well."
      ]
    }
  ]
}