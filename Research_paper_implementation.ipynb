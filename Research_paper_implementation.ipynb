{
 "cells": [
  {
   "cell_type": "code",
   "execution_count": 1,
   "metadata": {
    "id": "qYKF8dSh8RaJ"
   },
   "outputs": [],
   "source": [
    "#Importing packages\n",
    "import tensorflow as tf\n",
    "import os\n",
    "import numpy as np\n",
    "import pandas as pd\n",
    "from tensorflow import keras\n",
    "from tensorflow.keras.layers import Dense,Input,Conv2D,MaxPool2D,Activation,Dropout,Flatten,GlobalAveragePooling2D,GlobalMaxPool2D,concatenate\n",
    "from tensorflow.keras.models import Model\n",
    "from sklearn.preprocessing import MultiLabelBinarizer\n",
    "from sklearn.model_selection import KFold, StratifiedKFold\n",
    "import imgaug.augmenters as iaa\n",
    "from keras_preprocessing.image import ImageDataGenerator\n",
    "import random as rn\n",
    "import os\n",
    "import cv2\n",
    "import imageio\n",
    "import numpy as np\n",
    "from tqdm import tqdm\n",
    "from tensorflow.keras.callbacks import EarlyStopping\n",
    "import requests\n",
    "from tensorflow.keras.applications import VGG16, ResNet50\n",
    "import datetime\n",
    "import glob\n",
    "import warnings\n",
    "from tensorflow.keras import models, layers\n",
    "from sklearn.metrics import cohen_kappa_score\n",
    "from tensorflow.keras.losses import binary_crossentropy,categorical_crossentropy,mean_squared_error\n",
    "import math\n",
    "from keras.regularizers import l1 ,l2\n",
    "import keras\n",
    "from tensorflow.keras.layers import BatchNormalization, Activation, Flatten\n",
    "from tensorflow.keras.optimizers import Adam, SGD\n",
    "from sklearn.metrics import confusion_matrix, classification_report\n",
    "import seaborn as sns\n",
    "from matplotlib import pyplot as plt\n",
    "\n",
    "import argparse\n",
    "from google.colab import files\n",
    "import os\n",
    "import warnings\n",
    "\n",
    "from keras.callbacks import Callback\n",
    "from keras import backend as K\n",
    "warnings.filterwarnings('ignore')"
   ]
  },
  {
   "cell_type": "code",
   "execution_count": 2,
   "metadata": {
    "colab": {
     "base_uri": "https://localhost:8080/"
    },
    "id": "7kaFzCXE9M4T",
    "outputId": "f7d263a8-3514-4751-da36-db3f19c78608"
   },
   "outputs": [
    {
     "name": "stdout",
     "output_type": "stream",
     "text": [
      "Mounted at /content/drive\n"
     ]
    }
   ],
   "source": [
    "from google.colab import drive\n",
    "drive.mount('/content/drive')"
   ]
  },
  {
   "cell_type": "code",
   "execution_count": null,
   "metadata": {
    "id": "WF14VzjQmOg7"
   },
   "outputs": [],
   "source": [
    "!unzip /content/drive/MyDrive/Colab_Notebooks/Case_study2/resizedtrain_15.zip -d /content/drive/MyDrive/Colab_Notebooks/Case_study2/traindata_2015/"
   ]
  },
  {
   "cell_type": "markdown",
   "metadata": {
    "id": "aoEzzCxXMqMC"
   },
   "source": [
    "**Pre-training**\n"
   ]
  },
  {
   "cell_type": "code",
   "execution_count": 21,
   "metadata": {
    "id": "7C1ulKm8sZx8"
   },
   "outputs": [],
   "source": [
    "pre_df=pd.read_csv('/content/drive/MyDrive/Colab_Notebooks/Case_study2/pre_new_2019.csv',dtype=str)"
   ]
  },
  {
   "cell_type": "code",
   "execution_count": 22,
   "metadata": {
    "id": "HJPKdkPg3GYO"
   },
   "outputs": [],
   "source": [
    "# train test split\n",
    "from sklearn.model_selection import train_test_split\n",
    "y = pre_df['diagnosis'].values\n",
    "X_train, X_test, y_train, y_test = train_test_split(pre_df, y, test_size=0.20, stratify=y)"
   ]
  },
  {
   "cell_type": "code",
   "execution_count": 23,
   "metadata": {
    "colab": {
     "base_uri": "https://localhost:8080/"
    },
    "id": "KU5Gvi7XWNcU",
    "outputId": "bdcbf7ad-0301-4781-ef0e-e2215db42fa0"
   },
   "outputs": [
    {
     "name": "stdout",
     "output_type": "stream",
     "text": [
      "(4188, 4)\n",
      "(1047, 4)\n",
      "(4188,)\n",
      "(1047,)\n"
     ]
    }
   ],
   "source": [
    "print(X_train.shape)\n",
    "print(X_test.shape)\n",
    "print(y_train.shape)\n",
    "print(y_test.shape)"
   ]
  },
  {
   "cell_type": "markdown",
   "metadata": {
    "id": "WNCSzRQ9Ri8b"
   },
   "source": [
    "**A custom image generator is used to create a multiple output**"
   ]
  },
  {
   "cell_type": "code",
   "execution_count": 24,
   "metadata": {
    "id": "ElSs6SN_WpN0"
   },
   "outputs": [],
   "source": [
    "# code reference - https://github.com/debayanmitra1993-data/Blindness-Detection-Diabetic-Retinopathy-/blob/master/research_paper_implementation.ipynb\n",
    "#tf.keras.backend.clear_session()\n",
    "def multiple_outputs(generator,dataframe, batch_size, height,width, subset):\n",
    "    gen = generator.flow_from_dataframe(\n",
    "        dataframe = dataframe,\n",
    "        x_col = \"path\",\n",
    "        y_col = \"diagnosis\",\n",
    "        target_size=(height, width),\n",
    "        batch_size=batch_size,\n",
    "        class_mode='categorical',\n",
    "        subset=subset)\n",
    "    \n",
    "    mlb = MultiLabelBinarizer(classes = range(5))\n",
    "    \n",
    "    while True:\n",
    "        gnext = gen.next()\n",
    "        yield gnext[0], [np.argmax(gnext[1],axis = -1),gnext[1],mlb.fit_transform([list(range(x+1)) for x in np.argmax(gnext[1],axis = -1)])]"
   ]
  },
  {
   "cell_type": "code",
   "execution_count": 25,
   "metadata": {
    "id": "Og8BjO7KXGwf"
   },
   "outputs": [],
   "source": [
    "# reference URL - https://vijayabhaskar96.medium.com/tutorial-on-keras-flow-from-dataframe-1fd4493d237c\n",
    "datagen=ImageDataGenerator(rescale=1./255, rotation_range=360,brightness_range=[0.5, 1.5],\n",
    "                                     zoom_range=[1, 1.2],zca_whitening=True,horizontal_flip=True,\n",
    "                                     vertical_flip=True,fill_mode='constant',cval=0.,validation_split = 0.0)\n",
    "\n",
    "train_generator_2019=multiple_outputs(generator = datagen,dataframe = X_train,\n",
    "                                   batch_size=32,height = 320, width = 320, subset='training')"
   ]
  },
  {
   "cell_type": "markdown",
   "metadata": {
    "id": "8vKm9NxSRxO3"
   },
   "source": [
    "**CosineAnnealing scheduler implemetation**"
   ]
  },
  {
   "cell_type": "code",
   "execution_count": 220,
   "metadata": {
    "id": "kRBSvrEm7Prg"
   },
   "outputs": [],
   "source": [
    "# code reference  - https://github.com/debayanmitra1993-data/Blindness-Detection-Diabetic-Retinopathy-/blob/master/research_paper_implementation.ipynb\n",
    "def cosine_decay_with_warmup(global_step,\n",
    "                             learning_rate_base,\n",
    "                             total_steps,\n",
    "                             warmup_learning_rate=0.0,\n",
    "                             warmup_steps=0,\n",
    "                             hold_base_rate_steps=0):\n",
    "    if total_steps < warmup_steps:\n",
    "        raise ValueError('total_steps must be larger or equal to warmup_steps.')\n",
    "    learning_rate = 0.5 * learning_rate_base * (1 + np.cos(\n",
    "        np.pi *\n",
    "        (global_step - warmup_steps - hold_base_rate_steps\n",
    "         ) / float(total_steps - warmup_steps - hold_base_rate_steps)))\n",
    "    if hold_base_rate_steps > 0:\n",
    "        learning_rate = np.where(global_step > warmup_steps + hold_base_rate_steps,\n",
    "                                 learning_rate, learning_rate_base)\n",
    "    if warmup_steps > 0:\n",
    "        if learning_rate_base < warmup_learning_rate:\n",
    "            raise ValueError('learning_rate_base must be larger or equal to warmup_learning_rate.')\n",
    "        slope = (learning_rate_base - warmup_learning_rate) / warmup_steps\n",
    "        warmup_rate = slope * global_step + warmup_learning_rate\n",
    "        learning_rate = np.where(global_step < warmup_steps, warmup_rate,\n",
    "                                 learning_rate)\n",
    "    return np.where(global_step > total_steps, 0.0, learning_rate)\n",
    "\n",
    "class WarmUpCosineDecayScheduler(Callback):\n",
    "    \"\"\"Cosine decay with warmup learning rate scheduler\"\"\"\n",
    "\n",
    "    def __init__(self,\n",
    "                 learning_rate_base,\n",
    "                 total_steps,\n",
    "                 global_step_init=0,\n",
    "                 warmup_learning_rate=0.0,\n",
    "                 warmup_steps=0,\n",
    "                 hold_base_rate_steps=0,\n",
    "                 verbose=0):\n",
    "      super(WarmUpCosineDecayScheduler, self).__init__()\n",
    "      self.learning_rate_base = learning_rate_base\n",
    "      self.total_steps = total_steps\n",
    "      self.global_step = global_step_init\n",
    "      self.warmup_learning_rate = warmup_learning_rate\n",
    "      self.warmup_steps = warmup_steps\n",
    "      self.hold_base_rate_steps = hold_base_rate_steps\n",
    "      self.verbose = verbose\n",
    "      self.learning_rates = []\n",
    "\n",
    "    def on_batch_end(self, batch, logs=None):\n",
    "        self.global_step = self.global_step + 1\n",
    "        lr = K.get_value(self.model.optimizer.lr)\n",
    "        self.learning_rates.append(lr)\n",
    "      \n",
    "    def on_batch_begin(self, batch, logs=None):\n",
    "        lr = cosine_decay_with_warmup(global_step=self.global_step,\n",
    "                                      learning_rate_base=self.learning_rate_base,\n",
    "                                      total_steps=self.total_steps,\n",
    "                                      warmup_learning_rate=self.warmup_learning_rate,\n",
    "                                      warmup_steps=self.warmup_steps,\n",
    "                                      hold_base_rate_steps=self.hold_base_rate_steps)\n",
    "        K.set_value(self.model.optimizer.lr, lr)\n",
    "        if self.verbose > 0:\n",
    "            print('\\nBatch %02d: setting learning rate to %s.' % (self.global_step + 1, lr))"
   ]
  },
  {
   "cell_type": "code",
   "execution_count": null,
   "metadata": {
    "id": "dd8YikHY8Cj3"
   },
   "outputs": [],
   "source": [
    "STEP_SIZE_TRAIN = len(X_train) // 32"
   ]
  },
  {
   "cell_type": "code",
   "execution_count": 221,
   "metadata": {
    "id": "QVxlBu-R7sIU"
   },
   "outputs": [],
   "source": [
    "# Use Cosine LR Scheduler as callback\n",
    "cosine_lr = WarmUpCosineDecayScheduler(learning_rate_base = 0.0004,\n",
    "                                       total_steps=STEP_SIZE_TRAIN * 5,\n",
    "                                       warmup_learning_rate=0.0,\n",
    "                                       warmup_steps=STEP_SIZE_TRAIN * 5,\n",
    "                                       hold_base_rate_steps=(2 * STEP_SIZE_TRAIN))\n",
    "\n",
    "callback_list = [cosine_lr]"
   ]
  },
  {
   "cell_type": "markdown",
   "metadata": {
    "id": "w2RWlZUPR_SI"
   },
   "source": [
    "**Stage 1 - Pretraining of 2019 APTOS training preprocessed fundus images**"
   ]
  },
  {
   "cell_type": "code",
   "execution_count": 222,
   "metadata": {
    "colab": {
     "base_uri": "https://localhost:8080/"
    },
    "id": "7Temce-qjIR2",
    "outputId": "9b422377-b97c-4553-eb01-660f73e54941"
   },
   "outputs": [
    {
     "name": "stdout",
     "output_type": "stream",
     "text": [
      "Downloading data from https://storage.googleapis.com/tensorflow/keras-applications/resnet/resnet50_weights_tf_dim_ordering_tf_kernels_notop.h5\n",
      "94773248/94765736 [==============================] - 0s 0us/step\n",
      "94781440/94765736 [==============================] - 0s 0us/step\n"
     ]
    }
   ],
   "source": [
    "os.environ['PYTHONHASHSEED'] = '0'\n",
    "\n",
    "##https://keras.io/getting-started/faq/#how-can-i-obtain-reproducible-results-using-keras-during-development\n",
    "## Have to clear the session. If you are not clearing, Graph will create again and again and graph size will increses. \n",
    "## Varibles will also set to some value from before session\n",
    "tf.keras.backend.clear_session()\n",
    "\n",
    "## Set the random seed values to regenerate the model.\n",
    "np.random.seed(0)\n",
    "rn.seed(0)\n",
    "\n",
    "resnet_base = ResNet50(weights='imagenet', include_top=False, input_shape=(320,320,3))\n",
    "\n",
    "input_layer = Input(shape=(320,320,3),name='Input_Layer')\n",
    "\n",
    "resnet_layer= resnet_base(input_layer)\n",
    "\n",
    "gap = GlobalAveragePooling2D()(resnet_layer)\n",
    "batch1 = BatchNormalization()(gap)\n",
    "\n",
    "gmp = GlobalMaxPool2D()(resnet_layer)\n",
    "batch2 = BatchNormalization()(gmp)\n",
    "\n",
    "#concatinating all inputs\n",
    "concat_layer = concatenate([batch1,batch2])\n",
    "\n",
    "#Dense layer of concat data\n",
    "Dense_concat = Dense(1024, activation='relu')(concat_layer)\n",
    "\n",
    "# Regression Head\n",
    "dense1_r = Dense(1024, activation='relu')(Dense_concat)\n",
    "drop_r = Dropout(0.2)(dense1_r)\n",
    "dense2_r = Dense(1,activation = 'linear',name = 'regression_head')(drop_r)\n",
    "\n",
    "# Classification Head\n",
    "dense1_c = Dense(1024, activation='relu')(Dense_concat)\n",
    "drop_c = Dropout(0.2)(dense1_c)\n",
    "dense2_c = Dense(5,activation = 'softmax',name = 'classification_head')(drop_c)\n",
    "\n",
    "# Ordinal Regression Head\n",
    "dense1_o = Dense(1024, activation='relu')(Dense_concat)\n",
    "drop_o = Dropout(0.2)(dense1_o)\n",
    "dense2_o = Dense(5,activation = 'softmax',name = 'ordinal_head')(drop_o)\n",
    "\n",
    "model = Model(inputs = [input_layer], outputs = [dense2_r, dense2_c, dense2_o])"
   ]
  },
  {
   "cell_type": "code",
   "execution_count": 223,
   "metadata": {
    "colab": {
     "base_uri": "https://localhost:8080/"
    },
    "id": "PHSDtRA9wG3H",
    "outputId": "d7b264b2-00bd-4e2e-9e76-f5192cce0877"
   },
   "outputs": [
    {
     "name": "stdout",
     "output_type": "stream",
     "text": [
      "Model: \"model\"\n",
      "__________________________________________________________________________________________________\n",
      "Layer (type)                    Output Shape         Param #     Connected to                     \n",
      "==================================================================================================\n",
      "Input_Layer (InputLayer)        [(None, 320, 320, 3) 0                                            \n",
      "__________________________________________________________________________________________________\n",
      "resnet50 (Functional)           (None, 10, 10, 2048) 23587712    Input_Layer[0][0]                \n",
      "__________________________________________________________________________________________________\n",
      "global_average_pooling2d (Globa (None, 2048)         0           resnet50[0][0]                   \n",
      "__________________________________________________________________________________________________\n",
      "global_max_pooling2d (GlobalMax (None, 2048)         0           resnet50[0][0]                   \n",
      "__________________________________________________________________________________________________\n",
      "batch_normalization (BatchNorma (None, 2048)         8192        global_average_pooling2d[0][0]   \n",
      "__________________________________________________________________________________________________\n",
      "batch_normalization_1 (BatchNor (None, 2048)         8192        global_max_pooling2d[0][0]       \n",
      "__________________________________________________________________________________________________\n",
      "concatenate (Concatenate)       (None, 4096)         0           batch_normalization[0][0]        \n",
      "                                                                 batch_normalization_1[0][0]      \n",
      "__________________________________________________________________________________________________\n",
      "dense (Dense)                   (None, 1024)         4195328     concatenate[0][0]                \n",
      "__________________________________________________________________________________________________\n",
      "dense_1 (Dense)                 (None, 1024)         1049600     dense[0][0]                      \n",
      "__________________________________________________________________________________________________\n",
      "dense_2 (Dense)                 (None, 1024)         1049600     dense[0][0]                      \n",
      "__________________________________________________________________________________________________\n",
      "dense_3 (Dense)                 (None, 1024)         1049600     dense[0][0]                      \n",
      "__________________________________________________________________________________________________\n",
      "dropout (Dropout)               (None, 1024)         0           dense_1[0][0]                    \n",
      "__________________________________________________________________________________________________\n",
      "dropout_1 (Dropout)             (None, 1024)         0           dense_2[0][0]                    \n",
      "__________________________________________________________________________________________________\n",
      "dropout_2 (Dropout)             (None, 1024)         0           dense_3[0][0]                    \n",
      "__________________________________________________________________________________________________\n",
      "regression_head (Dense)         (None, 1)            1025        dropout[0][0]                    \n",
      "__________________________________________________________________________________________________\n",
      "classification_head (Dense)     (None, 5)            5125        dropout_1[0][0]                  \n",
      "__________________________________________________________________________________________________\n",
      "ordinal_head (Dense)            (None, 5)            5125        dropout_2[0][0]                  \n",
      "==================================================================================================\n",
      "Total params: 30,959,499\n",
      "Trainable params: 30,898,187\n",
      "Non-trainable params: 61,312\n",
      "__________________________________________________________________________________________________\n"
     ]
    }
   ],
   "source": [
    "# to train all the layers\n",
    "for layer in model.layers:\n",
    "    layer.trainable = True\n",
    "model.summary()"
   ]
  },
  {
   "cell_type": "code",
   "execution_count": 224,
   "metadata": {
    "id": "7kRXeqL7EJVo"
   },
   "outputs": [],
   "source": [
    "# determine Loss function and Optimizer\n",
    "tf.keras.backend.clear_session()\n",
    "optimizer = SGD(learning_rate=0.0004)\n",
    "model.compile(loss={'regression_head': 'mean_absolute_error',\n",
    "                    'classification_head': 'categorical_crossentropy',\n",
    "                    'ordinal_head' : 'binary_crossentropy'\n",
    "                    },\n",
    "              optimizer=optimizer,\n",
    "              metrics=['accuracy'])"
   ]
  },
  {
   "cell_type": "code",
   "execution_count": 83,
   "metadata": {
    "colab": {
     "base_uri": "https://localhost:8080/"
    },
    "id": "BrmE6LvxM-wS",
    "outputId": "ca6af3f8-856d-4b9b-d2b2-19cb89a420fc"
   },
   "outputs": [
    {
     "name": "stdout",
     "output_type": "stream",
     "text": [
      "Epoch 1/20\n",
      "  6/130 [>.............................] - ETA: 1:35 - loss: 5.2238 - regression_head_loss: 2.0271 - classification_head_loss: 2.1668 - ordinal_head_loss: 1.0299 - regression_head_accuracy: 0.3906 - classification_head_accuracy: 0.2344 - ordinal_head_accuracy: 0.0469WARNING:tensorflow:Callback method `on_train_batch_end` is slow compared to the batch time (batch time: 0.3629s vs `on_train_batch_end` time: 0.4048s). Check your callbacks.\n",
      "130/130 [==============================] - 105s 776ms/step - loss: 5.0247 - regression_head_loss: 1.8489 - classification_head_loss: 2.1644 - ordinal_head_loss: 1.0114 - regression_head_accuracy: 0.3513 - classification_head_accuracy: 0.2440 - ordinal_head_accuracy: 0.0910\n",
      "Epoch 2/20\n",
      "130/130 [==============================] - 102s 785ms/step - loss: 4.1778 - regression_head_loss: 1.4733 - classification_head_loss: 1.8023 - ordinal_head_loss: 0.9023 - regression_head_accuracy: 0.2923 - classification_head_accuracy: 0.3638 - ordinal_head_accuracy: 0.1598\n",
      "Epoch 3/20\n",
      "130/130 [==============================] - 101s 775ms/step - loss: 3.6905 - regression_head_loss: 1.3726 - classification_head_loss: 1.5803 - ordinal_head_loss: 0.7376 - regression_head_accuracy: 0.2887 - classification_head_accuracy: 0.4706 - ordinal_head_accuracy: 0.3304\n",
      "Epoch 4/20\n",
      "130/130 [==============================] - 101s 779ms/step - loss: 3.3512 - regression_head_loss: 1.3047 - classification_head_loss: 1.4513 - ordinal_head_loss: 0.5952 - regression_head_accuracy: 0.3183 - classification_head_accuracy: 0.5154 - ordinal_head_accuracy: 0.5342\n",
      "Epoch 5/20\n",
      "130/130 [==============================] - 101s 774ms/step - loss: 3.0843 - regression_head_loss: 1.2448 - classification_head_loss: 1.3469 - ordinal_head_loss: 0.4926 - regression_head_accuracy: 0.3215 - classification_head_accuracy: 0.5431 - ordinal_head_accuracy: 0.7012\n",
      "Epoch 6/20\n",
      "130/130 [==============================] - 101s 778ms/step - loss: 2.8558 - regression_head_loss: 1.1894 - classification_head_loss: 1.2400 - ordinal_head_loss: 0.4264 - regression_head_accuracy: 0.3335 - classification_head_accuracy: 0.5768 - ordinal_head_accuracy: 0.7846\n",
      "Epoch 7/20\n",
      "130/130 [==============================] - 101s 776ms/step - loss: 2.7566 - regression_head_loss: 1.1703 - classification_head_loss: 1.1946 - ordinal_head_loss: 0.3916 - regression_head_accuracy: 0.3381 - classification_head_accuracy: 0.5772 - ordinal_head_accuracy: 0.8227\n",
      "Epoch 8/20\n",
      "130/130 [==============================] - 101s 774ms/step - loss: 2.7191 - regression_head_loss: 1.1564 - classification_head_loss: 1.1716 - ordinal_head_loss: 0.3911 - regression_head_accuracy: 0.3482 - classification_head_accuracy: 0.5878 - ordinal_head_accuracy: 0.8128\n",
      "Epoch 9/20\n",
      "130/130 [==============================] - 100s 771ms/step - loss: 2.7749 - regression_head_loss: 1.1677 - classification_head_loss: 1.2195 - ordinal_head_loss: 0.3878 - regression_head_accuracy: 0.3412 - classification_head_accuracy: 0.5799 - ordinal_head_accuracy: 0.8258\n",
      "Epoch 10/20\n",
      "130/130 [==============================] - 101s 773ms/step - loss: 2.7426 - regression_head_loss: 1.1706 - classification_head_loss: 1.1796 - ordinal_head_loss: 0.3924 - regression_head_accuracy: 0.3482 - classification_head_accuracy: 0.5938 - ordinal_head_accuracy: 0.8159\n",
      "Epoch 11/20\n",
      "130/130 [==============================] - 100s 771ms/step - loss: 2.7489 - regression_head_loss: 1.1740 - classification_head_loss: 1.1826 - ordinal_head_loss: 0.3924 - regression_head_accuracy: 0.3393 - classification_head_accuracy: 0.5871 - ordinal_head_accuracy: 0.8162\n",
      "Epoch 12/20\n",
      "130/130 [==============================] - 101s 775ms/step - loss: 2.7827 - regression_head_loss: 1.1927 - classification_head_loss: 1.1997 - ordinal_head_loss: 0.3903 - regression_head_accuracy: 0.3275 - classification_head_accuracy: 0.5813 - ordinal_head_accuracy: 0.8152\n",
      "Epoch 13/20\n",
      "130/130 [==============================] - 101s 775ms/step - loss: 2.7419 - regression_head_loss: 1.1756 - classification_head_loss: 1.1766 - ordinal_head_loss: 0.3897 - regression_head_accuracy: 0.3299 - classification_head_accuracy: 0.5878 - ordinal_head_accuracy: 0.8219\n",
      "Epoch 14/20\n",
      "130/130 [==============================] - 101s 776ms/step - loss: 2.7573 - regression_head_loss: 1.1890 - classification_head_loss: 1.1803 - ordinal_head_loss: 0.3880 - regression_head_accuracy: 0.3316 - classification_head_accuracy: 0.5842 - ordinal_head_accuracy: 0.8188\n",
      "Epoch 15/20\n",
      "130/130 [==============================] - 100s 772ms/step - loss: 2.6900 - regression_head_loss: 1.1325 - classification_head_loss: 1.1694 - ordinal_head_loss: 0.3882 - regression_head_accuracy: 0.3429 - classification_head_accuracy: 0.5876 - ordinal_head_accuracy: 0.8157\n",
      "Epoch 16/20\n",
      "130/130 [==============================] - 101s 777ms/step - loss: 2.7586 - regression_head_loss: 1.1710 - classification_head_loss: 1.1984 - ordinal_head_loss: 0.3893 - regression_head_accuracy: 0.3383 - classification_head_accuracy: 0.5857 - ordinal_head_accuracy: 0.8183\n",
      "Epoch 17/20\n",
      "130/130 [==============================] - 101s 777ms/step - loss: 2.7513 - regression_head_loss: 1.1609 - classification_head_loss: 1.2010 - ordinal_head_loss: 0.3894 - regression_head_accuracy: 0.3393 - classification_head_accuracy: 0.5796 - ordinal_head_accuracy: 0.8157\n",
      "Epoch 18/20\n",
      "130/130 [==============================] - 101s 776ms/step - loss: 2.7361 - regression_head_loss: 1.1922 - classification_head_loss: 1.1567 - ordinal_head_loss: 0.3873 - regression_head_accuracy: 0.3333 - classification_head_accuracy: 0.5960 - ordinal_head_accuracy: 0.8299\n",
      "Epoch 19/20\n",
      "130/130 [==============================] - 101s 774ms/step - loss: 2.7905 - regression_head_loss: 1.1838 - classification_head_loss: 1.2078 - ordinal_head_loss: 0.3989 - regression_head_accuracy: 0.3400 - classification_head_accuracy: 0.5741 - ordinal_head_accuracy: 0.8210\n",
      "Epoch 20/20\n",
      "130/130 [==============================] - 101s 775ms/step - loss: 2.7665 - regression_head_loss: 1.1984 - classification_head_loss: 1.1811 - ordinal_head_loss: 0.3870 - regression_head_accuracy: 0.3371 - classification_head_accuracy: 0.5866 - ordinal_head_accuracy: 0.8268\n"
     ]
    }
   ],
   "source": [
    "history = model.fit_generator(train_generator_2019, steps_per_epoch=STEP_SIZE_TRAIN, epochs=20, callbacks=callback_list)\n",
    "model.save('/content/d/premodel_training.h5')"
   ]
  },
  {
   "cell_type": "code",
   "execution_count": 84,
   "metadata": {
    "colab": {
     "base_uri": "https://localhost:8080/",
     "height": 295
    },
    "id": "nDS3a-_vyZY4",
    "outputId": "196715fc-b0c4-4f24-c123-b57c72e37cdf"
   },
   "outputs": [
    {
     "data": {
      "image/png": "[encoded data removed]",
      "text/plain": [
       "<Figure size 432x288 with 1 Axes>"
      ]
     },
     "metadata": {
      "needs_background": "light"
     },
     "output_type": "display_data"
    }
   ],
   "source": [
    "plt.plot(history.history['regression_head_loss'])\n",
    "plt.title('Regression Head Loss - Pre Training')\n",
    "plt.ylabel('Loss (MAE)')\n",
    "plt.xlabel('Epoch')\n",
    "plt.legend(['Train'], loc='best')\n",
    "plt.xticks(range(1,21))\n",
    "plt.gca().ticklabel_format(axis='both', style='plain', useOffset=False)\n",
    "plt.show()"
   ]
  },
  {
   "cell_type": "code",
   "execution_count": 85,
   "metadata": {
    "colab": {
     "base_uri": "https://localhost:8080/",
     "height": 295
    },
    "id": "QyMLO_Nl0M0N",
    "outputId": "31df7a45-8358-4f5a-bebe-72681b201a96"
   },
   "outputs": [
    {
     "data": {
      "image/png": "[encoded data removed]",
      "text/plain": [
       "<Figure size 432x288 with 1 Axes>"
      ]
     },
     "metadata": {
      "needs_background": "light"
     },
     "output_type": "display_data"
    }
   ],
   "source": [
    "plt.plot(history.history['classification_head_loss'])\n",
    "plt.title('classification Head Loss - Pre Training')\n",
    "plt.ylabel('Loss (Categorical Cross Entropy)')\n",
    "plt.xlabel('Epoch')\n",
    "plt.legend(['Train'], loc='best')\n",
    "plt.xticks(range(1,21))\n",
    "plt.gca().ticklabel_format(axis='both', style='plain', useOffset=False)\n",
    "plt.show()"
   ]
  },
  {
   "cell_type": "code",
   "execution_count": 86,
   "metadata": {
    "colab": {
     "base_uri": "https://localhost:8080/",
     "height": 295
    },
    "id": "EThNEAtt0gEc",
    "outputId": "f8da6397-22a0-4353-c4bf-3f3b65909ccb"
   },
   "outputs": [
    {
     "data": {
      "image/png": "[encoded data removed]",
      "text/plain": [
       "<Figure size 432x288 with 1 Axes>"
      ]
     },
     "metadata": {
      "needs_background": "light"
     },
     "output_type": "display_data"
    }
   ],
   "source": [
    "plt.plot(history.history['ordinal_head_loss'])\n",
    "plt.title('Ordinal Head Loss - Pre Training')\n",
    "plt.ylabel('Loss (Binary Cross Entropy)')\n",
    "plt.xlabel('Epoch')\n",
    "plt.legend(['Train'], loc='best')\n",
    "plt.xticks(range(1,21))\n",
    "plt.gca().ticklabel_format(axis='both', style='plain', useOffset=False)\n",
    "plt.show()"
   ]
  },
  {
   "cell_type": "markdown",
   "metadata": {
    "id": "JbMpIaQvSKLi"
   },
   "source": [
    "**Stage 2 - Main Training on 2019 APTOS, MESSIDOR & IDRiD prprocessed fundus images -Part 1(Traing 5 epochs with frozen encoder layers)**"
   ]
  },
  {
   "cell_type": "code",
   "execution_count": 225,
   "metadata": {
    "colab": {
     "base_uri": "https://localhost:8080/"
    },
    "id": "VBdex5fBpLDB",
    "outputId": "5602975a-0d81-4be3-a1a1-621696163cdb"
   },
   "outputs": [
    {
     "name": "stdout",
     "output_type": "stream",
     "text": [
      "<keras.layers.pooling.GlobalAveragePooling2D object at 0x7fd40d908090>\n",
      "<keras.layers.pooling.GlobalMaxPooling2D object at 0x7fd40d39c210>\n",
      "<keras.layers.normalization.batch_normalization.BatchNormalization object at 0x7fd40db8d510>\n",
      "<keras.layers.normalization.batch_normalization.BatchNormalization object at 0x7fd40d907650>\n",
      "<keras.layers.merge.Concatenate object at 0x7fd40d2bc2d0>\n",
      "<keras.layers.core.Dense object at 0x7fd40d909f10>\n",
      "<keras.layers.core.Dense object at 0x7fd40d2e2890>\n",
      "<keras.layers.core.Dense object at 0x7fd40d2c0bd0>\n",
      "<keras.layers.core.Dense object at 0x7fd40d2cb790>\n",
      "<keras.layers.core.Dropout object at 0x7fd40e47e250>\n",
      "<keras.layers.core.Dropout object at 0x7fd40d2e9490>\n",
      "<keras.layers.core.Dropout object at 0x7fd40d2cfb50>\n",
      "<keras.layers.core.Dense object at 0x7fd40d2e27d0>\n",
      "<keras.layers.core.Dense object at 0x7fd40d2c7ad0>\n",
      "<keras.layers.core.Dense object at 0x7fd40d27a210>\n"
     ]
    }
   ],
   "source": [
    "for i in range(-15,0):\n",
    "  print(model.layers[i])"
   ]
  },
  {
   "cell_type": "code",
   "execution_count": 226,
   "metadata": {
    "colab": {
     "base_uri": "https://localhost:8080/"
    },
    "id": "tOpRtjQ8NFIv",
    "outputId": "6d242648-a398-4963-d94e-5680adb07725"
   },
   "outputs": [
    {
     "name": "stdout",
     "output_type": "stream",
     "text": [
      "Model: \"model\"\n",
      "__________________________________________________________________________________________________\n",
      "Layer (type)                    Output Shape         Param #     Connected to                     \n",
      "==================================================================================================\n",
      "Input_Layer (InputLayer)        [(None, 320, 320, 3) 0                                            \n",
      "__________________________________________________________________________________________________\n",
      "resnet50 (Functional)           (None, 10, 10, 2048) 23587712    Input_Layer[0][0]                \n",
      "__________________________________________________________________________________________________\n",
      "global_average_pooling2d (Globa (None, 2048)         0           resnet50[0][0]                   \n",
      "__________________________________________________________________________________________________\n",
      "global_max_pooling2d (GlobalMax (None, 2048)         0           resnet50[0][0]                   \n",
      "__________________________________________________________________________________________________\n",
      "batch_normalization (BatchNorma (None, 2048)         8192        global_average_pooling2d[0][0]   \n",
      "__________________________________________________________________________________________________\n",
      "batch_normalization_1 (BatchNor (None, 2048)         8192        global_max_pooling2d[0][0]       \n",
      "__________________________________________________________________________________________________\n",
      "concatenate (Concatenate)       (None, 4096)         0           batch_normalization[0][0]        \n",
      "                                                                 batch_normalization_1[0][0]      \n",
      "__________________________________________________________________________________________________\n",
      "dense (Dense)                   (None, 1024)         4195328     concatenate[0][0]                \n",
      "__________________________________________________________________________________________________\n",
      "dense_1 (Dense)                 (None, 1024)         1049600     dense[0][0]                      \n",
      "__________________________________________________________________________________________________\n",
      "dense_2 (Dense)                 (None, 1024)         1049600     dense[0][0]                      \n",
      "__________________________________________________________________________________________________\n",
      "dense_3 (Dense)                 (None, 1024)         1049600     dense[0][0]                      \n",
      "__________________________________________________________________________________________________\n",
      "dropout (Dropout)               (None, 1024)         0           dense_1[0][0]                    \n",
      "__________________________________________________________________________________________________\n",
      "dropout_1 (Dropout)             (None, 1024)         0           dense_2[0][0]                    \n",
      "__________________________________________________________________________________________________\n",
      "dropout_2 (Dropout)             (None, 1024)         0           dense_3[0][0]                    \n",
      "__________________________________________________________________________________________________\n",
      "regression_head (Dense)         (None, 1)            1025        dropout[0][0]                    \n",
      "__________________________________________________________________________________________________\n",
      "classification_head (Dense)     (None, 5)            5125        dropout_1[0][0]                  \n",
      "__________________________________________________________________________________________________\n",
      "ordinal_head (Dense)            (None, 5)            5125        dropout_2[0][0]                  \n",
      "==================================================================================================\n",
      "Total params: 30,959,499\n",
      "Trainable params: 7,363,595\n",
      "Non-trainable params: 23,595,904\n",
      "__________________________________________________________________________________________________\n"
     ]
    }
   ],
   "source": [
    "for layer in model.layers:\n",
    "    layer.trainable = False\n",
    "\n",
    "for i in range(-15,0):\n",
    "  model.layers[i].trainable = True\n",
    "\n",
    "model.summary()"
   ]
  },
  {
   "cell_type": "markdown",
   "metadata": {
    "id": "mdugBXurSvg7"
   },
   "source": [
    "**Implemetation of Binary_focal & Categorical focal loss**"
   ]
  },
  {
   "cell_type": "code",
   "execution_count": 89,
   "metadata": {
    "id": "Xgcu9hyTH5rZ"
   },
   "outputs": [],
   "source": [
    "# code reference - https://github.com/debayanmitra1993-data/Blindness-Detection-Diabetic-Retinopathy-/blob/master/research_paper_implementation.ipynb\n",
    "def binary_focal_loss(gamma=2., alpha=.25):\n",
    "    def binary_focal_loss_fixed(y_true, y_pred):\n",
    "        \"\"\"\n",
    "        :param y_true: A tensor of the same shape as `y_pred`\n",
    "        :param y_pred:  A tensor resulting from a sigmoid\n",
    "        :return: Output tensor.\n",
    "        \"\"\"\n",
    "        pt_1 = tf.where(tf.equal(y_true, 1), y_pred, tf.ones_like(y_pred))\n",
    "        pt_0 = tf.where(tf.equal(y_true, 0), y_pred, tf.zeros_like(y_pred))\n",
    "\n",
    "        epsilon = K.epsilon()\n",
    "        # clip to prevent NaN's and Inf's\n",
    "        pt_1 = K.clip(pt_1, epsilon, 1. - epsilon)\n",
    "        pt_0 = K.clip(pt_0, epsilon, 1. - epsilon)\n",
    "\n",
    "        return -K.mean(alpha * K.pow(1. - pt_1, gamma) * K.log(pt_1)) \\\n",
    "               -K.mean((1 - alpha) * K.pow(pt_0, gamma) * K.log(1. - pt_0))\n",
    "\n",
    "    return binary_focal_loss_fixed"
   ]
  },
  {
   "cell_type": "code",
   "execution_count": 90,
   "metadata": {
    "id": "vf3sKhHF9Dbd"
   },
   "outputs": [],
   "source": [
    "# code reference - https://github.com/debayanmitra1993-data/Blindness-Detection-Diabetic-Retinopathy-/blob/master/research_paper_implementation.ipynb\n",
    "def categorical_focal_loss(gamma=2., alpha=.25):\n",
    "    def categorical_focal_loss_fixed(y_true, y_pred):\n",
    "        \"\"\"\n",
    "        :param y_true: A tensor of the same shape as `y_pred`\n",
    "        :param y_pred: A tensor resulting from a softmax\n",
    "        :return: Output tensor.\n",
    "        \"\"\"\n",
    "\n",
    "        # Scale predictions so that the class probas of each sample sum to 1\n",
    "        y_pred /= K.sum(y_pred, axis=-1, keepdims=True)\n",
    "\n",
    "        # Clip the prediction value to prevent NaN's and Inf's\n",
    "        epsilon = K.epsilon()\n",
    "        y_pred = K.clip(y_pred, epsilon, 1. - epsilon)\n",
    "\n",
    "        # Calculate Cross Entropy\n",
    "        cross_entropy = -y_true * K.log(y_pred)\n",
    "\n",
    "        # Calculate Focal Loss\n",
    "        loss = alpha * K.pow(1 - y_pred, gamma) * cross_entropy\n",
    "\n",
    "        # Compute mean loss in mini_batch\n",
    "        return K.mean(loss, axis=1)\n",
    "\n",
    "    return categorical_focal_loss_fixed"
   ]
  },
  {
   "cell_type": "code",
   "execution_count": 91,
   "metadata": {
    "id": "LxbggODF-UC9"
   },
   "outputs": [],
   "source": [
    "optimizer = Adam(learning_rate=0.004)\n",
    "\n",
    "model.compile(loss={'classification_head': categorical_focal_loss(alpha=.25, gamma=2), \n",
    "                    'regression_head': mean_squared_error,\n",
    "                    'ordinal_head' : binary_focal_loss(alpha=.25, gamma=2)\n",
    "                    },\n",
    "              optimizer=optimizer,\n",
    "              metrics=['accuracy'])"
   ]
  },
  {
   "cell_type": "code",
   "execution_count": 92,
   "metadata": {
    "colab": {
     "base_uri": "https://localhost:8080/"
    },
    "id": "tHE9wEdN9ktW",
    "outputId": "87cf686a-2c24-4521-fe0c-90eb05de6862"
   },
   "outputs": [
    {
     "name": "stdout",
     "output_type": "stream",
     "text": [
      "Epoch 1/5\n",
      "130/130 [==============================] - 102s 765ms/step - loss: 2.4207 - regression_head_loss: 2.1964 - classification_head_loss: 0.0435 - ordinal_head_loss: 0.1808 - regression_head_accuracy: 0.3385 - classification_head_accuracy: 0.5962 - ordinal_head_accuracy: 0.8138\n",
      "Epoch 2/5\n",
      "130/130 [==============================] - 99s 764ms/step - loss: 2.4159 - regression_head_loss: 2.1905 - classification_head_loss: 0.0448 - ordinal_head_loss: 0.1807 - regression_head_accuracy: 0.3390 - classification_head_accuracy: 0.5878 - ordinal_head_accuracy: 0.8210\n",
      "Epoch 3/5\n",
      "130/130 [==============================] - 99s 760ms/step - loss: 2.3796 - regression_head_loss: 2.1582 - classification_head_loss: 0.0441 - ordinal_head_loss: 0.1773 - regression_head_accuracy: 0.3499 - classification_head_accuracy: 0.5873 - ordinal_head_accuracy: 0.8188\n",
      "Epoch 4/5\n",
      "130/130 [==============================] - 99s 760ms/step - loss: 2.3911 - regression_head_loss: 2.1669 - classification_head_loss: 0.0431 - ordinal_head_loss: 0.1811 - regression_head_accuracy: 0.3385 - classification_head_accuracy: 0.5885 - ordinal_head_accuracy: 0.8236\n",
      "Epoch 5/5\n",
      "130/130 [==============================] - 99s 763ms/step - loss: 2.4098 - regression_head_loss: 2.1841 - classification_head_loss: 0.0448 - ordinal_head_loss: 0.1809 - regression_head_accuracy: 0.3438 - classification_head_accuracy: 0.5962 - ordinal_head_accuracy: 0.8265\n"
     ]
    }
   ],
   "source": [
    "history1 = model.fit_generator(generator=train_generator_2019, steps_per_epoch=STEP_SIZE_TRAIN, epochs=5, callbacks=callback_list)\n",
    "model.save('/content/d/model_main_training.h5')"
   ]
  },
  {
   "cell_type": "markdown",
   "metadata": {
    "id": "62fe274JS3fp"
   },
   "source": [
    "**Stage 2 - Main Training on 2019 APTOS, MESSIDOR & IDRiD prprocessed fundus images -Part 2(Traing 50 epochs on complete model)**"
   ]
  },
  {
   "cell_type": "code",
   "execution_count": 227,
   "metadata": {
    "colab": {
     "base_uri": "https://localhost:8080/"
    },
    "id": "aRtf1rMW-wYN",
    "outputId": "8e7319b4-d6fd-4c68-dd77-1659b86c8035"
   },
   "outputs": [
    {
     "name": "stdout",
     "output_type": "stream",
     "text": [
      "Model: \"model\"\n",
      "__________________________________________________________________________________________________\n",
      "Layer (type)                    Output Shape         Param #     Connected to                     \n",
      "==================================================================================================\n",
      "Input_Layer (InputLayer)        [(None, 320, 320, 3) 0                                            \n",
      "__________________________________________________________________________________________________\n",
      "resnet50 (Functional)           (None, 10, 10, 2048) 23587712    Input_Layer[0][0]                \n",
      "__________________________________________________________________________________________________\n",
      "global_average_pooling2d (Globa (None, 2048)         0           resnet50[0][0]                   \n",
      "__________________________________________________________________________________________________\n",
      "global_max_pooling2d (GlobalMax (None, 2048)         0           resnet50[0][0]                   \n",
      "__________________________________________________________________________________________________\n",
      "batch_normalization (BatchNorma (None, 2048)         8192        global_average_pooling2d[0][0]   \n",
      "__________________________________________________________________________________________________\n",
      "batch_normalization_1 (BatchNor (None, 2048)         8192        global_max_pooling2d[0][0]       \n",
      "__________________________________________________________________________________________________\n",
      "concatenate (Concatenate)       (None, 4096)         0           batch_normalization[0][0]        \n",
      "                                                                 batch_normalization_1[0][0]      \n",
      "__________________________________________________________________________________________________\n",
      "dense (Dense)                   (None, 1024)         4195328     concatenate[0][0]                \n",
      "__________________________________________________________________________________________________\n",
      "dense_1 (Dense)                 (None, 1024)         1049600     dense[0][0]                      \n",
      "__________________________________________________________________________________________________\n",
      "dense_2 (Dense)                 (None, 1024)         1049600     dense[0][0]                      \n",
      "__________________________________________________________________________________________________\n",
      "dense_3 (Dense)                 (None, 1024)         1049600     dense[0][0]                      \n",
      "__________________________________________________________________________________________________\n",
      "dropout (Dropout)               (None, 1024)         0           dense_1[0][0]                    \n",
      "__________________________________________________________________________________________________\n",
      "dropout_1 (Dropout)             (None, 1024)         0           dense_2[0][0]                    \n",
      "__________________________________________________________________________________________________\n",
      "dropout_2 (Dropout)             (None, 1024)         0           dense_3[0][0]                    \n",
      "__________________________________________________________________________________________________\n",
      "regression_head (Dense)         (None, 1)            1025        dropout[0][0]                    \n",
      "__________________________________________________________________________________________________\n",
      "classification_head (Dense)     (None, 5)            5125        dropout_1[0][0]                  \n",
      "__________________________________________________________________________________________________\n",
      "ordinal_head (Dense)            (None, 5)            5125        dropout_2[0][0]                  \n",
      "==================================================================================================\n",
      "Total params: 30,959,499\n",
      "Trainable params: 30,898,187\n",
      "Non-trainable params: 61,312\n",
      "__________________________________________________________________________________________________\n"
     ]
    }
   ],
   "source": [
    "# Now Unfreeze all Layers and make all layers as trainable = True\n",
    "for layer in model.layers:\n",
    "    layer.trainable = True\n",
    "model.summary()"
   ]
  },
  {
   "cell_type": "code",
   "execution_count": 102,
   "metadata": {
    "id": "8ILlLSuKSCAH"
   },
   "outputs": [],
   "source": [
    "optimizer = Adam(learning_rate=0.0004)\n",
    "\n",
    "model.compile(loss={'classification_head': categorical_focal_loss(alpha=.25, gamma=2), \n",
    "                    'regression_head': mean_squared_error,\n",
    "                    'ordinal_head' : binary_focal_loss(alpha=.25, gamma=2)\n",
    "                    },\n",
    "              optimizer=optimizer,\n",
    "              metrics=['accuracy'])"
   ]
  },
  {
   "cell_type": "code",
   "execution_count": 103,
   "metadata": {
    "colab": {
     "base_uri": "https://localhost:8080/"
    },
    "id": "zt4S1JICSOL0",
    "outputId": "31a2511b-0184-47d7-b113-57d2f86ec59e"
   },
   "outputs": [
    {
     "name": "stdout",
     "output_type": "stream",
     "text": [
      "Epoch 1/50\n",
      "  6/130 [>.............................] - ETA: 1:33 - loss: 2.1862 - regression_head_loss: 1.9547 - classification_head_loss: 0.0489 - ordinal_head_loss: 0.1826 - regression_head_accuracy: 0.3229 - classification_head_accuracy: 0.5417 - ordinal_head_accuracy: 0.8281WARNING:tensorflow:Callback method `on_train_batch_end` is slow compared to the batch time (batch time: 0.3764s vs `on_train_batch_end` time: 0.3774s). Check your callbacks.\n",
      "130/130 [==============================] - 106s 777ms/step - loss: 2.4100 - regression_head_loss: 2.1852 - classification_head_loss: 0.0450 - ordinal_head_loss: 0.1799 - regression_head_accuracy: 0.3371 - classification_head_accuracy: 0.5813 - ordinal_head_accuracy: 0.8135\n",
      "Epoch 2/50\n",
      "130/130 [==============================] - 101s 778ms/step - loss: 2.3957 - regression_head_loss: 2.1748 - classification_head_loss: 0.0430 - ordinal_head_loss: 0.1779 - regression_head_accuracy: 0.3465 - classification_head_accuracy: 0.5984 - ordinal_head_accuracy: 0.8205\n",
      "Epoch 3/50\n",
      "130/130 [==============================] - 101s 778ms/step - loss: 2.3689 - regression_head_loss: 2.1430 - classification_head_loss: 0.0437 - ordinal_head_loss: 0.1822 - regression_head_accuracy: 0.3381 - classification_head_accuracy: 0.5955 - ordinal_head_accuracy: 0.8229\n",
      "Epoch 4/50\n",
      "130/130 [==============================] - 100s 772ms/step - loss: 2.4079 - regression_head_loss: 2.1796 - classification_head_loss: 0.0443 - ordinal_head_loss: 0.1840 - regression_head_accuracy: 0.3487 - classification_head_accuracy: 0.5849 - ordinal_head_accuracy: 0.8193\n",
      "Epoch 5/50\n",
      "130/130 [==============================] - 100s 772ms/step - loss: 2.4292 - regression_head_loss: 2.2070 - classification_head_loss: 0.0445 - ordinal_head_loss: 0.1777 - regression_head_accuracy: 0.3431 - classification_head_accuracy: 0.5842 - ordinal_head_accuracy: 0.8260\n",
      "Epoch 6/50\n",
      "130/130 [==============================] - 101s 775ms/step - loss: 2.4659 - regression_head_loss: 2.2415 - classification_head_loss: 0.0450 - ordinal_head_loss: 0.1794 - regression_head_accuracy: 0.3417 - classification_head_accuracy: 0.5893 - ordinal_head_accuracy: 0.8200\n",
      "Epoch 7/50\n",
      "130/130 [==============================] - 100s 769ms/step - loss: 2.3807 - regression_head_loss: 2.1538 - classification_head_loss: 0.0443 - ordinal_head_loss: 0.1826 - regression_head_accuracy: 0.3501 - classification_head_accuracy: 0.5943 - ordinal_head_accuracy: 0.8270\n",
      "Epoch 8/50\n",
      "130/130 [==============================] - 101s 773ms/step - loss: 2.4220 - regression_head_loss: 2.1934 - classification_head_loss: 0.0445 - ordinal_head_loss: 0.1840 - regression_head_accuracy: 0.3357 - classification_head_accuracy: 0.5907 - ordinal_head_accuracy: 0.8239\n",
      "Epoch 9/50\n",
      "130/130 [==============================] - 100s 773ms/step - loss: 2.4599 - regression_head_loss: 2.2379 - classification_head_loss: 0.0451 - ordinal_head_loss: 0.1769 - regression_head_accuracy: 0.3410 - classification_head_accuracy: 0.5837 - ordinal_head_accuracy: 0.8145\n",
      "Epoch 10/50\n",
      "130/130 [==============================] - 100s 773ms/step - loss: 2.4155 - regression_head_loss: 2.1903 - classification_head_loss: 0.0452 - ordinal_head_loss: 0.1800 - regression_head_accuracy: 0.3345 - classification_head_accuracy: 0.5857 - ordinal_head_accuracy: 0.8217\n",
      "Epoch 11/50\n",
      "130/130 [==============================] - 101s 774ms/step - loss: 2.3995 - regression_head_loss: 2.1740 - classification_head_loss: 0.0448 - ordinal_head_loss: 0.1807 - regression_head_accuracy: 0.3417 - classification_head_accuracy: 0.5821 - ordinal_head_accuracy: 0.8294\n",
      "Epoch 12/50\n",
      "130/130 [==============================] - 101s 773ms/step - loss: 2.3863 - regression_head_loss: 2.1604 - classification_head_loss: 0.0434 - ordinal_head_loss: 0.1826 - regression_head_accuracy: 0.3376 - classification_head_accuracy: 0.5871 - ordinal_head_accuracy: 0.8171\n",
      "Epoch 13/50\n",
      "130/130 [==============================] - 101s 775ms/step - loss: 2.3456 - regression_head_loss: 2.1164 - classification_head_loss: 0.0464 - ordinal_head_loss: 0.1828 - regression_head_accuracy: 0.3402 - classification_head_accuracy: 0.5753 - ordinal_head_accuracy: 0.8157\n",
      "Epoch 14/50\n",
      "130/130 [==============================] - 101s 774ms/step - loss: 2.4019 - regression_head_loss: 2.1714 - classification_head_loss: 0.0456 - ordinal_head_loss: 0.1849 - regression_head_accuracy: 0.3422 - classification_head_accuracy: 0.5845 - ordinal_head_accuracy: 0.8258\n",
      "Epoch 15/50\n",
      "130/130 [==============================] - 101s 776ms/step - loss: 2.3772 - regression_head_loss: 2.1513 - classification_head_loss: 0.0444 - ordinal_head_loss: 0.1814 - regression_head_accuracy: 0.3349 - classification_head_accuracy: 0.5890 - ordinal_head_accuracy: 0.8145\n",
      "Epoch 16/50\n",
      "130/130 [==============================] - 101s 775ms/step - loss: 2.4104 - regression_head_loss: 2.1808 - classification_head_loss: 0.0447 - ordinal_head_loss: 0.1849 - regression_head_accuracy: 0.3400 - classification_head_accuracy: 0.5840 - ordinal_head_accuracy: 0.8121\n",
      "Epoch 17/50\n",
      "130/130 [==============================] - 101s 774ms/step - loss: 2.4707 - regression_head_loss: 2.2504 - classification_head_loss: 0.0444 - ordinal_head_loss: 0.1759 - regression_head_accuracy: 0.3337 - classification_head_accuracy: 0.5914 - ordinal_head_accuracy: 0.8176\n",
      "Epoch 18/50\n",
      "130/130 [==============================] - 101s 775ms/step - loss: 2.3848 - regression_head_loss: 2.1599 - classification_head_loss: 0.0451 - ordinal_head_loss: 0.1798 - regression_head_accuracy: 0.3345 - classification_head_accuracy: 0.5845 - ordinal_head_accuracy: 0.8152\n",
      "Epoch 19/50\n",
      "130/130 [==============================] - 101s 778ms/step - loss: 2.3903 - regression_head_loss: 2.1586 - classification_head_loss: 0.0452 - ordinal_head_loss: 0.1865 - regression_head_accuracy: 0.3342 - classification_head_accuracy: 0.5854 - ordinal_head_accuracy: 0.8280\n",
      "Epoch 20/50\n",
      "130/130 [==============================] - 100s 773ms/step - loss: 2.3804 - regression_head_loss: 2.1567 - classification_head_loss: 0.0452 - ordinal_head_loss: 0.1785 - regression_head_accuracy: 0.3477 - classification_head_accuracy: 0.5818 - ordinal_head_accuracy: 0.8181\n",
      "Epoch 21/50\n",
      "130/130 [==============================] - 101s 775ms/step - loss: 2.3652 - regression_head_loss: 2.1363 - classification_head_loss: 0.0473 - ordinal_head_loss: 0.1815 - regression_head_accuracy: 0.3381 - classification_head_accuracy: 0.5796 - ordinal_head_accuracy: 0.8198\n",
      "Epoch 22/50\n",
      "130/130 [==============================] - 101s 777ms/step - loss: 2.4560 - regression_head_loss: 2.2286 - classification_head_loss: 0.0463 - ordinal_head_loss: 0.1811 - regression_head_accuracy: 0.3385 - classification_head_accuracy: 0.5787 - ordinal_head_accuracy: 0.8200\n",
      "Epoch 23/50\n",
      "130/130 [==============================] - 101s 773ms/step - loss: 2.3998 - regression_head_loss: 2.1673 - classification_head_loss: 0.0452 - ordinal_head_loss: 0.1873 - regression_head_accuracy: 0.3349 - classification_head_accuracy: 0.5835 - ordinal_head_accuracy: 0.8231\n",
      "Epoch 24/50\n",
      "130/130 [==============================] - 101s 773ms/step - loss: 2.4113 - regression_head_loss: 2.1901 - classification_head_loss: 0.0447 - ordinal_head_loss: 0.1765 - regression_head_accuracy: 0.3371 - classification_head_accuracy: 0.5914 - ordinal_head_accuracy: 0.8239\n",
      "Epoch 25/50\n",
      "130/130 [==============================] - 101s 775ms/step - loss: 2.5123 - regression_head_loss: 2.2819 - classification_head_loss: 0.0458 - ordinal_head_loss: 0.1846 - regression_head_accuracy: 0.3383 - classification_head_accuracy: 0.5717 - ordinal_head_accuracy: 0.8195\n",
      "Epoch 26/50\n",
      "130/130 [==============================] - 101s 776ms/step - loss: 2.2857 - regression_head_loss: 2.0660 - classification_head_loss: 0.0438 - ordinal_head_loss: 0.1759 - regression_head_accuracy: 0.3491 - classification_head_accuracy: 0.5847 - ordinal_head_accuracy: 0.8270\n",
      "Epoch 27/50\n",
      "130/130 [==============================] - 100s 773ms/step - loss: 2.4117 - regression_head_loss: 2.1807 - classification_head_loss: 0.0448 - ordinal_head_loss: 0.1862 - regression_head_accuracy: 0.3294 - classification_head_accuracy: 0.5902 - ordinal_head_accuracy: 0.8239\n",
      "Epoch 28/50\n",
      "130/130 [==============================] - 101s 774ms/step - loss: 2.4358 - regression_head_loss: 2.2055 - classification_head_loss: 0.0447 - ordinal_head_loss: 0.1856 - regression_head_accuracy: 0.3335 - classification_head_accuracy: 0.5857 - ordinal_head_accuracy: 0.8251\n",
      "Epoch 29/50\n",
      "130/130 [==============================] - 101s 774ms/step - loss: 2.2985 - regression_head_loss: 2.0740 - classification_head_loss: 0.0448 - ordinal_head_loss: 0.1797 - regression_head_accuracy: 0.3311 - classification_head_accuracy: 0.5816 - ordinal_head_accuracy: 0.8219\n",
      "Epoch 30/50\n",
      "130/130 [==============================] - 100s 772ms/step - loss: 2.4453 - regression_head_loss: 2.2191 - classification_head_loss: 0.0440 - ordinal_head_loss: 0.1822 - regression_head_accuracy: 0.3407 - classification_head_accuracy: 0.5854 - ordinal_head_accuracy: 0.8116\n",
      "Epoch 31/50\n",
      "130/130 [==============================] - 101s 780ms/step - loss: 2.4626 - regression_head_loss: 2.2364 - classification_head_loss: 0.0453 - ordinal_head_loss: 0.1810 - regression_head_accuracy: 0.3364 - classification_head_accuracy: 0.5748 - ordinal_head_accuracy: 0.8176\n",
      "Epoch 32/50\n",
      "130/130 [==============================] - 101s 779ms/step - loss: 2.3938 - regression_head_loss: 2.1730 - classification_head_loss: 0.0425 - ordinal_head_loss: 0.1782 - regression_head_accuracy: 0.3410 - classification_head_accuracy: 0.5950 - ordinal_head_accuracy: 0.8224\n",
      "Epoch 33/50\n",
      "130/130 [==============================] - 101s 775ms/step - loss: 2.3793 - regression_head_loss: 2.1522 - classification_head_loss: 0.0444 - ordinal_head_loss: 0.1827 - regression_head_accuracy: 0.3318 - classification_head_accuracy: 0.5873 - ordinal_head_accuracy: 0.8241\n",
      "Epoch 34/50\n",
      "130/130 [==============================] - 101s 778ms/step - loss: 2.3821 - regression_head_loss: 2.1526 - classification_head_loss: 0.0447 - ordinal_head_loss: 0.1848 - regression_head_accuracy: 0.3342 - classification_head_accuracy: 0.5859 - ordinal_head_accuracy: 0.8212\n",
      "Epoch 35/50\n",
      "130/130 [==============================] - 102s 784ms/step - loss: 2.3785 - regression_head_loss: 2.1625 - classification_head_loss: 0.0438 - ordinal_head_loss: 0.1722 - regression_head_accuracy: 0.3506 - classification_head_accuracy: 0.5900 - ordinal_head_accuracy: 0.8104\n",
      "Epoch 36/50\n",
      "130/130 [==============================] - 101s 775ms/step - loss: 2.4066 - regression_head_loss: 2.1749 - classification_head_loss: 0.0460 - ordinal_head_loss: 0.1857 - regression_head_accuracy: 0.3337 - classification_head_accuracy: 0.5681 - ordinal_head_accuracy: 0.8227\n",
      "Epoch 37/50\n",
      "130/130 [==============================] - 101s 779ms/step - loss: 2.4414 - regression_head_loss: 2.2124 - classification_head_loss: 0.0453 - ordinal_head_loss: 0.1838 - regression_head_accuracy: 0.3412 - classification_head_accuracy: 0.5847 - ordinal_head_accuracy: 0.8227\n",
      "Epoch 38/50\n",
      "130/130 [==============================] - 101s 779ms/step - loss: 2.4395 - regression_head_loss: 2.2120 - classification_head_loss: 0.0461 - ordinal_head_loss: 0.1814 - regression_head_accuracy: 0.3354 - classification_head_accuracy: 0.5707 - ordinal_head_accuracy: 0.8224\n",
      "Epoch 39/50\n",
      "130/130 [==============================] - 100s 773ms/step - loss: 2.3883 - regression_head_loss: 2.1665 - classification_head_loss: 0.0435 - ordinal_head_loss: 0.1783 - regression_head_accuracy: 0.3385 - classification_head_accuracy: 0.5967 - ordinal_head_accuracy: 0.8191\n",
      "Epoch 40/50\n",
      "130/130 [==============================] - 101s 779ms/step - loss: 2.4484 - regression_head_loss: 2.2208 - classification_head_loss: 0.0438 - ordinal_head_loss: 0.1838 - regression_head_accuracy: 0.3313 - classification_head_accuracy: 0.5876 - ordinal_head_accuracy: 0.8092\n",
      "Epoch 41/50\n",
      "130/130 [==============================] - 101s 777ms/step - loss: 2.4276 - regression_head_loss: 2.2009 - classification_head_loss: 0.0438 - ordinal_head_loss: 0.1829 - regression_head_accuracy: 0.3407 - classification_head_accuracy: 0.5840 - ordinal_head_accuracy: 0.8130\n",
      "Epoch 42/50\n",
      "130/130 [==============================] - 101s 775ms/step - loss: 2.3977 - regression_head_loss: 2.1724 - classification_head_loss: 0.0444 - ordinal_head_loss: 0.1808 - regression_head_accuracy: 0.3349 - classification_head_accuracy: 0.5917 - ordinal_head_accuracy: 0.8231\n",
      "Epoch 43/50\n",
      "130/130 [==============================] - 101s 780ms/step - loss: 2.4366 - regression_head_loss: 2.2164 - classification_head_loss: 0.0434 - ordinal_head_loss: 0.1769 - regression_head_accuracy: 0.3414 - classification_head_accuracy: 0.5934 - ordinal_head_accuracy: 0.8231\n",
      "Epoch 44/50\n",
      "130/130 [==============================] - 101s 777ms/step - loss: 2.3644 - regression_head_loss: 2.1396 - classification_head_loss: 0.0436 - ordinal_head_loss: 0.1813 - regression_head_accuracy: 0.3383 - classification_head_accuracy: 0.5953 - ordinal_head_accuracy: 0.8179\n",
      "Epoch 45/50\n",
      "130/130 [==============================] - 101s 776ms/step - loss: 2.4445 - regression_head_loss: 2.2210 - classification_head_loss: 0.0444 - ordinal_head_loss: 0.1790 - regression_head_accuracy: 0.3388 - classification_head_accuracy: 0.5914 - ordinal_head_accuracy: 0.8224\n",
      "Epoch 46/50\n",
      "130/130 [==============================] - 101s 776ms/step - loss: 2.3970 - regression_head_loss: 2.1715 - classification_head_loss: 0.0448 - ordinal_head_loss: 0.1807 - regression_head_accuracy: 0.3410 - classification_head_accuracy: 0.5849 - ordinal_head_accuracy: 0.8152\n",
      "Epoch 47/50\n",
      "130/130 [==============================] - 101s 778ms/step - loss: 2.4064 - regression_head_loss: 2.1810 - classification_head_loss: 0.0442 - ordinal_head_loss: 0.1812 - regression_head_accuracy: 0.3448 - classification_head_accuracy: 0.5878 - ordinal_head_accuracy: 0.8118\n",
      "Epoch 48/50\n",
      "130/130 [==============================] - 101s 779ms/step - loss: 2.4366 - regression_head_loss: 2.2148 - classification_head_loss: 0.0447 - ordinal_head_loss: 0.1771 - regression_head_accuracy: 0.3400 - classification_head_accuracy: 0.5845 - ordinal_head_accuracy: 0.8193\n",
      "Epoch 49/50\n",
      "130/130 [==============================] - 102s 781ms/step - loss: 2.3952 - regression_head_loss: 2.1674 - classification_head_loss: 0.0450 - ordinal_head_loss: 0.1828 - regression_head_accuracy: 0.3429 - classification_head_accuracy: 0.5806 - ordinal_head_accuracy: 0.8135\n",
      "Epoch 50/50\n",
      "130/130 [==============================] - 101s 778ms/step - loss: 2.3906 - regression_head_loss: 2.1611 - classification_head_loss: 0.0446 - ordinal_head_loss: 0.1849 - regression_head_accuracy: 0.3383 - classification_head_accuracy: 0.5787 - ordinal_head_accuracy: 0.8270\n"
     ]
    }
   ],
   "source": [
    "history2 = model.fit_generator(generator=train_generator_2019, steps_per_epoch=STEP_SIZE_TRAIN, epochs=50, callbacks=callback_list)\n",
    "model.save('/content/d/model_main_training1.h5')"
   ]
  },
  {
   "cell_type": "code",
   "execution_count": 110,
   "metadata": {
    "colab": {
     "base_uri": "https://localhost:8080/",
     "height": 295
    },
    "id": "rhAY5uf7ppzG",
    "outputId": "1030fafe-1881-4410-bc67-6b121dd1f2ae"
   },
   "outputs": [
    {
     "data": {
      "image/png": "[encoded data removed]",
      "text/plain": [
       "<Figure size 432x288 with 1 Axes>"
      ]
     },
     "metadata": {
      "needs_background": "light"
     },
     "output_type": "display_data"
    }
   ],
   "source": [
    "plt.plot(history2.history['regression_head_loss'])\n",
    "plt.title('Regression Head Loss - Main Training')\n",
    "plt.ylabel('Loss (MAE)')\n",
    "plt.xlabel('Epoch')\n",
    "plt.legend(['Train'], loc='best')\n",
    "plt.xticks(range(1,50))\n",
    "plt.gca().ticklabel_format(axis='both', style='plain', useOffset=False)\n",
    "plt.show()"
   ]
  },
  {
   "cell_type": "code",
   "execution_count": 111,
   "metadata": {
    "colab": {
     "base_uri": "https://localhost:8080/",
     "height": 295
    },
    "id": "jtLnMgQAp0yG",
    "outputId": "eacd4fc1-0c41-4f0b-f7cb-cbb0e9c2dc7d"
   },
   "outputs": [
    {
     "data": {
      "image/png": "[encoded data removed]",
      "text/plain": [
       "<Figure size 432x288 with 1 Axes>"
      ]
     },
     "metadata": {
      "needs_background": "light"
     },
     "output_type": "display_data"
    }
   ],
   "source": [
    "plt.plot(history2.history['classification_head_loss'])\n",
    "plt.title('classification Head Loss - Main Training')\n",
    "plt.ylabel('Loss (Categorical Cross Entropy)')\n",
    "plt.xlabel('Epoch')\n",
    "plt.legend(['Train'], loc='best')\n",
    "plt.xticks(range(1,50))\n",
    "plt.gca().ticklabel_format(axis='both', style='plain', useOffset=False)\n",
    "plt.show()"
   ]
  },
  {
   "cell_type": "code",
   "execution_count": 112,
   "metadata": {
    "colab": {
     "base_uri": "https://localhost:8080/",
     "height": 295
    },
    "id": "d7EJ1YZ8p6P_",
    "outputId": "e80e6cbb-9f53-4bd0-bdc0-f2653051c249"
   },
   "outputs": [
    {
     "data": {
      "image/png": "[encoded data removed]",
      "text/plain": [
       "<Figure size 432x288 with 1 Axes>"
      ]
     },
     "metadata": {
      "needs_background": "light"
     },
     "output_type": "display_data"
    }
   ],
   "source": [
    "plt.plot(history2.history['ordinal_head_loss'])\n",
    "plt.title('Ordinal Head Loss - Main Training')\n",
    "plt.ylabel('Loss (Binary Cross Entropy)')\n",
    "plt.xlabel('Epoch')\n",
    "plt.legend(['Train'], loc='best')\n",
    "plt.xticks(range(1,50))\n",
    "plt.gca().ticklabel_format(axis='both', style='plain', useOffset=False)\n",
    "plt.show()"
   ]
  },
  {
   "cell_type": "markdown",
   "metadata": {
    "id": "HlpyqoGJTC3Q"
   },
   "source": [
    "**Stage 3 - Post Training on 2019 APTOS, MESSIDOR & IDRiD prprocessed fundus images**"
   ]
  },
  {
   "cell_type": "code",
   "execution_count": 121,
   "metadata": {
    "colab": {
     "base_uri": "https://localhost:8080/"
    },
    "id": "re21ikWy5cVW",
    "outputId": "50c60a92-fe24-4d45-91ff-47f9f0935835"
   },
   "outputs": [
    {
     "name": "stdout",
     "output_type": "stream",
     "text": [
      "Found 4188 validated image filenames.\n",
      "Found 1047 validated image filenames.\n"
     ]
    }
   ],
   "source": [
    "# reference URL - https://vijayabhaskar96.medium.com/tutorial-on-keras-flow-from-dataframe-1fd4493d237c\n",
    "\n",
    "datagen=ImageDataGenerator(rescale=1./255., validation_split=0.0, rotation_range=180 , fill_mode='constant', cval=0.0, brightness_range = [0.25 , 1.25], \n",
    "                           width_shift_range=0.1, height_shift_range=0.1, channel_shift_range = 0.1, horizontal_flip=True, vertical_flip=True)\n",
    "\n",
    "train_pred_2019 = datagen.flow_from_dataframe(dataframe=X_train, directory=None, x_col=\"path\", \n",
    "                batch_size=1, shuffle=False, class_mode=None, target_size=(320,320))\n",
    "\n",
    "test_pred_2019=datagen.flow_from_dataframe(dataframe=X_test, directory=None, x_col=\"path\", \n",
    "                batch_size=1, shuffle=False, class_mode=None, target_size=(320,320))"
   ]
  },
  {
   "cell_type": "markdown",
   "metadata": {
    "id": "8dDm1mwjTNl2"
   },
   "source": [
    "**Prediction of Y labels on train & test fundus images using Main model**"
   ]
  },
  {
   "cell_type": "code",
   "execution_count": 122,
   "metadata": {
    "id": "bGdAMU5-wR9c"
   },
   "outputs": [],
   "source": [
    "train_y_pred= model.predict_generator(train_pred_2019, steps=len(X_train))"
   ]
  },
  {
   "cell_type": "code",
   "execution_count": 124,
   "metadata": {
    "id": "KVUsgKUMwldQ"
   },
   "outputs": [],
   "source": [
    "test_y_pred= model.predict_generator(test_pred_2019, steps=len(X_test))"
   ]
  },
  {
   "cell_type": "code",
   "execution_count": 125,
   "metadata": {
    "id": "HVpEmpB_x-ko"
   },
   "outputs": [],
   "source": [
    "train_class = np.array(np.argmax(train_y_pred[1],axis = -1)).reshape(-1,1)\n",
    "train_reg = np.array(train_y_pred[0]).reshape(-1,1)\n",
    "train_ordinal = np.array(np.argmax(train_y_pred[2],axis = -1)).reshape(-1,1)"
   ]
  },
  {
   "cell_type": "code",
   "execution_count": 134,
   "metadata": {
    "id": "aa2haKgS0qKE"
   },
   "outputs": [],
   "source": [
    "test_class = np.array(np.argmax(test_y_pred[1],axis = -1)).reshape(-1,1)\n",
    "test_reg = np.array(test_y_pred[0]).reshape(-1,1)\n",
    "test_ordinal = np.array(np.argmax(test_y_pred[2],axis = -1)).reshape(-1,1)"
   ]
  },
  {
   "cell_type": "markdown",
   "metadata": {
    "id": "ir9ioM_4TWQy"
   },
   "source": [
    "**Concatinating the classification, regression & ordinal outputs for training & test data**"
   ]
  },
  {
   "cell_type": "code",
   "execution_count": 138,
   "metadata": {
    "id": "Qrh9znll2SF8"
   },
   "outputs": [],
   "source": [
    "X_train_final = np.hstack((train_reg,train_class,train_ordinal))\n",
    "X_test_final = np.hstack((test_reg,test_class, test_ordinal))"
   ]
  },
  {
   "cell_type": "markdown",
   "metadata": {
    "id": "iVJsI1tVTjYU"
   },
   "source": [
    "**Building simple linear model to predict the final output**"
   ]
  },
  {
   "cell_type": "code",
   "execution_count": 198,
   "metadata": {
    "id": "3PMSHkvJ0yei"
   },
   "outputs": [],
   "source": [
    "tf.keras.backend.clear_session()\n",
    "input_layer_final = Input(shape=(3,))\n",
    "dense_final = Dense(1,activation = 'linear')(input_layer_final)\n",
    "\n",
    "final_model = Model(inputs = input_layer_final, outputs = dense_final)"
   ]
  },
  {
   "cell_type": "code",
   "execution_count": 199,
   "metadata": {
    "colab": {
     "base_uri": "https://localhost:8080/"
    },
    "id": "UpvvpMMp2PLF",
    "outputId": "69c56a1a-442b-48d5-eac2-c8f71de74ba2"
   },
   "outputs": [
    {
     "name": "stdout",
     "output_type": "stream",
     "text": [
      "Model: \"model\"\n",
      "_________________________________________________________________\n",
      "Layer (type)                 Output Shape              Param #   \n",
      "=================================================================\n",
      "input_1 (InputLayer)         [(None, 3)]               0         \n",
      "_________________________________________________________________\n",
      "dense (Dense)                (None, 1)                 4         \n",
      "=================================================================\n",
      "Total params: 4\n",
      "Trainable params: 4\n",
      "Non-trainable params: 0\n",
      "_________________________________________________________________\n"
     ]
    }
   ],
   "source": [
    "optimizer = SGD(learning_rate=0.0004)\n",
    "final_model.compile(loss=mean_squared_error, optimizer=optimizer, metrics=['mean_squared_error'])\n",
    "final_model.summary()"
   ]
  },
  {
   "cell_type": "code",
   "execution_count": 200,
   "metadata": {
    "colab": {
     "base_uri": "https://localhost:8080/"
    },
    "id": "YqWvCPJ33DbU",
    "outputId": "cda2523d-d8cd-487f-cbf3-b1c9f87649e6"
   },
   "outputs": [
    {
     "name": "stdout",
     "output_type": "stream",
     "text": [
      "Epoch 1/50\n",
      "131/131 [==============================] - 1s 2ms/step - loss: 1.2634 - mean_squared_error: 1.2634 - val_loss: 1.0966 - val_mean_squared_error: 1.0966\n",
      "Epoch 2/50\n",
      "131/131 [==============================] - 0s 2ms/step - loss: 0.9654 - mean_squared_error: 0.9654 - val_loss: 0.9274 - val_mean_squared_error: 0.9274\n",
      "Epoch 3/50\n",
      "131/131 [==============================] - 0s 2ms/step - loss: 0.8547 - mean_squared_error: 0.8547 - val_loss: 0.8675 - val_mean_squared_error: 0.8675\n",
      "Epoch 4/50\n",
      "131/131 [==============================] - 0s 2ms/step - loss: 0.8131 - mean_squared_error: 0.8131 - val_loss: 0.8457 - val_mean_squared_error: 0.8457\n",
      "Epoch 5/50\n",
      "131/131 [==============================] - 0s 2ms/step - loss: 0.7968 - mean_squared_error: 0.7968 - val_loss: 0.8376 - val_mean_squared_error: 0.8376\n",
      "Epoch 6/50\n",
      "131/131 [==============================] - 0s 2ms/step - loss: 0.7902 - mean_squared_error: 0.7902 - val_loss: 0.8347 - val_mean_squared_error: 0.8347\n",
      "Epoch 7/50\n",
      "131/131 [==============================] - 0s 2ms/step - loss: 0.7871 - mean_squared_error: 0.7871 - val_loss: 0.8334 - val_mean_squared_error: 0.8334\n",
      "Epoch 8/50\n",
      "131/131 [==============================] - 0s 2ms/step - loss: 0.7854 - mean_squared_error: 0.7854 - val_loss: 0.8327 - val_mean_squared_error: 0.8327\n",
      "Epoch 9/50\n",
      "131/131 [==============================] - 0s 2ms/step - loss: 0.7844 - mean_squared_error: 0.7844 - val_loss: 0.8322 - val_mean_squared_error: 0.8322\n",
      "Epoch 10/50\n",
      "131/131 [==============================] - 0s 2ms/step - loss: 0.7836 - mean_squared_error: 0.7836 - val_loss: 0.8317 - val_mean_squared_error: 0.8317\n",
      "Epoch 11/50\n",
      "131/131 [==============================] - 0s 2ms/step - loss: 0.7829 - mean_squared_error: 0.7829 - val_loss: 0.8312 - val_mean_squared_error: 0.8312\n",
      "Epoch 12/50\n",
      "131/131 [==============================] - 0s 2ms/step - loss: 0.7823 - mean_squared_error: 0.7823 - val_loss: 0.8307 - val_mean_squared_error: 0.8307\n",
      "Epoch 13/50\n",
      "131/131 [==============================] - 0s 2ms/step - loss: 0.7817 - mean_squared_error: 0.7817 - val_loss: 0.8303 - val_mean_squared_error: 0.8303\n",
      "Epoch 14/50\n",
      "131/131 [==============================] - 0s 2ms/step - loss: 0.7812 - mean_squared_error: 0.7812 - val_loss: 0.8300 - val_mean_squared_error: 0.8300\n",
      "Epoch 15/50\n",
      "131/131 [==============================] - 0s 2ms/step - loss: 0.7807 - mean_squared_error: 0.7807 - val_loss: 0.8295 - val_mean_squared_error: 0.8295\n",
      "Epoch 16/50\n",
      "131/131 [==============================] - 0s 2ms/step - loss: 0.7803 - mean_squared_error: 0.7803 - val_loss: 0.8291 - val_mean_squared_error: 0.8291\n",
      "Epoch 17/50\n",
      "131/131 [==============================] - 0s 2ms/step - loss: 0.7798 - mean_squared_error: 0.7798 - val_loss: 0.8288 - val_mean_squared_error: 0.8288\n",
      "Epoch 18/50\n",
      "131/131 [==============================] - 0s 2ms/step - loss: 0.7794 - mean_squared_error: 0.7794 - val_loss: 0.8284 - val_mean_squared_error: 0.8284\n",
      "Epoch 19/50\n",
      "131/131 [==============================] - 0s 2ms/step - loss: 0.7790 - mean_squared_error: 0.7790 - val_loss: 0.8281 - val_mean_squared_error: 0.8281\n",
      "Epoch 20/50\n",
      "131/131 [==============================] - 0s 2ms/step - loss: 0.7787 - mean_squared_error: 0.7787 - val_loss: 0.8278 - val_mean_squared_error: 0.8278\n",
      "Epoch 21/50\n",
      "131/131 [==============================] - 0s 2ms/step - loss: 0.7783 - mean_squared_error: 0.7783 - val_loss: 0.8275 - val_mean_squared_error: 0.8275\n",
      "Epoch 22/50\n",
      "131/131 [==============================] - 0s 2ms/step - loss: 0.7780 - mean_squared_error: 0.7780 - val_loss: 0.8273 - val_mean_squared_error: 0.8273\n",
      "Epoch 23/50\n",
      "131/131 [==============================] - 0s 2ms/step - loss: 0.7777 - mean_squared_error: 0.7777 - val_loss: 0.8269 - val_mean_squared_error: 0.8269\n",
      "Epoch 24/50\n",
      "131/131 [==============================] - 0s 2ms/step - loss: 0.7774 - mean_squared_error: 0.7774 - val_loss: 0.8267 - val_mean_squared_error: 0.8267\n",
      "Epoch 25/50\n",
      "131/131 [==============================] - 0s 2ms/step - loss: 0.7771 - mean_squared_error: 0.7771 - val_loss: 0.8265 - val_mean_squared_error: 0.8265\n",
      "Epoch 26/50\n",
      "131/131 [==============================] - 0s 2ms/step - loss: 0.7769 - mean_squared_error: 0.7769 - val_loss: 0.8262 - val_mean_squared_error: 0.8262\n",
      "Epoch 27/50\n",
      "131/131 [==============================] - 0s 2ms/step - loss: 0.7766 - mean_squared_error: 0.7766 - val_loss: 0.8260 - val_mean_squared_error: 0.8260\n",
      "Epoch 28/50\n",
      "131/131 [==============================] - 0s 2ms/step - loss: 0.7764 - mean_squared_error: 0.7764 - val_loss: 0.8257 - val_mean_squared_error: 0.8257\n",
      "Epoch 29/50\n",
      "131/131 [==============================] - 0s 2ms/step - loss: 0.7761 - mean_squared_error: 0.7761 - val_loss: 0.8255 - val_mean_squared_error: 0.8255\n",
      "Epoch 30/50\n",
      "131/131 [==============================] - 0s 2ms/step - loss: 0.7759 - mean_squared_error: 0.7759 - val_loss: 0.8254 - val_mean_squared_error: 0.8254\n",
      "Epoch 31/50\n",
      "131/131 [==============================] - 0s 2ms/step - loss: 0.7757 - mean_squared_error: 0.7757 - val_loss: 0.8252 - val_mean_squared_error: 0.8252\n",
      "Epoch 32/50\n",
      "131/131 [==============================] - 0s 2ms/step - loss: 0.7755 - mean_squared_error: 0.7755 - val_loss: 0.8250 - val_mean_squared_error: 0.8250\n",
      "Epoch 33/50\n",
      "131/131 [==============================] - 0s 2ms/step - loss: 0.7753 - mean_squared_error: 0.7753 - val_loss: 0.8249 - val_mean_squared_error: 0.8249\n",
      "Epoch 34/50\n",
      "131/131 [==============================] - 0s 2ms/step - loss: 0.7751 - mean_squared_error: 0.7751 - val_loss: 0.8247 - val_mean_squared_error: 0.8247\n",
      "Epoch 35/50\n",
      "131/131 [==============================] - 0s 2ms/step - loss: 0.7749 - mean_squared_error: 0.7749 - val_loss: 0.8245 - val_mean_squared_error: 0.8245\n",
      "Epoch 36/50\n",
      "131/131 [==============================] - 0s 2ms/step - loss: 0.7748 - mean_squared_error: 0.7748 - val_loss: 0.8244 - val_mean_squared_error: 0.8244\n",
      "Epoch 37/50\n",
      "131/131 [==============================] - 0s 2ms/step - loss: 0.7745 - mean_squared_error: 0.7745 - val_loss: 0.8243 - val_mean_squared_error: 0.8243\n",
      "Epoch 38/50\n",
      "131/131 [==============================] - 0s 2ms/step - loss: 0.7744 - mean_squared_error: 0.7744 - val_loss: 0.8242 - val_mean_squared_error: 0.8242\n",
      "Epoch 39/50\n",
      "131/131 [==============================] - 0s 2ms/step - loss: 0.7742 - mean_squared_error: 0.7742 - val_loss: 0.8241 - val_mean_squared_error: 0.8241\n",
      "Epoch 40/50\n",
      "131/131 [==============================] - 0s 2ms/step - loss: 0.7741 - mean_squared_error: 0.7741 - val_loss: 0.8238 - val_mean_squared_error: 0.8238\n",
      "Epoch 41/50\n",
      "131/131 [==============================] - 0s 2ms/step - loss: 0.7739 - mean_squared_error: 0.7739 - val_loss: 0.8237 - val_mean_squared_error: 0.8237\n",
      "Epoch 42/50\n",
      "131/131 [==============================] - 0s 2ms/step - loss: 0.7738 - mean_squared_error: 0.7738 - val_loss: 0.8236 - val_mean_squared_error: 0.8236\n",
      "Epoch 43/50\n",
      "131/131 [==============================] - 0s 2ms/step - loss: 0.7737 - mean_squared_error: 0.7737 - val_loss: 0.8235 - val_mean_squared_error: 0.8235\n",
      "Epoch 44/50\n",
      "131/131 [==============================] - 0s 2ms/step - loss: 0.7735 - mean_squared_error: 0.7735 - val_loss: 0.8233 - val_mean_squared_error: 0.8233\n",
      "Epoch 45/50\n",
      "131/131 [==============================] - 0s 2ms/step - loss: 0.7734 - mean_squared_error: 0.7734 - val_loss: 0.8232 - val_mean_squared_error: 0.8232\n",
      "Epoch 46/50\n",
      "131/131 [==============================] - 0s 2ms/step - loss: 0.7733 - mean_squared_error: 0.7733 - val_loss: 0.8231 - val_mean_squared_error: 0.8231\n",
      "Epoch 47/50\n",
      "131/131 [==============================] - 0s 2ms/step - loss: 0.7731 - mean_squared_error: 0.7731 - val_loss: 0.8230 - val_mean_squared_error: 0.8230\n",
      "Epoch 48/50\n",
      "131/131 [==============================] - 0s 2ms/step - loss: 0.7730 - mean_squared_error: 0.7730 - val_loss: 0.8229 - val_mean_squared_error: 0.8229\n",
      "Epoch 49/50\n",
      "131/131 [==============================] - 0s 2ms/step - loss: 0.7729 - mean_squared_error: 0.7729 - val_loss: 0.8228 - val_mean_squared_error: 0.8228\n",
      "Epoch 50/50\n",
      "131/131 [==============================] - 0s 2ms/step - loss: 0.7728 - mean_squared_error: 0.7728 - val_loss: 0.8226 - val_mean_squared_error: 0.8226\n"
     ]
    }
   ],
   "source": [
    "history3 = final_model.fit(X_train_final,y_train.astype(int), batch_size=32, epochs=50, validation_data = (X_test_final,y_test.astype(int)), verbose=1)\n",
    "final_model.save(\"/content/d/final_model.h5\")"
   ]
  },
  {
   "cell_type": "code",
   "execution_count": 201,
   "metadata": {
    "colab": {
     "base_uri": "https://localhost:8080/",
     "height": 295
    },
    "id": "-RO-aISAvMvI",
    "outputId": "adf499a7-3ccd-4dfe-bb55-347b61bf3777"
   },
   "outputs": [
    {
     "data": {
      "image/png": "[encoded data removed]",
      "text/plain": [
       "<Figure size 432x288 with 1 Axes>"
      ]
     },
     "metadata": {
      "needs_background": "light"
     },
     "output_type": "display_data"
    }
   ],
   "source": [
    "# code reference - https://github.com/debayanmitra1993-data/Blindness-Detection-Diabetic-Retinopathy-/blob/master/research_paper_implementation.ipynb\n",
    "plt.plot(history3.history['loss'])\n",
    "plt.plot(history3.history['val_loss'])\n",
    "plt.title('Linear Regression Model Loss - Post Training')\n",
    "plt.ylabel('Loss (MSE)')\n",
    "plt.xlabel('Epoch')\n",
    "plt.legend(['Train', 'Validation'], loc='best')\n",
    "plt.xticks(range(1,51))\n",
    "plt.gca().ticklabel_format(axis='both', style='plain', useOffset=False)\n",
    "plt.show()"
   ]
  },
  {
   "cell_type": "markdown",
   "metadata": {
    "id": "I_U7l_2lT7eW"
   },
   "source": [
    "**Mapping of output to DR grades**"
   ]
  },
  {
   "cell_type": "code",
   "execution_count": 202,
   "metadata": {
    "id": "2hAZtl3L4_a9"
   },
   "outputs": [],
   "source": [
    "# ref- https://github.com/dimitreOliveira/APTOS2019BlindnessDetection/blob/master/Model%20backlog/ResNet50/63%20-%20ResNet50%20-%20Regression%20-%20RGB%20scale.ipynb\n",
    "'''This Function does nearest integer rounding for regression output from the post training model'''\n",
    "\n",
    "def classify(x):\n",
    "    if x < 0.5:\n",
    "        return 0\n",
    "    if x < 1.5:\n",
    "        return 1\n",
    "    if x < 2.5:\n",
    "        return 2\n",
    "    if x < 3.5:\n",
    "        return 3\n",
    "    return 4"
   ]
  },
  {
   "cell_type": "code",
   "execution_count": 203,
   "metadata": {
    "colab": {
     "base_uri": "https://localhost:8080/"
    },
    "id": "GAd4P3Gg6anO",
    "outputId": "b0d1d1fe-8ebb-4959-a659-9c7aeb3f3da2"
   },
   "outputs": [
    {
     "name": "stdout",
     "output_type": "stream",
     "text": [
      "4188/4188 [==============================] - 3s 651us/step\n"
     ]
    }
   ],
   "source": [
    "train_labels = final_model.predict(X_train_final,batch_size=1,verbose = 1)\n",
    "train_labels1 = np.apply_along_axis(classify, 1, train_labels)"
   ]
  },
  {
   "cell_type": "code",
   "execution_count": 204,
   "metadata": {
    "colab": {
     "base_uri": "https://localhost:8080/"
    },
    "id": "UjRa4otxxExs",
    "outputId": "ba1a8d39-16b5-406c-a278-997d31d2f7f4"
   },
   "outputs": [
    {
     "name": "stdout",
     "output_type": "stream",
     "text": [
      "1047/1047 [==============================] - 1s 647us/step\n"
     ]
    }
   ],
   "source": [
    "test_labels = final_model.predict(X_test_final,batch_size=1,verbose = 1)\n",
    "test_labels1 = np.apply_along_axis(classify, 1, test_labels)"
   ]
  },
  {
   "cell_type": "markdown",
   "metadata": {
    "id": "AFLh19UHUBaR"
   },
   "source": [
    "**Calculating Cohen kappa & Macro F1 score for training and test images**"
   ]
  },
  {
   "cell_type": "code",
   "execution_count": 205,
   "metadata": {
    "colab": {
     "base_uri": "https://localhost:8080/"
    },
    "id": "LJtXLIrvzsof",
    "outputId": "a4e82b08-e9d1-4950-95e7-96852f3a023f"
   },
   "outputs": [
    {
     "name": "stdout",
     "output_type": "stream",
     "text": [
      "Quadratic Cohen kappa score of VGG model on train data is: 0.672\n"
     ]
    }
   ],
   "source": [
    "print(\"Quadratic Cohen kappa score of VGG model on train data is: %.3f\" % cohen_kappa_score(train_labels1, y_train.astype(int), weights='quadratic'))"
   ]
  },
  {
   "cell_type": "code",
   "execution_count": 206,
   "metadata": {
    "colab": {
     "base_uri": "https://localhost:8080/"
    },
    "id": "vmNgWlj_z3Wi",
    "outputId": "cbea1454-7fa2-4a70-97a7-7dd545a8836f"
   },
   "outputs": [
    {
     "name": "stdout",
     "output_type": "stream",
     "text": [
      "Quadratic Cohen kappa score of VGG model on test data is: 0.642\n"
     ]
    }
   ],
   "source": [
    "print(\"Quadratic Cohen kappa score of VGG model on test data is: %.3f\" % cohen_kappa_score(test_labels1, y_test.astype(int), weights='quadratic'))"
   ]
  },
  {
   "cell_type": "code",
   "execution_count": 207,
   "metadata": {
    "colab": {
     "base_uri": "https://localhost:8080/",
     "height": 516
    },
    "id": "pUkBff4FQzBN",
    "outputId": "77e36c43-53ae-4a4c-a948-15295c0e6db3"
   },
   "outputs": [
    {
     "name": "stdout",
     "output_type": "stream",
     "text": [
      "Classification Report : \n",
      "               precision    recall  f1-score   support\n",
      "\n",
      "           0       0.86      0.60      0.71       488\n",
      "           1       0.18      0.44      0.25       120\n",
      "           2       0.54      0.59      0.56       292\n",
      "           3       0.18      0.21      0.20        71\n",
      "           4       0.25      0.01      0.03        76\n",
      "\n",
      "    accuracy                           0.51      1047\n",
      "   macro avg       0.40      0.37      0.35      1047\n",
      "weighted avg       0.60      0.51      0.53      1047\n",
      "\n"
     ]
    },
    {
     "data": {
      "image/png": "[encoded data removed]",
      "text/plain": [
       "<Figure size 432x288 with 2 Axes>"
      ]
     },
     "metadata": {
      "needs_background": "light"
     },
     "output_type": "display_data"
    }
   ],
   "source": [
    "print ('Classification Report : \\n', classification_report(y_test.astype('int'), test_labels1))\n",
    "sns.heatmap(confusion_matrix(y_test.astype('int'), test_labels1), annot=True, fmt=\"d\");\n",
    "plt.title(\"Confusion matrix\")\n",
    "plt.ylabel('Actual class')\n",
    "plt.xlabel('Predicted class')\n",
    "plt.show()"
   ]
  }
 ],
 "metadata": {
  "accelerator": "GPU",
  "colab": {
   "collapsed_sections": [],
   "machine_shape": "hm",
   "name": "DL_new_Model.ipynb",
   "provenance": []
  },
  "kernelspec": {
   "display_name": "Python 3",
   "language": "python",
   "name": "python3"
  },
  "language_info": {
   "codemirror_mode": {
    "name": "ipython",
    "version": 3
   },
   "file_extension": ".py",
   "mimetype": "text/x-python",
   "name": "python",
   "nbconvert_exporter": "python",
   "pygments_lexer": "ipython3",
   "version": "3.8.3"
  }
 },
 "nbformat": 4,
 "nbformat_minor": 1
}
